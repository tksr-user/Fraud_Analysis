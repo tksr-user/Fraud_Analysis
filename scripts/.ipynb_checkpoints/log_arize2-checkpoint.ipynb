{
 "cells": [
  {
   "cell_type": "code",
   "execution_count": null,
   "id": "43b12972-1951-4978-a171-2627b3ee9647",
   "metadata": {},
   "outputs": [
    {
     "data": {
      "application/vnd.jupyter.widget-view+json": {
       "model_id": "1eb7d868d2264c8a8aff17a28190656f",
       "version_major": 2,
       "version_minor": 0
      },
      "text/plain": [
       "Downloading artifacts:   0%|          | 0/1 [00:00<?, ?it/s]"
      ]
     },
     "metadata": {},
     "output_type": "display_data"
    },
    {
     "data": {
      "application/vnd.jupyter.widget-view+json": {
       "model_id": "901b5bbd498a4352908c9f4f975c112f",
       "version_major": 2,
       "version_minor": 0
      },
      "text/plain": [
       "Downloading artifacts:   0%|          | 0/5 [00:00<?, ?it/s]"
      ]
     },
     "metadata": {},
     "output_type": "display_data"
    }
   ],
   "source": [
    "import os\n",
    "import joblib\n",
    "import pandas as pd\n",
    "import mlflow\n",
    "from arize.pandas.logger import Client\n",
    "from arize.utils.types import ModelTypes, Environments, Schema\n",
    "\n",
    "# ✅ Step 1: Load artifacts\n",
    "mlflow.set_tracking_uri(\"http://127.0.0.1:5000\")\n",
    "run_id = \"35d931bc1f564dd38b32ee6e3bb30242\"\n",
    "\n",
    "# ✅ Step 2: Download model.pkl artifact and load it\n",
    "local_model_path = mlflow.artifacts.download_artifacts(run_id=run_id, artifact_path=\"model.pkl\")\n",
    "model = joblib.load(local_model_path)\n",
    "print(\"✅ Model loaded from model.pkl\")\n",
    "\n",
    "# ✅ Load features\n",
    "X_test = pd.read_parquet(\"data/X_test.parquet\")\n",
    "y_test = pd.read_parquet(\"data/y_test.parquet\").squeeze()  # Convert to Series if needed\n",
    "\n",
    "# ✅ Ensure features match training\n",
    "feature_names = joblib.load(\"artifacts/feature_names.pkl\")\n",
    "X_test = X_test[feature_names]\n",
    "\n",
    "# ✅ Predict\n",
    "preds = model.predict(X_test)\n",
    "\n",
    "# ✅ Prepare dataframe for Arize\n",
    "df = X_test.copy()\n",
    "df[\"prediction_id\"] = [f\"id_{i}\" for i in range(len(X_test))]\n",
    "df[\"prediction_label\"] = preds\n",
    "df[\"actual_label\"] = y_test.reset_index(drop=True)\n",
    "df[\"timestamp\"] = pd.Timestamp.now()\n",
    "\n",
    "# ✅ Arize setup\n",
    "ARIZE_API_KEY = \"ak-8c93aa68-e105-4c23-b977-4ffb437fe7a5-rZPuli0UaGIrRAJ3x-OkK1sg_l5e5mFT\"\n",
    "ARIZE_SPACE_KEY =\"U3BhY2U6MjM3MTI6RThBTQ==\"\n",
    "\n",
    "client = Client(space_key=ARIZE_SPACE_KEY, api_key=ARIZE_API_KEY)\n",
    "\n",
    "# ✅ Define Schema\n",
    "schema = Schema(\n",
    "    prediction_id_column_name=\"prediction_id\",\n",
    "    prediction_label_column_name=\"prediction_label\",\n",
    "    actual_label_column_name=\"actual_label\",\n",
    "    timestamp_column_name=\"timestamp\"\n",
    ")\n",
    "\n",
    "# ✅ Log to Arize\n",
    "response = client.log(\n",
    "    dataframe=df,\n",
    "    model_id=\"fraud-logistic-v1\",  # Change if needed\n",
    "    model_version=run_id,\n",
    "    model_type=ModelTypes.BINARY,\n",
    "    environment=Environments.TEST,\n",
    "    schema=schema,\n",
    ")\n",
    "\n",
    "print(\"✅ Arize log status:\", response.status_code)\n",
    "print(\"✅ Arize response:\", response.text)\n"
   ]
  },
  {
   "cell_type": "code",
   "execution_count": null,
   "id": "a041b8e7-13cc-4510-befa-b6a0730ba401",
   "metadata": {},
   "outputs": [],
   "source": []
  }
 ],
 "metadata": {
  "kernelspec": {
   "display_name": "Python 3 (ipykernel)",
   "language": "python",
   "name": "python3"
  },
  "language_info": {
   "codemirror_mode": {
    "name": "ipython",
    "version": 3
   },
   "file_extension": ".py",
   "mimetype": "text/x-python",
   "name": "python",
   "nbconvert_exporter": "python",
   "pygments_lexer": "ipython3",
   "version": "3.11.9"
  }
 },
 "nbformat": 4,
 "nbformat_minor": 5
}
