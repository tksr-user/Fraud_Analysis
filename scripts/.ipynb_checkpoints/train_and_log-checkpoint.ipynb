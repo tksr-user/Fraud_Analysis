{
 "cells": [
  {
   "cell_type": "code",
   "execution_count": null,
   "id": "7ededda6-9e01-4a2c-a69e-1530d4641e59",
   "metadata": {
    "scrolled": true
   },
   "outputs": [
    {
     "name": "stdout",
     "output_type": "stream",
     "text": [
      "Dropping column: TransactionID (unique: 10000)\n"
     ]
    },
    {
     "name": "stderr",
     "output_type": "stream",
     "text": [
      "2025/07/28 15:23:13 WARNING mlflow.models.model: `artifact_path` is deprecated. Please use `name` instead.\n"
     ]
    },
    {
     "name": "stdout",
     "output_type": "stream",
     "text": [
      "LogisticRegression printing model name before logging\n"
     ]
    },
    {
     "name": "stderr",
     "output_type": "stream",
     "text": [
      "2025/07/28 15:23:16 WARNING mlflow.models.model: Model logged without a signature and input example. Please set `input_example` parameter when logging the model to auto infer the model signature.\n",
      "Registered model 'LogisticRegression_all_features' already exists. Creating a new version of this model...\n",
      "2025/07/28 15:23:16 WARNING mlflow.tracking._model_registry.fluent: Run with id c2dcdd91a02c409d84a4f3f0652db92b has no artifacts at artifact path 'LogisticRegression_all_features', registering model based on models:/m-7cb76c57c60f45ba8444008d61e97f61 instead\n",
      "2025/07/28 15:23:17 INFO mlflow.store.model_registry.abstract_store: Waiting up to 300 seconds for model version to finish creation. Model name: LogisticRegression_all_features, version 13\n",
      "Created version '13' of model 'LogisticRegression_all_features'.\n"
     ]
    },
    {
     "name": "stdout",
     "output_type": "stream",
     "text": [
      "✅ Run logged for LogisticRegression with all_features in Fraud_Detection_Comparison_v1\n",
      "🚀 Run ID: c2dcdd91a02c409d84a4f3f0652db92b\n",
      "🏃 View run LogisticRegression_all_features at: http://127.0.0.1:5000/#/experiments/174702888862868240/runs/c2dcdd91a02c409d84a4f3f0652db92b\n",
      "🧪 View experiment at: http://127.0.0.1:5000/#/experiments/174702888862868240\n"
     ]
    },
    {
     "name": "stderr",
     "output_type": "stream",
     "text": [
      "2025/07/28 15:23:24 WARNING mlflow.models.model: `artifact_path` is deprecated. Please use `name` instead.\n"
     ]
    },
    {
     "name": "stdout",
     "output_type": "stream",
     "text": [
      "RandomForest printing model name before logging\n"
     ]
    },
    {
     "name": "stderr",
     "output_type": "stream",
     "text": [
      "2025/07/28 15:23:28 WARNING mlflow.models.model: Model logged without a signature and input example. Please set `input_example` parameter when logging the model to auto infer the model signature.\n",
      "Registered model 'RandomForest_all_features' already exists. Creating a new version of this model...\n",
      "2025/07/28 15:23:28 WARNING mlflow.tracking._model_registry.fluent: Run with id 72a12d2a3bca47ef9008483deb720c25 has no artifacts at artifact path 'RandomForest_all_features', registering model based on models:/m-49d23e0cb5b743ca97687a9a2667e49d instead\n",
      "2025/07/28 15:23:28 INFO mlflow.store.model_registry.abstract_store: Waiting up to 300 seconds for model version to finish creation. Model name: RandomForest_all_features, version 12\n",
      "Created version '12' of model 'RandomForest_all_features'.\n"
     ]
    },
    {
     "name": "stdout",
     "output_type": "stream",
     "text": [
      "✅ Run logged for RandomForest with all_features in Fraud_Detection_Comparison_v1\n",
      "🚀 Run ID: 72a12d2a3bca47ef9008483deb720c25\n",
      "🏃 View run RandomForest_all_features at: http://127.0.0.1:5000/#/experiments/174702888862868240/runs/72a12d2a3bca47ef9008483deb720c25\n",
      "🧪 View experiment at: http://127.0.0.1:5000/#/experiments/174702888862868240\n"
     ]
    },
    {
     "name": "stderr",
     "output_type": "stream",
     "text": [
      "2025/07/28 15:23:30 WARNING mlflow.models.model: `artifact_path` is deprecated. Please use `name` instead.\n"
     ]
    },
    {
     "name": "stdout",
     "output_type": "stream",
     "text": [
      "SVC printing model name before logging\n"
     ]
    },
    {
     "name": "stderr",
     "output_type": "stream",
     "text": [
      "2025/07/28 15:23:33 WARNING mlflow.models.model: Model logged without a signature and input example. Please set `input_example` parameter when logging the model to auto infer the model signature.\n",
      "Registered model 'SVC_all_features' already exists. Creating a new version of this model...\n",
      "2025/07/28 15:23:34 WARNING mlflow.tracking._model_registry.fluent: Run with id 4f674079867145998d09df0dfef29d33 has no artifacts at artifact path 'SVC_all_features', registering model based on models:/m-7833107e5a9c4e56a5346e2e7af5ac49 instead\n",
      "2025/07/28 15:23:34 INFO mlflow.store.model_registry.abstract_store: Waiting up to 300 seconds for model version to finish creation. Model name: SVC_all_features, version 12\n",
      "Created version '12' of model 'SVC_all_features'.\n"
     ]
    },
    {
     "name": "stdout",
     "output_type": "stream",
     "text": [
      "✅ Run logged for SVC with all_features in Fraud_Detection_Comparison_v1\n",
      "🚀 Run ID: 4f674079867145998d09df0dfef29d33\n",
      "🏃 View run SVC_all_features at: http://127.0.0.1:5000/#/experiments/174702888862868240/runs/4f674079867145998d09df0dfef29d33\n",
      "🧪 View experiment at: http://127.0.0.1:5000/#/experiments/174702888862868240\n"
     ]
    },
    {
     "name": "stderr",
     "output_type": "stream",
     "text": [
      "2025/07/28 15:23:35 WARNING mlflow.models.model: `artifact_path` is deprecated. Please use `name` instead.\n"
     ]
    },
    {
     "name": "stdout",
     "output_type": "stream",
     "text": [
      "LogisticRegression printing model name before logging\n"
     ]
    },
    {
     "name": "stderr",
     "output_type": "stream",
     "text": [
      "2025/07/28 15:23:39 WARNING mlflow.models.model: Model logged without a signature and input example. Please set `input_example` parameter when logging the model to auto infer the model signature.\n",
      "Registered model 'LogisticRegression_all_features' already exists. Creating a new version of this model...\n",
      "2025/07/28 15:23:39 WARNING mlflow.tracking._model_registry.fluent: Run with id c8a27a0e5285418e89983e500750801f has no artifacts at artifact path 'LogisticRegression_all_features', registering model based on models:/m-ad8d97ce2c814a639f9357bed3ca8562 instead\n",
      "2025/07/28 15:23:39 INFO mlflow.store.model_registry.abstract_store: Waiting up to 300 seconds for model version to finish creation. Model name: LogisticRegression_all_features, version 14\n",
      "Created version '14' of model 'LogisticRegression_all_features'.\n"
     ]
    },
    {
     "name": "stdout",
     "output_type": "stream",
     "text": [
      "✅ Run logged for LogisticRegression with all_features in Fraud_Detection_Comparison_v1\n",
      "🚀 Run ID: c8a27a0e5285418e89983e500750801f\n",
      "🏃 View run LogisticRegression_all_features at: http://127.0.0.1:5000/#/experiments/174702888862868240/runs/c8a27a0e5285418e89983e500750801f\n",
      "🧪 View experiment at: http://127.0.0.1:5000/#/experiments/174702888862868240\n"
     ]
    },
    {
     "name": "stderr",
     "output_type": "stream",
     "text": [
      "2025/07/28 15:23:47 WARNING mlflow.models.model: `artifact_path` is deprecated. Please use `name` instead.\n"
     ]
    },
    {
     "name": "stdout",
     "output_type": "stream",
     "text": [
      "RandomForest printing model name before logging\n"
     ]
    },
    {
     "name": "stderr",
     "output_type": "stream",
     "text": [
      "2025/07/28 15:23:51 WARNING mlflow.models.model: Model logged without a signature and input example. Please set `input_example` parameter when logging the model to auto infer the model signature.\n",
      "Registered model 'RandomForest_all_features' already exists. Creating a new version of this model...\n",
      "2025/07/28 15:23:52 WARNING mlflow.tracking._model_registry.fluent: Run with id f34d66d9553947d3a6f8ce25603aee34 has no artifacts at artifact path 'RandomForest_all_features', registering model based on models:/m-a87e54eebf3a4613b85292e362273fcf instead\n",
      "2025/07/28 15:23:52 INFO mlflow.store.model_registry.abstract_store: Waiting up to 300 seconds for model version to finish creation. Model name: RandomForest_all_features, version 13\n",
      "Created version '13' of model 'RandomForest_all_features'.\n"
     ]
    },
    {
     "name": "stdout",
     "output_type": "stream",
     "text": [
      "✅ Run logged for RandomForest with all_features in Fraud_Detection_Comparison_v1\n",
      "🚀 Run ID: f34d66d9553947d3a6f8ce25603aee34\n",
      "🏃 View run RandomForest_all_features at: http://127.0.0.1:5000/#/experiments/174702888862868240/runs/f34d66d9553947d3a6f8ce25603aee34\n",
      "🧪 View experiment at: http://127.0.0.1:5000/#/experiments/174702888862868240\n"
     ]
    },
    {
     "name": "stderr",
     "output_type": "stream",
     "text": [
      "2025/07/28 15:23:53 WARNING mlflow.models.model: `artifact_path` is deprecated. Please use `name` instead.\n"
     ]
    },
    {
     "name": "stdout",
     "output_type": "stream",
     "text": [
      "SVC printing model name before logging\n"
     ]
    },
    {
     "name": "stderr",
     "output_type": "stream",
     "text": [
      "2025/07/28 15:23:56 WARNING mlflow.models.model: Model logged without a signature and input example. Please set `input_example` parameter when logging the model to auto infer the model signature.\n",
      "Registered model 'SVC_all_features' already exists. Creating a new version of this model...\n",
      "2025/07/28 15:23:56 WARNING mlflow.tracking._model_registry.fluent: Run with id 75c1be8efb504beca310dad08bc81357 has no artifacts at artifact path 'SVC_all_features', registering model based on models:/m-75afd570f3e34ad4a16653dc32667c49 instead\n",
      "2025/07/28 15:23:57 INFO mlflow.store.model_registry.abstract_store: Waiting up to 300 seconds for model version to finish creation. Model name: SVC_all_features, version 13\n",
      "Created version '13' of model 'SVC_all_features'.\n"
     ]
    },
    {
     "name": "stdout",
     "output_type": "stream",
     "text": [
      "✅ Run logged for SVC with all_features in Fraud_Detection_Comparison_v1\n",
      "🚀 Run ID: 75c1be8efb504beca310dad08bc81357\n",
      "🏃 View run SVC_all_features at: http://127.0.0.1:5000/#/experiments/174702888862868240/runs/75c1be8efb504beca310dad08bc81357\n",
      "🧪 View experiment at: http://127.0.0.1:5000/#/experiments/174702888862868240\n"
     ]
    },
    {
     "name": "stderr",
     "output_type": "stream",
     "text": [
      "2025/07/28 15:23:57 WARNING mlflow.models.model: `artifact_path` is deprecated. Please use `name` instead.\n"
     ]
    },
    {
     "name": "stdout",
     "output_type": "stream",
     "text": [
      "LogisticRegression printing model name before logging\n"
     ]
    }
   ],
   "source": [
    "import os\n",
    "import joblib\n",
    "import pandas as pd\n",
    "import mlflow\n",
    "import mlflow.sklearn\n",
    "from sklearn.model_selection import train_test_split, GridSearchCV\n",
    "from sklearn.linear_model import LogisticRegression\n",
    "from sklearn.ensemble import RandomForestClassifier\n",
    "from sklearn.svm import SVC\n",
    "from sklearn.metrics import accuracy_score, precision_score, recall_score\n",
    "from sklearn.metrics import f1_score\n",
    "from mlflow.tracking import MlflowClient\n",
    "\n",
    "# ✅ Load dataset\n",
    "## Load your dataset\n",
    "df = pd.read_parquet(\"data/fraud_data.parquet\")\n",
    "# ✅ Features and label\n",
    "target = \"Class\"\n",
    "X_full = df.drop(columns=[target])\n",
    "y = df[target]\n",
    "\n",
    "# ✅ Define feature subsets\n",
    "# Drop columns with too many unique values (e.g., more than 100)\n",
    "for col in X_full.select_dtypes(include=\"object\").columns:\n",
    "    if X_full[col].nunique() > 100:\n",
    "        print(f\"Dropping column: {col} (unique: {X_full[col].nunique()})\")\n",
    "        X_full = X_full.drop(columns=col)\n",
    "\n",
    "X_full = pd.get_dummies(X_full)  # One-hot encode all object-type columns\n",
    "all_features = X_full.columns.tolist()\n",
    "os.makedirs(\"artifacts\", exist_ok=True)  # Create directory if it doesn't exist\n",
    "joblib.dump(X_full.columns.tolist(), \"artifacts/feature_names.pkl\")\n",
    "\n",
    "half_features = all_features[:len(all_features)//2]\n",
    "top_features = all_features[10:20]  # Example: features ranked important by domain or feature importance\n",
    "\n",
    "feature_sets = {\n",
    "    \"all_features\": all_features,\n",
    "   # \"half_features\": half_features,\n",
    "    #\"top_10_features\": top_features\n",
    "}\n",
    "\n",
    "# ✅ Define models and hyperparameters\n",
    "models = {\n",
    "    \"LogisticRegression\": {\n",
    "        \"model\": LogisticRegression(max_iter=500),\n",
    "        \"params\": {\"C\": [0.1, 1, 10]}\n",
    "    },\n",
    "    \"RandomForest\": {\n",
    "        \"model\": RandomForestClassifier(),\n",
    "        \"params\": {\"n_estimators\": [50, 100], \"max_depth\": [3, 5]}\n",
    "    },\n",
    "    \"SVC\": {\n",
    "        \"model\": SVC(),\n",
    "        \"params\": {\"C\": [0.1, 1], \"kernel\": [\"linear\", \"rbf\"]}\n",
    "    }\n",
    "}\n",
    "\n",
    "\n",
    "for exp_id in range(1, 4):\n",
    "    experiment_name = \"Fraud_Detection_Comparison_v1\"  # Define the name as a string\n",
    "    mlflow.set_tracking_uri(\"http://127.0.0.1:5000\")\n",
    "    experiment = mlflow.set_experiment(experiment_name)  # Set and get experiment object\n",
    "    experiment_id = experiment.experiment_id  # Extract the ID\n",
    "\n",
    "    for feature_set_name, selected_features in feature_sets.items():\n",
    "        X = X_full[selected_features]\n",
    "        X_train, X_test, y_train, y_test = train_test_split(X, y, test_size=0.3, random_state=exp_id)\n",
    "\n",
    "        for model_name, config in models.items():\n",
    "            model = config[\"model\"]\n",
    "            param_grid = config[\"params\"]\n",
    "\n",
    "            grid = GridSearchCV(model, param_grid, cv=3, scoring=\"accuracy\")\n",
    "            grid.fit(X_train, y_train)\n",
    "\n",
    "            best_model = grid.best_estimator_\n",
    "            y_pred = best_model.predict(X_test)\n",
    "\n",
    "            acc = accuracy_score(y_test, y_pred)\n",
    "            prec = precision_score(y_test, y_pred, zero_division=0)\n",
    "            rec = recall_score(y_test, y_pred, zero_division=0)\n",
    "            f1 = f1_score(y_test, y_pred, zero_division=0)  # ✅ new\n",
    "            \n",
    "            with mlflow.start_run(run_name=f\"{model_name}_{feature_set_name}\"):\n",
    "                print(model_name,\"printing model name before logging\")\n",
    "                mlflow.log_param(\"model\", model_name)\n",
    "                mlflow.log_param(\"feature_set\", feature_set_name)\n",
    "                mlflow.log_params(grid.best_params_)\n",
    "                mlflow.log_metric(\"accuracy\", acc)\n",
    "                mlflow.log_metric(\"precision\", prec)\n",
    "                mlflow.log_metric(\"recall\", rec)\n",
    "                artifact_path = f\"{model_name}_{feature_set_name}\"\n",
    "                mlflow.sklearn.log_model(best_model, artifact_path=artifact_path)\n",
    "                client = MlflowClient()\n",
    "                run_id = mlflow.active_run().info.run_id\n",
    "                model_uri =f\"runs:/{run_id}/{artifact_path}\"\n",
    "                \n",
    "                registered_model_name = artifact_path\n",
    "                mlflow.register_model(model_uri, registered_model_name)\n",
    "                print(f\"✅ Run logged for {model_name} with {feature_set_name} in {experiment_name}\")\n",
    "                print(\"🚀 Run ID:\", mlflow.active_run().info.run_id)\n"
   ]
  },
  {
   "cell_type": "code",
   "execution_count": null,
   "id": "1c2df3ec-731e-40db-b213-e78fa561f99e",
   "metadata": {},
   "outputs": [],
   "source": []
  },
  {
   "cell_type": "code",
   "execution_count": null,
   "id": "fbb0d63f-4b03-4e73-b925-9c30c24770da",
   "metadata": {},
   "outputs": [],
   "source": []
  }
 ],
 "metadata": {
  "kernelspec": {
   "display_name": "Python 3 (ipykernel)",
   "language": "python",
   "name": "python3"
  },
  "language_info": {
   "codemirror_mode": {
    "name": "ipython",
    "version": 3
   },
   "file_extension": ".py",
   "mimetype": "text/x-python",
   "name": "python",
   "nbconvert_exporter": "python",
   "pygments_lexer": "ipython3",
   "version": "3.11.9"
  }
 },
 "nbformat": 4,
 "nbformat_minor": 5
}
