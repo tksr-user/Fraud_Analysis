{
 "cells": [
  {
   "cell_type": "code",
   "execution_count": null,
   "id": "5aba58cd-ffb5-4428-90d0-7a7540d969ef",
   "metadata": {},
   "outputs": [
    {
     "name": "stdout",
     "output_type": "stream",
     "text": [
      "📦 Loading model from MLflow...\n"
     ]
    },
    {
     "data": {
      "application/vnd.jupyter.widget-view+json": {
       "model_id": "47f3f59fcd9f4ecd96853dc7751669f4",
       "version_major": 2,
       "version_minor": 0
      },
      "text/plain": [
       "Downloading artifacts:   0%|          | 0/1 [00:00<?, ?it/s]"
      ]
     },
     "metadata": {},
     "output_type": "display_data"
    }
   ],
   "source": [
    "# log_to_arize.py\n",
    "import joblib\n",
    "import pandas as pd\n",
    "import mlflow\n",
    "import uuid\n",
    "from arize.pandas.logger import Client\n",
    "from arize.utils.types import Schema, ModelTypes, Environments\n",
    "\n",
    "# === CONFIG ===\n",
    "mlflow.set_tracking_uri(\"http://127.0.0.1:5000\")\n",
    "RUN_ID = \"1af054b6afd74e008185074dce1c89f9\"              # ← Replace with your actual run_id\n",
    "PARQUET_PATH = \"data/fraud_data.parquet\"               # ← Path to your dataset\n",
    "space_key = \"U3BhY2U6MjM3MTI6RThBTQ==\"\n",
    "api_key = \"ak-8c93aa68-e105-4c23-b977-4ffb437fe7a5-rZPuli0UaGIrRAJ3x-OkK1sg_l5e5mFT\" # ← Replace with your Arize API key\n",
    "MODEL_ID = \"fraud_detection_model\"\n",
    "MODEL_VERSION = \"v1\"\n",
    "\n",
    "# === 1. Load MLflow Model ===\n",
    "print(\"📦 Loading model from MLflow...\")\n",
    "model_uri = f\"runs:/{RUN_ID}/model\"\n",
    "model = mlflow.pyfunc.load_model(model_uri)\n",
    "\n",
    "# === 2. Load and Prepare Data ===\n",
    "print(\"📊 Loading and preparing data...\")\n",
    "df = pd.read_parquet(PARQUET_PATH).sample(n=1000, random_state=42)\n",
    "X = df.drop(columns=[\"Class\"])\n",
    "\n",
    "# ✅ Load the saved feature names from training\n",
    "feature_names = joblib.load(\"artifacts/feature_names.pkl\")\n",
    "\n",
    "# ✅ One-hot encode your input\n",
    "pd.get_dummies(X)\n",
    "X = X[[col for col in X.columns if col in feature_names]]\n",
    "# Add any missing columns\n",
    "for col in feature_names:\n",
    "    if col not in X.columns:\n",
    "        X[col] = 0\n",
    "\n",
    "# Drop any unexpected columns\n",
    "X = X[feature_names]  # This ensures exact column match\n",
    "assert list(X.columns) == list(feature_names), \"Mismatch in input features\"\n",
    "\n",
    "y = df[\"Class\"]\n",
    "\n",
    "# === 3. Make Predictions ===\n",
    "print(\"🧠 Running model predictions...\")\n",
    "X[\"prediction\"] = model.predict(X)\n",
    "X[\"actual\"] = y.values\n",
    "X[\"prediction_id\"] = [str(uuid.uuid4()) for _ in range(len(X))]\n",
    "\n",
    "# ✅ Define log_df for Arize\n",
    "log_df = X.copy()\n",
    "log_df.reset_index(drop=True, inplace=True)\n",
    "\n",
    "# === 4. Arize Client Setup ===\n",
    "client = Client(space_key=space_key, api_key=api_key)\n",
    "\n",
    "\n",
    "schema = Schema(\n",
    "    prediction_id_column_name=\"prediction_id\",\n",
    "    prediction_label_column_name=\"prediction\",\n",
    "    actual_label_column_name=\"actual\"\n",
    ")\n",
    "\n",
    "# === 5. Log to Arize ===\n",
    "print(\"🚀 Logging to Arize...\")\n",
    "response = client.log(\n",
    "    model_id=\"fraud_model_v1\",\n",
    "    model_version=\"1.0.0\",\n",
    "    model_type=ModelTypes.BINARY_CLASSIFICATION,\n",
    "    environment=Environments.PRODUCTION,   # ✅ FIXED HERE\n",
    "    dataframe=log_df.head(100),\n",
    "    schema=schema\n",
    ")\n",
    "print(f\"✅ Arize log status: {response.status_code}\")\n",
    "print(response.text)\n"
   ]
  },
  {
   "cell_type": "code",
   "execution_count": null,
   "id": "5e25d91d-4572-4698-b0a3-a2c4e806b2f7",
   "metadata": {},
   "outputs": [],
   "source": []
  }
 ],
 "metadata": {
  "kernelspec": {
   "display_name": "Python 3 (ipykernel)",
   "language": "python",
   "name": "python3"
  },
  "language_info": {
   "codemirror_mode": {
    "name": "ipython",
    "version": 3
   },
   "file_extension": ".py",
   "mimetype": "text/x-python",
   "name": "python",
   "nbconvert_exporter": "python",
   "pygments_lexer": "ipython3",
   "version": "3.11.9"
  }
 },
 "nbformat": 4,
 "nbformat_minor": 5
}
