{
 "cells": [
  {
   "cell_type": "code",
   "execution_count": 3,
   "id": "5aba58cd-ffb5-4428-90d0-7a7540d969ef",
   "metadata": {
    "scrolled": true
   },
   "outputs": [
    {
     "name": "stdout",
     "output_type": "stream",
     "text": [
      "📦 Loading model from MLflow...\n"
     ]
    },
    {
     "data": {
      "application/vnd.jupyter.widget-view+json": {
       "model_id": "1937d0f5125b426abf7e08114ab075d4",
       "version_major": 2,
       "version_minor": 0
      },
      "text/plain": [
       "Downloading artifacts:   0%|          | 0/1 [00:00<?, ?it/s]"
      ]
     },
     "metadata": {},
     "output_type": "display_data"
    },
    {
     "ename": "MlflowException",
     "evalue": "Failed to download artifacts from path 'model', please ensure that the path is correct.",
     "output_type": "error",
     "traceback": [
      "\u001b[31m---------------------------------------------------------------------------\u001b[39m",
      "\u001b[31mMlflowException\u001b[39m                           Traceback (most recent call last)",
      "\u001b[36mCell\u001b[39m\u001b[36m \u001b[39m\u001b[32mIn[3]\u001b[39m\u001b[32m, line 23\u001b[39m\n\u001b[32m     21\u001b[39m \u001b[38;5;28mprint\u001b[39m(\u001b[33m\"\u001b[39m\u001b[33m📦 Loading model from MLflow...\u001b[39m\u001b[33m\"\u001b[39m)\n\u001b[32m     22\u001b[39m model_uri = \u001b[33mf\u001b[39m\u001b[33m\"\u001b[39m\u001b[33mruns:/\u001b[39m\u001b[38;5;132;01m{\u001b[39;00mRUN_ID\u001b[38;5;132;01m}\u001b[39;00m\u001b[33m/model\u001b[39m\u001b[33m\"\u001b[39m   \u001b[38;5;66;03m# ✅ Fixed variable name\u001b[39;00m\n\u001b[32m---> \u001b[39m\u001b[32m23\u001b[39m model = \u001b[43mmlflow\u001b[49m\u001b[43m.\u001b[49m\u001b[43mpyfunc\u001b[49m\u001b[43m.\u001b[49m\u001b[43mload_model\u001b[49m\u001b[43m(\u001b[49m\u001b[43mmodel_uri\u001b[49m\u001b[43m)\u001b[49m\n\u001b[32m     25\u001b[39m \u001b[38;5;66;03m# === 2. Load and Prepare Data ===\u001b[39;00m\n\u001b[32m     26\u001b[39m \u001b[38;5;28mprint\u001b[39m(\u001b[33m\"\u001b[39m\u001b[33m📊 Loading and preparing data...\u001b[39m\u001b[33m\"\u001b[39m)\n",
      "\u001b[36mFile \u001b[39m\u001b[32m~\\AppData\\Local\\Programs\\Python\\Python311\\Lib\\site-packages\\mlflow\\tracing\\provider.py:435\u001b[39m, in \u001b[36mtrace_disabled.<locals>.wrapper\u001b[39m\u001b[34m(*args, **kwargs)\u001b[39m\n\u001b[32m    433\u001b[39m disable()\n\u001b[32m    434\u001b[39m \u001b[38;5;28;01mtry\u001b[39;00m:\n\u001b[32m--> \u001b[39m\u001b[32m435\u001b[39m     is_func_called, result = \u001b[38;5;28;01mTrue\u001b[39;00m, \u001b[43mf\u001b[49m\u001b[43m(\u001b[49m\u001b[43m*\u001b[49m\u001b[43margs\u001b[49m\u001b[43m,\u001b[49m\u001b[43m \u001b[49m\u001b[43m*\u001b[49m\u001b[43m*\u001b[49m\u001b[43mkwargs\u001b[49m\u001b[43m)\u001b[49m\n\u001b[32m    436\u001b[39m \u001b[38;5;28;01mfinally\u001b[39;00m:\n\u001b[32m    437\u001b[39m     enable()\n",
      "\u001b[36mFile \u001b[39m\u001b[32m~\\AppData\\Local\\Programs\\Python\\Python311\\Lib\\site-packages\\mlflow\\pyfunc\\__init__.py:1127\u001b[39m, in \u001b[36mload_model\u001b[39m\u001b[34m(model_uri, suppress_warnings, dst_path, model_config)\u001b[39m\n\u001b[32m   1123\u001b[39m         entity_list.append(Entity(job=job_entity))\n\u001b[32m   1125\u001b[39m     lineage_header_info = LineageHeaderInfo(entities=entity_list) \u001b[38;5;28;01mif\u001b[39;00m entity_list \u001b[38;5;28;01melse\u001b[39;00m \u001b[38;5;28;01mNone\u001b[39;00m\n\u001b[32m-> \u001b[39m\u001b[32m1127\u001b[39m local_path = \u001b[43m_download_artifact_from_uri\u001b[49m\u001b[43m(\u001b[49m\n\u001b[32m   1128\u001b[39m \u001b[43m    \u001b[49m\u001b[43martifact_uri\u001b[49m\u001b[43m=\u001b[49m\u001b[43mmodel_uri\u001b[49m\u001b[43m,\u001b[49m\u001b[43m \u001b[49m\u001b[43moutput_path\u001b[49m\u001b[43m=\u001b[49m\u001b[43mdst_path\u001b[49m\u001b[43m,\u001b[49m\u001b[43m \u001b[49m\u001b[43mlineage_header_info\u001b[49m\u001b[43m=\u001b[49m\u001b[43mlineage_header_info\u001b[49m\n\u001b[32m   1129\u001b[39m \u001b[43m\u001b[49m\u001b[43m)\u001b[49m\n\u001b[32m   1131\u001b[39m \u001b[38;5;28;01mif\u001b[39;00m \u001b[38;5;129;01mnot\u001b[39;00m suppress_warnings:\n\u001b[32m   1132\u001b[39m     model_requirements = _get_pip_requirements_from_model_path(local_path)\n",
      "\u001b[36mFile \u001b[39m\u001b[32m~\\AppData\\Local\\Programs\\Python\\Python311\\Lib\\site-packages\\mlflow\\tracking\\artifact_utils.py:117\u001b[39m, in \u001b[36m_download_artifact_from_uri\u001b[39m\u001b[34m(artifact_uri, output_path, lineage_header_info)\u001b[39m\n\u001b[32m    111\u001b[39m     \u001b[38;5;28;01mif\u001b[39;00m \u001b[38;5;28misinstance\u001b[39m(repo, ModelsArtifactRepository):\n\u001b[32m    112\u001b[39m         \u001b[38;5;28;01mreturn\u001b[39;00m repo.download_artifacts(\n\u001b[32m    113\u001b[39m             artifact_path=artifact_path,\n\u001b[32m    114\u001b[39m             dst_path=output_path,\n\u001b[32m    115\u001b[39m             lineage_header_info=lineage_header_info,\n\u001b[32m    116\u001b[39m         )\n\u001b[32m--> \u001b[39m\u001b[32m117\u001b[39m     \u001b[38;5;28;01mreturn\u001b[39;00m \u001b[43mrepo\u001b[49m\u001b[43m.\u001b[49m\u001b[43mdownload_artifacts\u001b[49m\u001b[43m(\u001b[49m\u001b[43martifact_path\u001b[49m\u001b[43m=\u001b[49m\u001b[43martifact_path\u001b[49m\u001b[43m,\u001b[49m\u001b[43m \u001b[49m\u001b[43mdst_path\u001b[49m\u001b[43m=\u001b[49m\u001b[43moutput_path\u001b[49m\u001b[43m)\u001b[49m\n\u001b[32m    118\u001b[39m \u001b[38;5;28;01mexcept\u001b[39;00m \u001b[38;5;167;01mException\u001b[39;00m \u001b[38;5;28;01mas\u001b[39;00m e:\n\u001b[32m    119\u001b[39m     \u001b[38;5;28;01mif\u001b[39;00m artifact_uri.startswith(\u001b[33m\"\u001b[39m\u001b[33mm-\u001b[39m\u001b[33m\"\u001b[39m):\n\u001b[32m    120\u001b[39m         \u001b[38;5;66;03m# When a Model ID like string is passed, suggest using 'models:/{artifact_uri}' instead.\u001b[39;00m\n",
      "\u001b[36mFile \u001b[39m\u001b[32m~\\AppData\\Local\\Programs\\Python\\Python311\\Lib\\site-packages\\mlflow\\store\\artifact\\runs_artifact_repo.py:213\u001b[39m, in \u001b[36mRunsArtifactRepository.download_artifacts\u001b[39m\u001b[34m(self, artifact_path, dst_path)\u001b[39m\n\u001b[32m    211\u001b[39m path = run_out_path \u001b[38;5;129;01mor\u001b[39;00m model_out_path\n\u001b[32m    212\u001b[39m \u001b[38;5;28;01mif\u001b[39;00m path \u001b[38;5;129;01mis\u001b[39;00m \u001b[38;5;28;01mNone\u001b[39;00m:\n\u001b[32m--> \u001b[39m\u001b[32m213\u001b[39m     \u001b[38;5;28;01mraise\u001b[39;00m MlflowException(\n\u001b[32m    214\u001b[39m         \u001b[33mf\u001b[39m\u001b[33m\"\u001b[39m\u001b[33mFailed to download artifacts from path \u001b[39m\u001b[38;5;132;01m{\u001b[39;00martifact_path\u001b[38;5;132;01m!r}\u001b[39;00m\u001b[33m, \u001b[39m\u001b[33m\"\u001b[39m\n\u001b[32m    215\u001b[39m         \u001b[33m\"\u001b[39m\u001b[33mplease ensure that the path is correct.\u001b[39m\u001b[33m\"\u001b[39m,\n\u001b[32m    216\u001b[39m         error_code=RESOURCE_DOES_NOT_EXIST,\n\u001b[32m    217\u001b[39m     )\n\u001b[32m    218\u001b[39m \u001b[38;5;28;01mreturn\u001b[39;00m path\n",
      "\u001b[31mMlflowException\u001b[39m: Failed to download artifacts from path 'model', please ensure that the path is correct."
     ]
    }
   ],
   "source": [
    "# log_to_arize.py\n",
    "\n",
    "import joblib\n",
    "import pandas as pd\n",
    "import mlflow\n",
    "import uuid\n",
    "from arize.pandas.logger import Client\n",
    "from arize.utils.types import Schema, ModelTypes, Environments\n",
    "\n",
    "# === CONFIG ===\n",
    "mlflow.set_tracking_uri(\"http://127.0.0.1:5000\")\n",
    "RUN_ID = \"1af054b6afd74e008185074dce1c89f9\"              # ← Use the correct run_id\n",
    "PARQUET_PATH = \"data/fraud_data.parquet\"\n",
    "FEATURE_NAMES_PATH = \"artifacts/feature_names.pkl\"\n",
    "space_key = \"U3BhY2U6MjM3MTI6RThBTQ==\"                   # ✅ Already base64 encoded\n",
    "api_key = \"ak-8c93aa68-e105-4c23-b977-4ffb437fe7a5-rZPuli0UaGIrRAJ3x-OkK1sg_l5e5mFT\"\n",
    "MODEL_ID = \"fraud_detection_model\"\n",
    "MODEL_VERSION = \"v1\"\n",
    "\n",
    "# === 1. Load MLflow Model ===\n",
    "print(\"📦 Loading model from MLflow...\")\n",
    "model_uri = f\"runs:/{RUN_ID}/\"   # ✅ Fixed variable name\n",
    "model = mlflow.sklearn.load_model(model_uri)\n",
    "model = mlflow.pyfunc.load_model(model_uri)\n",
    "\n",
    "# === 2. Load and Prepare Data ===\n",
    "print(\"📊 Loading and preparing data...\")\n",
    "df = pd.read_parquet(PARQUET_PATH).sample(n=1000, random_state=42)\n",
    "X = df.drop(columns=[\"Class\"])\n",
    "y = df[\"Class\"]\n",
    "\n",
    "# ✅ Load the saved feature names\n",
    "feature_names = joblib.load(FEATURE_NAMES_PATH)\n",
    "\n",
    "# ✅ Align test features to training features\n",
    "X = pd.get_dummies(X)\n",
    "for col in feature_names:\n",
    "    if col not in X.columns:\n",
    "        X[col] = 0\n",
    "X = X[feature_names]  # Enforce correct column order\n",
    "assert list(X.columns) == list(feature_names), \"Mismatch in input features\"\n",
    "\n",
    "# === 3. Make Predictions ===\n",
    "predictions = model.predict(X_test)\n",
    "print(\"🧠 Running model predictions...\")\n",
    "X[\"prediction\"] = model.predict(X)\n",
    "X[\"actual\"] = y.values\n",
    "X[\"prediction_id\"] = [str(uuid.uuid4()) for _ in range(len(X))]\n",
    "\n",
    "# === 4. Prepare DataFrame for Arize ===\n",
    "log_df = X.copy()\n",
    "log_df.reset_index(drop=True, inplace=True)\n",
    "\n",
    "# === 5. Arize Client Setup ===\n",
    "print(\"🚀 Logging to Arize...\")\n",
    "client = Client(space_key=space_key, api_key=api_key)\n",
    "\n",
    "schema = Schema(\n",
    "    prediction_id_column_name=\"prediction_id\",\n",
    "    prediction_label_column_name=\"prediction\",\n",
    "    actual_label_column_name=\"actual\"\n",
    ")\n",
    "\n",
    "# === 6. Log Data to Arize ===\n",
    "response = client.log(\n",
    "    model_id=MODEL_ID,\n",
    "    model_version=MODEL_VERSION,\n",
    "    model_type=ModelTypes.BINARY_CLASSIFICATION,\n",
    "    environment=Environments.PRODUCTION,\n",
    "    dataframe=log_df.head(100),   # Log only top 100 samples\n",
    "    schema=schema\n",
    ")\n",
    "\n",
    "# === 7. Show Log Status ===\n",
    "print(f\"✅ Arize log status: {response.status_code}\")\n",
    "print(response.text)\n"
   ]
  },
  {
   "cell_type": "code",
   "execution_count": null,
   "id": "5e25d91d-4572-4698-b0a3-a2c4e806b2f7",
   "metadata": {},
   "outputs": [],
   "source": []
  }
 ],
 "metadata": {
  "kernelspec": {
   "display_name": "Python 3 (ipykernel)",
   "language": "python",
   "name": "python3"
  },
  "language_info": {
   "codemirror_mode": {
    "name": "ipython",
    "version": 3
   },
   "file_extension": ".py",
   "mimetype": "text/x-python",
   "name": "python",
   "nbconvert_exporter": "python",
   "pygments_lexer": "ipython3",
   "version": "3.11.9"
  }
 },
 "nbformat": 4,
 "nbformat_minor": 5
}
