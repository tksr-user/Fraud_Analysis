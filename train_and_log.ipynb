{
 "cells": [
  {
   "cell_type": "code",
   "execution_count": 11,
   "id": "7ededda6-9e01-4a2c-a69e-1530d4641e59",
   "metadata": {
    "scrolled": true
   },
   "outputs": [
    {
     "name": "stdout",
     "output_type": "stream",
     "text": [
      "Dropping column: TransactionID (unique: 10000)\n"
     ]
    },
    {
     "name": "stderr",
     "output_type": "stream",
     "text": [
      "2025/07/26 09:46:24 WARNING mlflow.models.model: `artifact_path` is deprecated. Please use `name` instead.\n",
      "2025/07/26 09:46:27 WARNING mlflow.models.model: Model logged without a signature and input example. Please set `input_example` parameter when logging the model to auto infer the model signature.\n"
     ]
    },
    {
     "name": "stdout",
     "output_type": "stream",
     "text": [
      "✅ Run logged for LogisticRegression with all_features in Fraud_Detection_Comparison\n",
      "🚀 Run ID: 02b0be6a02d14af58d424825e39fbea7\n",
      "🏃 View run LogisticRegression_all_features at: http://127.0.0.1:5000/#/experiments/865794027230414114/runs/02b0be6a02d14af58d424825e39fbea7\n",
      "🧪 View experiment at: http://127.0.0.1:5000/#/experiments/865794027230414114\n"
     ]
    },
    {
     "name": "stderr",
     "output_type": "stream",
     "text": [
      "2025/07/26 09:46:34 WARNING mlflow.models.model: `artifact_path` is deprecated. Please use `name` instead.\n",
      "2025/07/26 09:46:38 WARNING mlflow.models.model: Model logged without a signature and input example. Please set `input_example` parameter when logging the model to auto infer the model signature.\n"
     ]
    },
    {
     "name": "stdout",
     "output_type": "stream",
     "text": [
      "✅ Run logged for RandomForest with all_features in Fraud_Detection_Comparison\n",
      "🚀 Run ID: 4e14ba0ecc4b4f699f4c7dbbf8fd9ff6\n",
      "🏃 View run RandomForest_all_features at: http://127.0.0.1:5000/#/experiments/865794027230414114/runs/4e14ba0ecc4b4f699f4c7dbbf8fd9ff6\n",
      "🧪 View experiment at: http://127.0.0.1:5000/#/experiments/865794027230414114\n"
     ]
    },
    {
     "name": "stderr",
     "output_type": "stream",
     "text": [
      "2025/07/26 09:46:39 WARNING mlflow.models.model: `artifact_path` is deprecated. Please use `name` instead.\n",
      "2025/07/26 09:46:42 WARNING mlflow.models.model: Model logged without a signature and input example. Please set `input_example` parameter when logging the model to auto infer the model signature.\n"
     ]
    },
    {
     "name": "stdout",
     "output_type": "stream",
     "text": [
      "✅ Run logged for SVC with all_features in Fraud_Detection_Comparison\n",
      "🚀 Run ID: 4a5bc047e6e74f6c91a2603b78120520\n",
      "🏃 View run SVC_all_features at: http://127.0.0.1:5000/#/experiments/865794027230414114/runs/4a5bc047e6e74f6c91a2603b78120520\n",
      "🧪 View experiment at: http://127.0.0.1:5000/#/experiments/865794027230414114\n"
     ]
    },
    {
     "name": "stderr",
     "output_type": "stream",
     "text": [
      "2025/07/26 09:46:43 WARNING mlflow.models.model: `artifact_path` is deprecated. Please use `name` instead.\n",
      "2025/07/26 09:46:46 WARNING mlflow.models.model: Model logged without a signature and input example. Please set `input_example` parameter when logging the model to auto infer the model signature.\n"
     ]
    },
    {
     "name": "stdout",
     "output_type": "stream",
     "text": [
      "✅ Run logged for LogisticRegression with half_features in Fraud_Detection_Comparison\n",
      "🚀 Run ID: fdc191650de440ac9f3bcf5ea1b48481\n",
      "🏃 View run LogisticRegression_half_features at: http://127.0.0.1:5000/#/experiments/865794027230414114/runs/fdc191650de440ac9f3bcf5ea1b48481\n",
      "🧪 View experiment at: http://127.0.0.1:5000/#/experiments/865794027230414114\n"
     ]
    },
    {
     "name": "stderr",
     "output_type": "stream",
     "text": [
      "2025/07/26 09:46:52 WARNING mlflow.models.model: `artifact_path` is deprecated. Please use `name` instead.\n",
      "2025/07/26 09:46:55 WARNING mlflow.models.model: Model logged without a signature and input example. Please set `input_example` parameter when logging the model to auto infer the model signature.\n"
     ]
    },
    {
     "name": "stdout",
     "output_type": "stream",
     "text": [
      "✅ Run logged for RandomForest with half_features in Fraud_Detection_Comparison\n",
      "🚀 Run ID: fc53fbc2613b4359892e83c1d673b680\n",
      "🏃 View run RandomForest_half_features at: http://127.0.0.1:5000/#/experiments/865794027230414114/runs/fc53fbc2613b4359892e83c1d673b680\n",
      "🧪 View experiment at: http://127.0.0.1:5000/#/experiments/865794027230414114\n"
     ]
    },
    {
     "name": "stderr",
     "output_type": "stream",
     "text": [
      "2025/07/26 09:46:56 WARNING mlflow.models.model: `artifact_path` is deprecated. Please use `name` instead.\n",
      "2025/07/26 09:46:59 WARNING mlflow.models.model: Model logged without a signature and input example. Please set `input_example` parameter when logging the model to auto infer the model signature.\n"
     ]
    },
    {
     "name": "stdout",
     "output_type": "stream",
     "text": [
      "✅ Run logged for SVC with half_features in Fraud_Detection_Comparison\n",
      "🚀 Run ID: 700d68e90e4948fca55e05e8c48abf6e\n",
      "🏃 View run SVC_half_features at: http://127.0.0.1:5000/#/experiments/865794027230414114/runs/700d68e90e4948fca55e05e8c48abf6e\n",
      "🧪 View experiment at: http://127.0.0.1:5000/#/experiments/865794027230414114\n"
     ]
    },
    {
     "name": "stderr",
     "output_type": "stream",
     "text": [
      "2025/07/26 09:47:00 WARNING mlflow.models.model: `artifact_path` is deprecated. Please use `name` instead.\n",
      "2025/07/26 09:47:03 WARNING mlflow.models.model: Model logged without a signature and input example. Please set `input_example` parameter when logging the model to auto infer the model signature.\n"
     ]
    },
    {
     "name": "stdout",
     "output_type": "stream",
     "text": [
      "✅ Run logged for LogisticRegression with top_10_features in Fraud_Detection_Comparison\n",
      "🚀 Run ID: e2af565e009b4504872ccb47a7ee18cf\n",
      "🏃 View run LogisticRegression_top_10_features at: http://127.0.0.1:5000/#/experiments/865794027230414114/runs/e2af565e009b4504872ccb47a7ee18cf\n",
      "🧪 View experiment at: http://127.0.0.1:5000/#/experiments/865794027230414114\n"
     ]
    },
    {
     "name": "stderr",
     "output_type": "stream",
     "text": [
      "2025/07/26 09:47:08 WARNING mlflow.models.model: `artifact_path` is deprecated. Please use `name` instead.\n",
      "2025/07/26 09:47:12 WARNING mlflow.models.model: Model logged without a signature and input example. Please set `input_example` parameter when logging the model to auto infer the model signature.\n"
     ]
    },
    {
     "name": "stdout",
     "output_type": "stream",
     "text": [
      "✅ Run logged for RandomForest with top_10_features in Fraud_Detection_Comparison\n",
      "🚀 Run ID: b4062e7fc6f746dda7e39cd267177271\n",
      "🏃 View run RandomForest_top_10_features at: http://127.0.0.1:5000/#/experiments/865794027230414114/runs/b4062e7fc6f746dda7e39cd267177271\n",
      "🧪 View experiment at: http://127.0.0.1:5000/#/experiments/865794027230414114\n"
     ]
    },
    {
     "name": "stderr",
     "output_type": "stream",
     "text": [
      "2025/07/26 09:47:13 WARNING mlflow.models.model: `artifact_path` is deprecated. Please use `name` instead.\n",
      "2025/07/26 09:47:16 WARNING mlflow.models.model: Model logged without a signature and input example. Please set `input_example` parameter when logging the model to auto infer the model signature.\n"
     ]
    },
    {
     "name": "stdout",
     "output_type": "stream",
     "text": [
      "✅ Run logged for SVC with top_10_features in Fraud_Detection_Comparison\n",
      "🚀 Run ID: f3bfb5107e6f468d80bd381b539e502f\n",
      "🏃 View run SVC_top_10_features at: http://127.0.0.1:5000/#/experiments/865794027230414114/runs/f3bfb5107e6f468d80bd381b539e502f\n",
      "🧪 View experiment at: http://127.0.0.1:5000/#/experiments/865794027230414114\n"
     ]
    },
    {
     "name": "stderr",
     "output_type": "stream",
     "text": [
      "2025/07/26 09:47:17 WARNING mlflow.models.model: `artifact_path` is deprecated. Please use `name` instead.\n",
      "2025/07/26 09:47:20 WARNING mlflow.models.model: Model logged without a signature and input example. Please set `input_example` parameter when logging the model to auto infer the model signature.\n"
     ]
    },
    {
     "name": "stdout",
     "output_type": "stream",
     "text": [
      "✅ Run logged for LogisticRegression with all_features in Fraud_Detection_Comparison\n",
      "🚀 Run ID: e79cd611b21b4e0fb45be811f9dc626a\n",
      "🏃 View run LogisticRegression_all_features at: http://127.0.0.1:5000/#/experiments/865794027230414114/runs/e79cd611b21b4e0fb45be811f9dc626a\n",
      "🧪 View experiment at: http://127.0.0.1:5000/#/experiments/865794027230414114\n"
     ]
    },
    {
     "name": "stderr",
     "output_type": "stream",
     "text": [
      "2025/07/26 09:47:28 WARNING mlflow.models.model: `artifact_path` is deprecated. Please use `name` instead.\n",
      "2025/07/26 09:47:31 WARNING mlflow.models.model: Model logged without a signature and input example. Please set `input_example` parameter when logging the model to auto infer the model signature.\n"
     ]
    },
    {
     "name": "stdout",
     "output_type": "stream",
     "text": [
      "✅ Run logged for RandomForest with all_features in Fraud_Detection_Comparison\n",
      "🚀 Run ID: 307c17a0835b4099aa1ccecb590cc61d\n",
      "🏃 View run RandomForest_all_features at: http://127.0.0.1:5000/#/experiments/865794027230414114/runs/307c17a0835b4099aa1ccecb590cc61d\n",
      "🧪 View experiment at: http://127.0.0.1:5000/#/experiments/865794027230414114\n"
     ]
    },
    {
     "name": "stderr",
     "output_type": "stream",
     "text": [
      "2025/07/26 09:47:33 WARNING mlflow.models.model: `artifact_path` is deprecated. Please use `name` instead.\n",
      "2025/07/26 09:47:36 WARNING mlflow.models.model: Model logged without a signature and input example. Please set `input_example` parameter when logging the model to auto infer the model signature.\n"
     ]
    },
    {
     "name": "stdout",
     "output_type": "stream",
     "text": [
      "✅ Run logged for SVC with all_features in Fraud_Detection_Comparison\n",
      "🚀 Run ID: 151959d586b14ad3ab6816a02d821c13\n",
      "🏃 View run SVC_all_features at: http://127.0.0.1:5000/#/experiments/865794027230414114/runs/151959d586b14ad3ab6816a02d821c13\n",
      "🧪 View experiment at: http://127.0.0.1:5000/#/experiments/865794027230414114\n"
     ]
    },
    {
     "name": "stderr",
     "output_type": "stream",
     "text": [
      "2025/07/26 09:47:36 WARNING mlflow.models.model: `artifact_path` is deprecated. Please use `name` instead.\n",
      "2025/07/26 09:47:39 WARNING mlflow.models.model: Model logged without a signature and input example. Please set `input_example` parameter when logging the model to auto infer the model signature.\n"
     ]
    },
    {
     "name": "stdout",
     "output_type": "stream",
     "text": [
      "✅ Run logged for LogisticRegression with half_features in Fraud_Detection_Comparison\n",
      "🚀 Run ID: 791d5aac3f704a048ae0993e799783d7\n",
      "🏃 View run LogisticRegression_half_features at: http://127.0.0.1:5000/#/experiments/865794027230414114/runs/791d5aac3f704a048ae0993e799783d7\n",
      "🧪 View experiment at: http://127.0.0.1:5000/#/experiments/865794027230414114\n"
     ]
    },
    {
     "name": "stderr",
     "output_type": "stream",
     "text": [
      "2025/07/26 09:47:46 WARNING mlflow.models.model: `artifact_path` is deprecated. Please use `name` instead.\n",
      "2025/07/26 09:47:49 WARNING mlflow.models.model: Model logged without a signature and input example. Please set `input_example` parameter when logging the model to auto infer the model signature.\n"
     ]
    },
    {
     "name": "stdout",
     "output_type": "stream",
     "text": [
      "✅ Run logged for RandomForest with half_features in Fraud_Detection_Comparison\n",
      "🚀 Run ID: 086e77276776439586a3418be61f4b5e\n",
      "🏃 View run RandomForest_half_features at: http://127.0.0.1:5000/#/experiments/865794027230414114/runs/086e77276776439586a3418be61f4b5e\n",
      "🧪 View experiment at: http://127.0.0.1:5000/#/experiments/865794027230414114\n"
     ]
    },
    {
     "name": "stderr",
     "output_type": "stream",
     "text": [
      "2025/07/26 09:47:50 WARNING mlflow.models.model: `artifact_path` is deprecated. Please use `name` instead.\n",
      "2025/07/26 09:47:53 WARNING mlflow.models.model: Model logged without a signature and input example. Please set `input_example` parameter when logging the model to auto infer the model signature.\n"
     ]
    },
    {
     "name": "stdout",
     "output_type": "stream",
     "text": [
      "✅ Run logged for SVC with half_features in Fraud_Detection_Comparison\n",
      "🚀 Run ID: 40ae360268b343a2a3ab1a5de7482997\n",
      "🏃 View run SVC_half_features at: http://127.0.0.1:5000/#/experiments/865794027230414114/runs/40ae360268b343a2a3ab1a5de7482997\n",
      "🧪 View experiment at: http://127.0.0.1:5000/#/experiments/865794027230414114\n"
     ]
    },
    {
     "name": "stderr",
     "output_type": "stream",
     "text": [
      "2025/07/26 09:47:54 WARNING mlflow.models.model: `artifact_path` is deprecated. Please use `name` instead.\n",
      "2025/07/26 09:47:57 WARNING mlflow.models.model: Model logged without a signature and input example. Please set `input_example` parameter when logging the model to auto infer the model signature.\n"
     ]
    },
    {
     "name": "stdout",
     "output_type": "stream",
     "text": [
      "✅ Run logged for LogisticRegression with top_10_features in Fraud_Detection_Comparison\n",
      "🚀 Run ID: 4cd850ca82d34b79819761c94bece328\n",
      "🏃 View run LogisticRegression_top_10_features at: http://127.0.0.1:5000/#/experiments/865794027230414114/runs/4cd850ca82d34b79819761c94bece328\n",
      "🧪 View experiment at: http://127.0.0.1:5000/#/experiments/865794027230414114\n"
     ]
    },
    {
     "name": "stderr",
     "output_type": "stream",
     "text": [
      "2025/07/26 09:48:03 WARNING mlflow.models.model: `artifact_path` is deprecated. Please use `name` instead.\n",
      "2025/07/26 09:48:06 WARNING mlflow.models.model: Model logged without a signature and input example. Please set `input_example` parameter when logging the model to auto infer the model signature.\n"
     ]
    },
    {
     "name": "stdout",
     "output_type": "stream",
     "text": [
      "✅ Run logged for RandomForest with top_10_features in Fraud_Detection_Comparison\n",
      "🚀 Run ID: 49da5e76ba014775a8e5a385a2702a1f\n",
      "🏃 View run RandomForest_top_10_features at: http://127.0.0.1:5000/#/experiments/865794027230414114/runs/49da5e76ba014775a8e5a385a2702a1f\n",
      "🧪 View experiment at: http://127.0.0.1:5000/#/experiments/865794027230414114\n"
     ]
    },
    {
     "name": "stderr",
     "output_type": "stream",
     "text": [
      "2025/07/26 09:48:07 WARNING mlflow.models.model: `artifact_path` is deprecated. Please use `name` instead.\n",
      "2025/07/26 09:48:10 WARNING mlflow.models.model: Model logged without a signature and input example. Please set `input_example` parameter when logging the model to auto infer the model signature.\n"
     ]
    },
    {
     "name": "stdout",
     "output_type": "stream",
     "text": [
      "✅ Run logged for SVC with top_10_features in Fraud_Detection_Comparison\n",
      "🚀 Run ID: 7b50d82c4cd34b4a967dad8a28859829\n",
      "🏃 View run SVC_top_10_features at: http://127.0.0.1:5000/#/experiments/865794027230414114/runs/7b50d82c4cd34b4a967dad8a28859829\n",
      "🧪 View experiment at: http://127.0.0.1:5000/#/experiments/865794027230414114\n"
     ]
    },
    {
     "name": "stderr",
     "output_type": "stream",
     "text": [
      "2025/07/26 09:48:11 WARNING mlflow.models.model: `artifact_path` is deprecated. Please use `name` instead.\n",
      "2025/07/26 09:48:14 WARNING mlflow.models.model: Model logged without a signature and input example. Please set `input_example` parameter when logging the model to auto infer the model signature.\n"
     ]
    },
    {
     "name": "stdout",
     "output_type": "stream",
     "text": [
      "✅ Run logged for LogisticRegression with all_features in Fraud_Detection_Comparison\n",
      "🚀 Run ID: 7a622286a72c44c88a0317f56e1a83e4\n",
      "🏃 View run LogisticRegression_all_features at: http://127.0.0.1:5000/#/experiments/865794027230414114/runs/7a622286a72c44c88a0317f56e1a83e4\n",
      "🧪 View experiment at: http://127.0.0.1:5000/#/experiments/865794027230414114\n"
     ]
    },
    {
     "name": "stderr",
     "output_type": "stream",
     "text": [
      "2025/07/26 09:48:22 WARNING mlflow.models.model: `artifact_path` is deprecated. Please use `name` instead.\n",
      "2025/07/26 09:48:26 WARNING mlflow.models.model: Model logged without a signature and input example. Please set `input_example` parameter when logging the model to auto infer the model signature.\n"
     ]
    },
    {
     "name": "stdout",
     "output_type": "stream",
     "text": [
      "✅ Run logged for RandomForest with all_features in Fraud_Detection_Comparison\n",
      "🚀 Run ID: a0089d2693494331a3d982b5047f3993\n",
      "🏃 View run RandomForest_all_features at: http://127.0.0.1:5000/#/experiments/865794027230414114/runs/a0089d2693494331a3d982b5047f3993\n",
      "🧪 View experiment at: http://127.0.0.1:5000/#/experiments/865794027230414114\n"
     ]
    },
    {
     "name": "stderr",
     "output_type": "stream",
     "text": [
      "2025/07/26 09:48:27 WARNING mlflow.models.model: `artifact_path` is deprecated. Please use `name` instead.\n",
      "2025/07/26 09:48:30 WARNING mlflow.models.model: Model logged without a signature and input example. Please set `input_example` parameter when logging the model to auto infer the model signature.\n"
     ]
    },
    {
     "name": "stdout",
     "output_type": "stream",
     "text": [
      "✅ Run logged for SVC with all_features in Fraud_Detection_Comparison\n",
      "🚀 Run ID: fe9d5be0c11248a497abb5a164d9eb5a\n",
      "🏃 View run SVC_all_features at: http://127.0.0.1:5000/#/experiments/865794027230414114/runs/fe9d5be0c11248a497abb5a164d9eb5a\n",
      "🧪 View experiment at: http://127.0.0.1:5000/#/experiments/865794027230414114\n"
     ]
    },
    {
     "name": "stderr",
     "output_type": "stream",
     "text": [
      "2025/07/26 09:48:31 WARNING mlflow.models.model: `artifact_path` is deprecated. Please use `name` instead.\n",
      "2025/07/26 09:48:34 WARNING mlflow.models.model: Model logged without a signature and input example. Please set `input_example` parameter when logging the model to auto infer the model signature.\n"
     ]
    },
    {
     "name": "stdout",
     "output_type": "stream",
     "text": [
      "✅ Run logged for LogisticRegression with half_features in Fraud_Detection_Comparison\n",
      "🚀 Run ID: 6d04108e306440248959905c264ff68e\n",
      "🏃 View run LogisticRegression_half_features at: http://127.0.0.1:5000/#/experiments/865794027230414114/runs/6d04108e306440248959905c264ff68e\n",
      "🧪 View experiment at: http://127.0.0.1:5000/#/experiments/865794027230414114\n"
     ]
    },
    {
     "name": "stderr",
     "output_type": "stream",
     "text": [
      "2025/07/26 09:48:40 WARNING mlflow.models.model: `artifact_path` is deprecated. Please use `name` instead.\n",
      "2025/07/26 09:48:43 WARNING mlflow.models.model: Model logged without a signature and input example. Please set `input_example` parameter when logging the model to auto infer the model signature.\n"
     ]
    },
    {
     "name": "stdout",
     "output_type": "stream",
     "text": [
      "✅ Run logged for RandomForest with half_features in Fraud_Detection_Comparison\n",
      "🚀 Run ID: 0297e4ef68034b1484629a701e673666\n",
      "🏃 View run RandomForest_half_features at: http://127.0.0.1:5000/#/experiments/865794027230414114/runs/0297e4ef68034b1484629a701e673666\n",
      "🧪 View experiment at: http://127.0.0.1:5000/#/experiments/865794027230414114\n"
     ]
    },
    {
     "name": "stderr",
     "output_type": "stream",
     "text": [
      "2025/07/26 09:48:44 WARNING mlflow.models.model: `artifact_path` is deprecated. Please use `name` instead.\n",
      "2025/07/26 09:48:48 WARNING mlflow.models.model: Model logged without a signature and input example. Please set `input_example` parameter when logging the model to auto infer the model signature.\n"
     ]
    },
    {
     "name": "stdout",
     "output_type": "stream",
     "text": [
      "✅ Run logged for SVC with half_features in Fraud_Detection_Comparison\n",
      "🚀 Run ID: b7880eedabca430fafe2b935170e2600\n",
      "🏃 View run SVC_half_features at: http://127.0.0.1:5000/#/experiments/865794027230414114/runs/b7880eedabca430fafe2b935170e2600\n",
      "🧪 View experiment at: http://127.0.0.1:5000/#/experiments/865794027230414114\n"
     ]
    },
    {
     "name": "stderr",
     "output_type": "stream",
     "text": [
      "2025/07/26 09:48:48 WARNING mlflow.models.model: `artifact_path` is deprecated. Please use `name` instead.\n",
      "2025/07/26 09:48:51 WARNING mlflow.models.model: Model logged without a signature and input example. Please set `input_example` parameter when logging the model to auto infer the model signature.\n"
     ]
    },
    {
     "name": "stdout",
     "output_type": "stream",
     "text": [
      "✅ Run logged for LogisticRegression with top_10_features in Fraud_Detection_Comparison\n",
      "🚀 Run ID: 6509c39bcc914aa6a0247e0fa4b5c51e\n",
      "🏃 View run LogisticRegression_top_10_features at: http://127.0.0.1:5000/#/experiments/865794027230414114/runs/6509c39bcc914aa6a0247e0fa4b5c51e\n",
      "🧪 View experiment at: http://127.0.0.1:5000/#/experiments/865794027230414114\n"
     ]
    },
    {
     "name": "stderr",
     "output_type": "stream",
     "text": [
      "2025/07/26 09:48:57 WARNING mlflow.models.model: `artifact_path` is deprecated. Please use `name` instead.\n",
      "2025/07/26 09:49:01 WARNING mlflow.models.model: Model logged without a signature and input example. Please set `input_example` parameter when logging the model to auto infer the model signature.\n"
     ]
    },
    {
     "name": "stdout",
     "output_type": "stream",
     "text": [
      "✅ Run logged for RandomForest with top_10_features in Fraud_Detection_Comparison\n",
      "🚀 Run ID: fc0a0c4d97bc4283a9bd5c2da89c5287\n",
      "🏃 View run RandomForest_top_10_features at: http://127.0.0.1:5000/#/experiments/865794027230414114/runs/fc0a0c4d97bc4283a9bd5c2da89c5287\n",
      "🧪 View experiment at: http://127.0.0.1:5000/#/experiments/865794027230414114\n"
     ]
    },
    {
     "name": "stderr",
     "output_type": "stream",
     "text": [
      "2025/07/26 09:49:02 WARNING mlflow.models.model: `artifact_path` is deprecated. Please use `name` instead.\n",
      "2025/07/26 09:49:05 WARNING mlflow.models.model: Model logged without a signature and input example. Please set `input_example` parameter when logging the model to auto infer the model signature.\n"
     ]
    },
    {
     "name": "stdout",
     "output_type": "stream",
     "text": [
      "✅ Run logged for SVC with top_10_features in Fraud_Detection_Comparison\n",
      "🚀 Run ID: 96108f5ee6534d2eae9fc1b90c5435d8\n",
      "🏃 View run SVC_top_10_features at: http://127.0.0.1:5000/#/experiments/865794027230414114/runs/96108f5ee6534d2eae9fc1b90c5435d8\n",
      "🧪 View experiment at: http://127.0.0.1:5000/#/experiments/865794027230414114\n"
     ]
    },
    {
     "name": "stderr",
     "output_type": "stream",
     "text": [
      "2025/07/26 09:49:06 WARNING mlflow.models.model: `artifact_path` is deprecated. Please use `name` instead.\n",
      "2025/07/26 09:49:09 WARNING mlflow.models.model: Model logged without a signature and input example. Please set `input_example` parameter when logging the model to auto infer the model signature.\n"
     ]
    },
    {
     "name": "stdout",
     "output_type": "stream",
     "text": [
      "✅ Run logged for LogisticRegression with all_features in Fraud_Detection_Comparison\n",
      "🚀 Run ID: c355c076c6c349dcbb9eb07abb7a56fa\n",
      "🏃 View run LogisticRegression_all_features at: http://127.0.0.1:5000/#/experiments/865794027230414114/runs/c355c076c6c349dcbb9eb07abb7a56fa\n",
      "🧪 View experiment at: http://127.0.0.1:5000/#/experiments/865794027230414114\n"
     ]
    },
    {
     "name": "stderr",
     "output_type": "stream",
     "text": [
      "2025/07/26 09:49:17 WARNING mlflow.models.model: `artifact_path` is deprecated. Please use `name` instead.\n",
      "2025/07/26 09:49:20 WARNING mlflow.models.model: Model logged without a signature and input example. Please set `input_example` parameter when logging the model to auto infer the model signature.\n"
     ]
    },
    {
     "name": "stdout",
     "output_type": "stream",
     "text": [
      "✅ Run logged for RandomForest with all_features in Fraud_Detection_Comparison\n",
      "🚀 Run ID: bd922d00878945a9b5d9a1b0d839a7a6\n",
      "🏃 View run RandomForest_all_features at: http://127.0.0.1:5000/#/experiments/865794027230414114/runs/bd922d00878945a9b5d9a1b0d839a7a6\n",
      "🧪 View experiment at: http://127.0.0.1:5000/#/experiments/865794027230414114\n"
     ]
    },
    {
     "name": "stderr",
     "output_type": "stream",
     "text": [
      "2025/07/26 09:49:22 WARNING mlflow.models.model: `artifact_path` is deprecated. Please use `name` instead.\n",
      "2025/07/26 09:49:25 WARNING mlflow.models.model: Model logged without a signature and input example. Please set `input_example` parameter when logging the model to auto infer the model signature.\n"
     ]
    },
    {
     "name": "stdout",
     "output_type": "stream",
     "text": [
      "✅ Run logged for SVC with all_features in Fraud_Detection_Comparison\n",
      "🚀 Run ID: ee359d57b7224110b6f29be68cbe2d6d\n",
      "🏃 View run SVC_all_features at: http://127.0.0.1:5000/#/experiments/865794027230414114/runs/ee359d57b7224110b6f29be68cbe2d6d\n",
      "🧪 View experiment at: http://127.0.0.1:5000/#/experiments/865794027230414114\n"
     ]
    },
    {
     "name": "stderr",
     "output_type": "stream",
     "text": [
      "2025/07/26 09:49:25 WARNING mlflow.models.model: `artifact_path` is deprecated. Please use `name` instead.\n",
      "2025/07/26 09:49:29 WARNING mlflow.models.model: Model logged without a signature and input example. Please set `input_example` parameter when logging the model to auto infer the model signature.\n"
     ]
    },
    {
     "name": "stdout",
     "output_type": "stream",
     "text": [
      "✅ Run logged for LogisticRegression with half_features in Fraud_Detection_Comparison\n",
      "🚀 Run ID: 68b024b49768499f8052556181bfc4dd\n",
      "🏃 View run LogisticRegression_half_features at: http://127.0.0.1:5000/#/experiments/865794027230414114/runs/68b024b49768499f8052556181bfc4dd\n",
      "🧪 View experiment at: http://127.0.0.1:5000/#/experiments/865794027230414114\n"
     ]
    },
    {
     "name": "stderr",
     "output_type": "stream",
     "text": [
      "2025/07/26 09:49:35 WARNING mlflow.models.model: `artifact_path` is deprecated. Please use `name` instead.\n",
      "2025/07/26 09:49:39 WARNING mlflow.models.model: Model logged without a signature and input example. Please set `input_example` parameter when logging the model to auto infer the model signature.\n"
     ]
    },
    {
     "name": "stdout",
     "output_type": "stream",
     "text": [
      "✅ Run logged for RandomForest with half_features in Fraud_Detection_Comparison\n",
      "🚀 Run ID: 9f965178264442ea98f14040bbf097c3\n",
      "🏃 View run RandomForest_half_features at: http://127.0.0.1:5000/#/experiments/865794027230414114/runs/9f965178264442ea98f14040bbf097c3\n",
      "🧪 View experiment at: http://127.0.0.1:5000/#/experiments/865794027230414114\n"
     ]
    },
    {
     "name": "stderr",
     "output_type": "stream",
     "text": [
      "2025/07/26 09:49:40 WARNING mlflow.models.model: `artifact_path` is deprecated. Please use `name` instead.\n",
      "2025/07/26 09:49:43 WARNING mlflow.models.model: Model logged without a signature and input example. Please set `input_example` parameter when logging the model to auto infer the model signature.\n"
     ]
    },
    {
     "name": "stdout",
     "output_type": "stream",
     "text": [
      "✅ Run logged for SVC with half_features in Fraud_Detection_Comparison\n",
      "🚀 Run ID: e05956016e1147958e447df22d71607b\n",
      "🏃 View run SVC_half_features at: http://127.0.0.1:5000/#/experiments/865794027230414114/runs/e05956016e1147958e447df22d71607b\n",
      "🧪 View experiment at: http://127.0.0.1:5000/#/experiments/865794027230414114\n"
     ]
    },
    {
     "name": "stderr",
     "output_type": "stream",
     "text": [
      "2025/07/26 09:49:44 WARNING mlflow.models.model: `artifact_path` is deprecated. Please use `name` instead.\n",
      "2025/07/26 09:49:47 WARNING mlflow.models.model: Model logged without a signature and input example. Please set `input_example` parameter when logging the model to auto infer the model signature.\n"
     ]
    },
    {
     "name": "stdout",
     "output_type": "stream",
     "text": [
      "✅ Run logged for LogisticRegression with top_10_features in Fraud_Detection_Comparison\n",
      "🚀 Run ID: d00eb9fa7a5749c8b8a660363f237a75\n",
      "🏃 View run LogisticRegression_top_10_features at: http://127.0.0.1:5000/#/experiments/865794027230414114/runs/d00eb9fa7a5749c8b8a660363f237a75\n",
      "🧪 View experiment at: http://127.0.0.1:5000/#/experiments/865794027230414114\n"
     ]
    },
    {
     "name": "stderr",
     "output_type": "stream",
     "text": [
      "2025/07/26 09:49:53 WARNING mlflow.models.model: `artifact_path` is deprecated. Please use `name` instead.\n",
      "2025/07/26 09:49:57 WARNING mlflow.models.model: Model logged without a signature and input example. Please set `input_example` parameter when logging the model to auto infer the model signature.\n"
     ]
    },
    {
     "name": "stdout",
     "output_type": "stream",
     "text": [
      "✅ Run logged for RandomForest with top_10_features in Fraud_Detection_Comparison\n",
      "🚀 Run ID: dca763c7284946f4896c3105a179f160\n",
      "🏃 View run RandomForest_top_10_features at: http://127.0.0.1:5000/#/experiments/865794027230414114/runs/dca763c7284946f4896c3105a179f160\n",
      "🧪 View experiment at: http://127.0.0.1:5000/#/experiments/865794027230414114\n"
     ]
    },
    {
     "name": "stderr",
     "output_type": "stream",
     "text": [
      "2025/07/26 09:49:58 WARNING mlflow.models.model: `artifact_path` is deprecated. Please use `name` instead.\n",
      "2025/07/26 09:50:01 WARNING mlflow.models.model: Model logged without a signature and input example. Please set `input_example` parameter when logging the model to auto infer the model signature.\n"
     ]
    },
    {
     "name": "stdout",
     "output_type": "stream",
     "text": [
      "✅ Run logged for SVC with top_10_features in Fraud_Detection_Comparison\n",
      "🚀 Run ID: da120a31f66649488c45bddc27e4b438\n",
      "🏃 View run SVC_top_10_features at: http://127.0.0.1:5000/#/experiments/865794027230414114/runs/da120a31f66649488c45bddc27e4b438\n",
      "🧪 View experiment at: http://127.0.0.1:5000/#/experiments/865794027230414114\n"
     ]
    },
    {
     "name": "stderr",
     "output_type": "stream",
     "text": [
      "2025/07/26 09:50:01 WARNING mlflow.models.model: `artifact_path` is deprecated. Please use `name` instead.\n",
      "2025/07/26 09:50:05 WARNING mlflow.models.model: Model logged without a signature and input example. Please set `input_example` parameter when logging the model to auto infer the model signature.\n"
     ]
    },
    {
     "name": "stdout",
     "output_type": "stream",
     "text": [
      "✅ Run logged for LogisticRegression with all_features in Fraud_Detection_Comparison\n",
      "🚀 Run ID: e38756e35e3b4c0697e9c707c592b0e0\n",
      "🏃 View run LogisticRegression_all_features at: http://127.0.0.1:5000/#/experiments/865794027230414114/runs/e38756e35e3b4c0697e9c707c592b0e0\n",
      "🧪 View experiment at: http://127.0.0.1:5000/#/experiments/865794027230414114\n"
     ]
    },
    {
     "name": "stderr",
     "output_type": "stream",
     "text": [
      "2025/07/26 09:50:12 WARNING mlflow.models.model: `artifact_path` is deprecated. Please use `name` instead.\n",
      "2025/07/26 09:50:15 WARNING mlflow.models.model: Model logged without a signature and input example. Please set `input_example` parameter when logging the model to auto infer the model signature.\n"
     ]
    },
    {
     "name": "stdout",
     "output_type": "stream",
     "text": [
      "✅ Run logged for RandomForest with all_features in Fraud_Detection_Comparison\n",
      "🚀 Run ID: bad69987c20c4e19a86fd76fb35bb447\n",
      "🏃 View run RandomForest_all_features at: http://127.0.0.1:5000/#/experiments/865794027230414114/runs/bad69987c20c4e19a86fd76fb35bb447\n",
      "🧪 View experiment at: http://127.0.0.1:5000/#/experiments/865794027230414114\n"
     ]
    },
    {
     "name": "stderr",
     "output_type": "stream",
     "text": [
      "2025/07/26 09:50:17 WARNING mlflow.models.model: `artifact_path` is deprecated. Please use `name` instead.\n",
      "2025/07/26 09:50:20 WARNING mlflow.models.model: Model logged without a signature and input example. Please set `input_example` parameter when logging the model to auto infer the model signature.\n"
     ]
    },
    {
     "name": "stdout",
     "output_type": "stream",
     "text": [
      "✅ Run logged for SVC with all_features in Fraud_Detection_Comparison\n",
      "🚀 Run ID: c5010643d8ba41288362cdc2491821ea\n",
      "🏃 View run SVC_all_features at: http://127.0.0.1:5000/#/experiments/865794027230414114/runs/c5010643d8ba41288362cdc2491821ea\n",
      "🧪 View experiment at: http://127.0.0.1:5000/#/experiments/865794027230414114\n"
     ]
    },
    {
     "name": "stderr",
     "output_type": "stream",
     "text": [
      "2025/07/26 09:50:20 WARNING mlflow.models.model: `artifact_path` is deprecated. Please use `name` instead.\n",
      "2025/07/26 09:50:23 WARNING mlflow.models.model: Model logged without a signature and input example. Please set `input_example` parameter when logging the model to auto infer the model signature.\n"
     ]
    },
    {
     "name": "stdout",
     "output_type": "stream",
     "text": [
      "✅ Run logged for LogisticRegression with half_features in Fraud_Detection_Comparison\n",
      "🚀 Run ID: e07a8bd40d0641f4a7b415c0ae1544ae\n",
      "🏃 View run LogisticRegression_half_features at: http://127.0.0.1:5000/#/experiments/865794027230414114/runs/e07a8bd40d0641f4a7b415c0ae1544ae\n",
      "🧪 View experiment at: http://127.0.0.1:5000/#/experiments/865794027230414114\n"
     ]
    },
    {
     "name": "stderr",
     "output_type": "stream",
     "text": [
      "2025/07/26 09:50:30 WARNING mlflow.models.model: `artifact_path` is deprecated. Please use `name` instead.\n",
      "2025/07/26 09:50:33 WARNING mlflow.models.model: Model logged without a signature and input example. Please set `input_example` parameter when logging the model to auto infer the model signature.\n"
     ]
    },
    {
     "name": "stdout",
     "output_type": "stream",
     "text": [
      "✅ Run logged for RandomForest with half_features in Fraud_Detection_Comparison\n",
      "🚀 Run ID: f4ba92225d2e41a09a69f656bf10ffe7\n",
      "🏃 View run RandomForest_half_features at: http://127.0.0.1:5000/#/experiments/865794027230414114/runs/f4ba92225d2e41a09a69f656bf10ffe7\n",
      "🧪 View experiment at: http://127.0.0.1:5000/#/experiments/865794027230414114\n"
     ]
    },
    {
     "name": "stderr",
     "output_type": "stream",
     "text": [
      "2025/07/26 09:50:34 WARNING mlflow.models.model: `artifact_path` is deprecated. Please use `name` instead.\n",
      "2025/07/26 09:50:38 WARNING mlflow.models.model: Model logged without a signature and input example. Please set `input_example` parameter when logging the model to auto infer the model signature.\n"
     ]
    },
    {
     "name": "stdout",
     "output_type": "stream",
     "text": [
      "✅ Run logged for SVC with half_features in Fraud_Detection_Comparison\n",
      "🚀 Run ID: c516251d49dc41e887b409cfa1e30430\n",
      "🏃 View run SVC_half_features at: http://127.0.0.1:5000/#/experiments/865794027230414114/runs/c516251d49dc41e887b409cfa1e30430\n",
      "🧪 View experiment at: http://127.0.0.1:5000/#/experiments/865794027230414114\n"
     ]
    },
    {
     "name": "stderr",
     "output_type": "stream",
     "text": [
      "2025/07/26 09:50:38 WARNING mlflow.models.model: `artifact_path` is deprecated. Please use `name` instead.\n",
      "2025/07/26 09:50:42 WARNING mlflow.models.model: Model logged without a signature and input example. Please set `input_example` parameter when logging the model to auto infer the model signature.\n"
     ]
    },
    {
     "name": "stdout",
     "output_type": "stream",
     "text": [
      "✅ Run logged for LogisticRegression with top_10_features in Fraud_Detection_Comparison\n",
      "🚀 Run ID: 1f52ff76e8c84c98bd8305b491cb3501\n",
      "🏃 View run LogisticRegression_top_10_features at: http://127.0.0.1:5000/#/experiments/865794027230414114/runs/1f52ff76e8c84c98bd8305b491cb3501\n",
      "🧪 View experiment at: http://127.0.0.1:5000/#/experiments/865794027230414114\n"
     ]
    },
    {
     "name": "stderr",
     "output_type": "stream",
     "text": [
      "2025/07/26 09:50:47 WARNING mlflow.models.model: `artifact_path` is deprecated. Please use `name` instead.\n",
      "2025/07/26 09:50:51 WARNING mlflow.models.model: Model logged without a signature and input example. Please set `input_example` parameter when logging the model to auto infer the model signature.\n"
     ]
    },
    {
     "name": "stdout",
     "output_type": "stream",
     "text": [
      "✅ Run logged for RandomForest with top_10_features in Fraud_Detection_Comparison\n",
      "🚀 Run ID: 93234f87bb694134ab6406e955ab96d1\n",
      "🏃 View run RandomForest_top_10_features at: http://127.0.0.1:5000/#/experiments/865794027230414114/runs/93234f87bb694134ab6406e955ab96d1\n",
      "🧪 View experiment at: http://127.0.0.1:5000/#/experiments/865794027230414114\n"
     ]
    },
    {
     "name": "stderr",
     "output_type": "stream",
     "text": [
      "2025/07/26 09:50:52 WARNING mlflow.models.model: `artifact_path` is deprecated. Please use `name` instead.\n",
      "2025/07/26 09:50:55 WARNING mlflow.models.model: Model logged without a signature and input example. Please set `input_example` parameter when logging the model to auto infer the model signature.\n"
     ]
    },
    {
     "name": "stdout",
     "output_type": "stream",
     "text": [
      "✅ Run logged for SVC with top_10_features in Fraud_Detection_Comparison\n",
      "🚀 Run ID: bbbd9c564b294945866cca34da4f0216\n",
      "🏃 View run SVC_top_10_features at: http://127.0.0.1:5000/#/experiments/865794027230414114/runs/bbbd9c564b294945866cca34da4f0216\n",
      "🧪 View experiment at: http://127.0.0.1:5000/#/experiments/865794027230414114\n"
     ]
    },
    {
     "name": "stderr",
     "output_type": "stream",
     "text": [
      "2025/07/26 09:50:56 WARNING mlflow.models.model: `artifact_path` is deprecated. Please use `name` instead.\n",
      "2025/07/26 09:50:59 WARNING mlflow.models.model: Model logged without a signature and input example. Please set `input_example` parameter when logging the model to auto infer the model signature.\n"
     ]
    },
    {
     "name": "stdout",
     "output_type": "stream",
     "text": [
      "✅ Run logged for LogisticRegression with all_features in Fraud_Detection_Comparison\n",
      "🚀 Run ID: 6b8b0397ccbd40ad9186e8935ecac17c\n",
      "🏃 View run LogisticRegression_all_features at: http://127.0.0.1:5000/#/experiments/865794027230414114/runs/6b8b0397ccbd40ad9186e8935ecac17c\n",
      "🧪 View experiment at: http://127.0.0.1:5000/#/experiments/865794027230414114\n"
     ]
    },
    {
     "name": "stderr",
     "output_type": "stream",
     "text": [
      "2025/07/26 09:51:08 WARNING mlflow.models.model: `artifact_path` is deprecated. Please use `name` instead.\n",
      "2025/07/26 09:51:11 WARNING mlflow.models.model: Model logged without a signature and input example. Please set `input_example` parameter when logging the model to auto infer the model signature.\n"
     ]
    },
    {
     "name": "stdout",
     "output_type": "stream",
     "text": [
      "✅ Run logged for RandomForest with all_features in Fraud_Detection_Comparison\n",
      "🚀 Run ID: b24e2bf2a9e341ceb8fb0a322f851cdb\n",
      "🏃 View run RandomForest_all_features at: http://127.0.0.1:5000/#/experiments/865794027230414114/runs/b24e2bf2a9e341ceb8fb0a322f851cdb\n",
      "🧪 View experiment at: http://127.0.0.1:5000/#/experiments/865794027230414114\n"
     ]
    },
    {
     "name": "stderr",
     "output_type": "stream",
     "text": [
      "2025/07/26 09:51:13 WARNING mlflow.models.model: `artifact_path` is deprecated. Please use `name` instead.\n",
      "2025/07/26 09:51:16 WARNING mlflow.models.model: Model logged without a signature and input example. Please set `input_example` parameter when logging the model to auto infer the model signature.\n"
     ]
    },
    {
     "name": "stdout",
     "output_type": "stream",
     "text": [
      "✅ Run logged for SVC with all_features in Fraud_Detection_Comparison\n",
      "🚀 Run ID: 93b705abf1b2426e90ad9cedbb96b960\n",
      "🏃 View run SVC_all_features at: http://127.0.0.1:5000/#/experiments/865794027230414114/runs/93b705abf1b2426e90ad9cedbb96b960\n",
      "🧪 View experiment at: http://127.0.0.1:5000/#/experiments/865794027230414114\n"
     ]
    },
    {
     "name": "stderr",
     "output_type": "stream",
     "text": [
      "2025/07/26 09:51:17 WARNING mlflow.models.model: `artifact_path` is deprecated. Please use `name` instead.\n",
      "2025/07/26 09:51:20 WARNING mlflow.models.model: Model logged without a signature and input example. Please set `input_example` parameter when logging the model to auto infer the model signature.\n"
     ]
    },
    {
     "name": "stdout",
     "output_type": "stream",
     "text": [
      "✅ Run logged for LogisticRegression with half_features in Fraud_Detection_Comparison\n",
      "🚀 Run ID: e457aa24bf704bc390eb4d74bc4fe4f5\n",
      "🏃 View run LogisticRegression_half_features at: http://127.0.0.1:5000/#/experiments/865794027230414114/runs/e457aa24bf704bc390eb4d74bc4fe4f5\n",
      "🧪 View experiment at: http://127.0.0.1:5000/#/experiments/865794027230414114\n"
     ]
    },
    {
     "name": "stderr",
     "output_type": "stream",
     "text": [
      "2025/07/26 09:51:26 WARNING mlflow.models.model: `artifact_path` is deprecated. Please use `name` instead.\n",
      "2025/07/26 09:51:30 WARNING mlflow.models.model: Model logged without a signature and input example. Please set `input_example` parameter when logging the model to auto infer the model signature.\n"
     ]
    },
    {
     "name": "stdout",
     "output_type": "stream",
     "text": [
      "✅ Run logged for RandomForest with half_features in Fraud_Detection_Comparison\n",
      "🚀 Run ID: 99643abd33f84c20ba8dcc020e49b208\n",
      "🏃 View run RandomForest_half_features at: http://127.0.0.1:5000/#/experiments/865794027230414114/runs/99643abd33f84c20ba8dcc020e49b208\n",
      "🧪 View experiment at: http://127.0.0.1:5000/#/experiments/865794027230414114\n"
     ]
    },
    {
     "name": "stderr",
     "output_type": "stream",
     "text": [
      "2025/07/26 09:51:31 WARNING mlflow.models.model: `artifact_path` is deprecated. Please use `name` instead.\n",
      "2025/07/26 09:51:35 WARNING mlflow.models.model: Model logged without a signature and input example. Please set `input_example` parameter when logging the model to auto infer the model signature.\n"
     ]
    },
    {
     "name": "stdout",
     "output_type": "stream",
     "text": [
      "✅ Run logged for SVC with half_features in Fraud_Detection_Comparison\n",
      "🚀 Run ID: 326f334165894fa7ba1c5d1dade114e2\n",
      "🏃 View run SVC_half_features at: http://127.0.0.1:5000/#/experiments/865794027230414114/runs/326f334165894fa7ba1c5d1dade114e2\n",
      "🧪 View experiment at: http://127.0.0.1:5000/#/experiments/865794027230414114\n"
     ]
    },
    {
     "name": "stderr",
     "output_type": "stream",
     "text": [
      "2025/07/26 09:51:36 WARNING mlflow.models.model: `artifact_path` is deprecated. Please use `name` instead.\n",
      "2025/07/26 09:51:39 WARNING mlflow.models.model: Model logged without a signature and input example. Please set `input_example` parameter when logging the model to auto infer the model signature.\n"
     ]
    },
    {
     "name": "stdout",
     "output_type": "stream",
     "text": [
      "✅ Run logged for LogisticRegression with top_10_features in Fraud_Detection_Comparison\n",
      "🚀 Run ID: a8d9029418ec458f80c0a112a97d0bad\n",
      "🏃 View run LogisticRegression_top_10_features at: http://127.0.0.1:5000/#/experiments/865794027230414114/runs/a8d9029418ec458f80c0a112a97d0bad\n",
      "🧪 View experiment at: http://127.0.0.1:5000/#/experiments/865794027230414114\n"
     ]
    },
    {
     "name": "stderr",
     "output_type": "stream",
     "text": [
      "2025/07/26 09:51:45 WARNING mlflow.models.model: `artifact_path` is deprecated. Please use `name` instead.\n",
      "2025/07/26 09:51:48 WARNING mlflow.models.model: Model logged without a signature and input example. Please set `input_example` parameter when logging the model to auto infer the model signature.\n"
     ]
    },
    {
     "name": "stdout",
     "output_type": "stream",
     "text": [
      "✅ Run logged for RandomForest with top_10_features in Fraud_Detection_Comparison\n",
      "🚀 Run ID: 6a798f0c9f6b456684444c10c0ca3973\n",
      "🏃 View run RandomForest_top_10_features at: http://127.0.0.1:5000/#/experiments/865794027230414114/runs/6a798f0c9f6b456684444c10c0ca3973\n",
      "🧪 View experiment at: http://127.0.0.1:5000/#/experiments/865794027230414114\n"
     ]
    },
    {
     "name": "stderr",
     "output_type": "stream",
     "text": [
      "2025/07/26 09:51:49 WARNING mlflow.models.model: `artifact_path` is deprecated. Please use `name` instead.\n",
      "2025/07/26 09:51:52 WARNING mlflow.models.model: Model logged without a signature and input example. Please set `input_example` parameter when logging the model to auto infer the model signature.\n"
     ]
    },
    {
     "name": "stdout",
     "output_type": "stream",
     "text": [
      "✅ Run logged for SVC with top_10_features in Fraud_Detection_Comparison\n",
      "🚀 Run ID: 4f93dbf22db34815b4ba4c2d45a42a55\n",
      "🏃 View run SVC_top_10_features at: http://127.0.0.1:5000/#/experiments/865794027230414114/runs/4f93dbf22db34815b4ba4c2d45a42a55\n",
      "🧪 View experiment at: http://127.0.0.1:5000/#/experiments/865794027230414114\n"
     ]
    },
    {
     "name": "stderr",
     "output_type": "stream",
     "text": [
      "2025/07/26 09:51:53 WARNING mlflow.models.model: `artifact_path` is deprecated. Please use `name` instead.\n",
      "2025/07/26 09:51:56 WARNING mlflow.models.model: Model logged without a signature and input example. Please set `input_example` parameter when logging the model to auto infer the model signature.\n"
     ]
    },
    {
     "name": "stdout",
     "output_type": "stream",
     "text": [
      "✅ Run logged for LogisticRegression with all_features in Fraud_Detection_Comparison\n",
      "🚀 Run ID: f11340c737884e34ac207706173dc739\n",
      "🏃 View run LogisticRegression_all_features at: http://127.0.0.1:5000/#/experiments/865794027230414114/runs/f11340c737884e34ac207706173dc739\n",
      "🧪 View experiment at: http://127.0.0.1:5000/#/experiments/865794027230414114\n"
     ]
    },
    {
     "name": "stderr",
     "output_type": "stream",
     "text": [
      "2025/07/26 09:52:06 WARNING mlflow.models.model: `artifact_path` is deprecated. Please use `name` instead.\n",
      "2025/07/26 09:52:10 WARNING mlflow.models.model: Model logged without a signature and input example. Please set `input_example` parameter when logging the model to auto infer the model signature.\n"
     ]
    },
    {
     "name": "stdout",
     "output_type": "stream",
     "text": [
      "✅ Run logged for RandomForest with all_features in Fraud_Detection_Comparison\n",
      "🚀 Run ID: 52141af9ea3447508be9752924d1664f\n",
      "🏃 View run RandomForest_all_features at: http://127.0.0.1:5000/#/experiments/865794027230414114/runs/52141af9ea3447508be9752924d1664f\n",
      "🧪 View experiment at: http://127.0.0.1:5000/#/experiments/865794027230414114\n"
     ]
    },
    {
     "name": "stderr",
     "output_type": "stream",
     "text": [
      "2025/07/26 09:52:11 WARNING mlflow.models.model: `artifact_path` is deprecated. Please use `name` instead.\n",
      "2025/07/26 09:52:14 WARNING mlflow.models.model: Model logged without a signature and input example. Please set `input_example` parameter when logging the model to auto infer the model signature.\n"
     ]
    },
    {
     "name": "stdout",
     "output_type": "stream",
     "text": [
      "✅ Run logged for SVC with all_features in Fraud_Detection_Comparison\n",
      "🚀 Run ID: 0a6677c8d1e244d7a023d1917a20e572\n",
      "🏃 View run SVC_all_features at: http://127.0.0.1:5000/#/experiments/865794027230414114/runs/0a6677c8d1e244d7a023d1917a20e572\n",
      "🧪 View experiment at: http://127.0.0.1:5000/#/experiments/865794027230414114\n"
     ]
    },
    {
     "name": "stderr",
     "output_type": "stream",
     "text": [
      "2025/07/26 09:52:15 WARNING mlflow.models.model: `artifact_path` is deprecated. Please use `name` instead.\n",
      "2025/07/26 09:52:19 WARNING mlflow.models.model: Model logged without a signature and input example. Please set `input_example` parameter when logging the model to auto infer the model signature.\n"
     ]
    },
    {
     "name": "stdout",
     "output_type": "stream",
     "text": [
      "✅ Run logged for LogisticRegression with half_features in Fraud_Detection_Comparison\n",
      "🚀 Run ID: f6603706b4514db89146dec6abee530b\n",
      "🏃 View run LogisticRegression_half_features at: http://127.0.0.1:5000/#/experiments/865794027230414114/runs/f6603706b4514db89146dec6abee530b\n",
      "🧪 View experiment at: http://127.0.0.1:5000/#/experiments/865794027230414114\n"
     ]
    },
    {
     "name": "stderr",
     "output_type": "stream",
     "text": [
      "2025/07/26 09:52:25 WARNING mlflow.models.model: `artifact_path` is deprecated. Please use `name` instead.\n",
      "2025/07/26 09:52:29 WARNING mlflow.models.model: Model logged without a signature and input example. Please set `input_example` parameter when logging the model to auto infer the model signature.\n"
     ]
    },
    {
     "name": "stdout",
     "output_type": "stream",
     "text": [
      "✅ Run logged for RandomForest with half_features in Fraud_Detection_Comparison\n",
      "🚀 Run ID: 99513977168347ca8d603f07b329b921\n",
      "🏃 View run RandomForest_half_features at: http://127.0.0.1:5000/#/experiments/865794027230414114/runs/99513977168347ca8d603f07b329b921\n",
      "🧪 View experiment at: http://127.0.0.1:5000/#/experiments/865794027230414114\n"
     ]
    },
    {
     "name": "stderr",
     "output_type": "stream",
     "text": [
      "2025/07/26 09:52:30 WARNING mlflow.models.model: `artifact_path` is deprecated. Please use `name` instead.\n",
      "2025/07/26 09:52:33 WARNING mlflow.models.model: Model logged without a signature and input example. Please set `input_example` parameter when logging the model to auto infer the model signature.\n"
     ]
    },
    {
     "name": "stdout",
     "output_type": "stream",
     "text": [
      "✅ Run logged for SVC with half_features in Fraud_Detection_Comparison\n",
      "🚀 Run ID: 71bc6e0d7de848f98594c67117685863\n",
      "🏃 View run SVC_half_features at: http://127.0.0.1:5000/#/experiments/865794027230414114/runs/71bc6e0d7de848f98594c67117685863\n",
      "🧪 View experiment at: http://127.0.0.1:5000/#/experiments/865794027230414114\n"
     ]
    },
    {
     "name": "stderr",
     "output_type": "stream",
     "text": [
      "2025/07/26 09:52:34 WARNING mlflow.models.model: `artifact_path` is deprecated. Please use `name` instead.\n",
      "2025/07/26 09:52:37 WARNING mlflow.models.model: Model logged without a signature and input example. Please set `input_example` parameter when logging the model to auto infer the model signature.\n"
     ]
    },
    {
     "name": "stdout",
     "output_type": "stream",
     "text": [
      "✅ Run logged for LogisticRegression with top_10_features in Fraud_Detection_Comparison\n",
      "🚀 Run ID: 77fa698ed2244340ba7f3b08ce754af6\n",
      "🏃 View run LogisticRegression_top_10_features at: http://127.0.0.1:5000/#/experiments/865794027230414114/runs/77fa698ed2244340ba7f3b08ce754af6\n",
      "🧪 View experiment at: http://127.0.0.1:5000/#/experiments/865794027230414114\n"
     ]
    },
    {
     "name": "stderr",
     "output_type": "stream",
     "text": [
      "2025/07/26 09:52:44 WARNING mlflow.models.model: `artifact_path` is deprecated. Please use `name` instead.\n",
      "2025/07/26 09:52:47 WARNING mlflow.models.model: Model logged without a signature and input example. Please set `input_example` parameter when logging the model to auto infer the model signature.\n"
     ]
    },
    {
     "name": "stdout",
     "output_type": "stream",
     "text": [
      "✅ Run logged for RandomForest with top_10_features in Fraud_Detection_Comparison\n",
      "🚀 Run ID: 8c211e5b4e9b4656986cc695d464839e\n",
      "🏃 View run RandomForest_top_10_features at: http://127.0.0.1:5000/#/experiments/865794027230414114/runs/8c211e5b4e9b4656986cc695d464839e\n",
      "🧪 View experiment at: http://127.0.0.1:5000/#/experiments/865794027230414114\n"
     ]
    },
    {
     "name": "stderr",
     "output_type": "stream",
     "text": [
      "2025/07/26 09:52:48 WARNING mlflow.models.model: `artifact_path` is deprecated. Please use `name` instead.\n",
      "2025/07/26 09:52:52 WARNING mlflow.models.model: Model logged without a signature and input example. Please set `input_example` parameter when logging the model to auto infer the model signature.\n"
     ]
    },
    {
     "name": "stdout",
     "output_type": "stream",
     "text": [
      "✅ Run logged for SVC with top_10_features in Fraud_Detection_Comparison\n",
      "🚀 Run ID: 42f8a5c87847472fbbe504bc6375689a\n",
      "🏃 View run SVC_top_10_features at: http://127.0.0.1:5000/#/experiments/865794027230414114/runs/42f8a5c87847472fbbe504bc6375689a\n",
      "🧪 View experiment at: http://127.0.0.1:5000/#/experiments/865794027230414114\n"
     ]
    },
    {
     "name": "stderr",
     "output_type": "stream",
     "text": [
      "2025/07/26 09:52:53 WARNING mlflow.models.model: `artifact_path` is deprecated. Please use `name` instead.\n",
      "2025/07/26 09:52:56 WARNING mlflow.models.model: Model logged without a signature and input example. Please set `input_example` parameter when logging the model to auto infer the model signature.\n"
     ]
    },
    {
     "name": "stdout",
     "output_type": "stream",
     "text": [
      "✅ Run logged for LogisticRegression with all_features in Fraud_Detection_Comparison\n",
      "🚀 Run ID: 6e012864a5df4c44845db2efab6dbd73\n",
      "🏃 View run LogisticRegression_all_features at: http://127.0.0.1:5000/#/experiments/865794027230414114/runs/6e012864a5df4c44845db2efab6dbd73\n",
      "🧪 View experiment at: http://127.0.0.1:5000/#/experiments/865794027230414114\n"
     ]
    },
    {
     "name": "stderr",
     "output_type": "stream",
     "text": [
      "2025/07/26 09:53:05 WARNING mlflow.models.model: `artifact_path` is deprecated. Please use `name` instead.\n",
      "2025/07/26 09:53:08 WARNING mlflow.models.model: Model logged without a signature and input example. Please set `input_example` parameter when logging the model to auto infer the model signature.\n"
     ]
    },
    {
     "name": "stdout",
     "output_type": "stream",
     "text": [
      "✅ Run logged for RandomForest with all_features in Fraud_Detection_Comparison\n",
      "🚀 Run ID: 4b5e2356ad7c451fb0bfa8a4126722eb\n",
      "🏃 View run RandomForest_all_features at: http://127.0.0.1:5000/#/experiments/865794027230414114/runs/4b5e2356ad7c451fb0bfa8a4126722eb\n",
      "🧪 View experiment at: http://127.0.0.1:5000/#/experiments/865794027230414114\n"
     ]
    },
    {
     "name": "stderr",
     "output_type": "stream",
     "text": [
      "2025/07/26 09:53:10 WARNING mlflow.models.model: `artifact_path` is deprecated. Please use `name` instead.\n",
      "2025/07/26 09:53:14 WARNING mlflow.models.model: Model logged without a signature and input example. Please set `input_example` parameter when logging the model to auto infer the model signature.\n"
     ]
    },
    {
     "name": "stdout",
     "output_type": "stream",
     "text": [
      "✅ Run logged for SVC with all_features in Fraud_Detection_Comparison\n",
      "🚀 Run ID: 5ae1d9efd46c47a0910faac0e263d32f\n",
      "🏃 View run SVC_all_features at: http://127.0.0.1:5000/#/experiments/865794027230414114/runs/5ae1d9efd46c47a0910faac0e263d32f\n",
      "🧪 View experiment at: http://127.0.0.1:5000/#/experiments/865794027230414114\n"
     ]
    },
    {
     "name": "stderr",
     "output_type": "stream",
     "text": [
      "2025/07/26 09:53:15 WARNING mlflow.models.model: `artifact_path` is deprecated. Please use `name` instead.\n",
      "2025/07/26 09:53:18 WARNING mlflow.models.model: Model logged without a signature and input example. Please set `input_example` parameter when logging the model to auto infer the model signature.\n"
     ]
    },
    {
     "name": "stdout",
     "output_type": "stream",
     "text": [
      "✅ Run logged for LogisticRegression with half_features in Fraud_Detection_Comparison\n",
      "🚀 Run ID: e40123d5bdf54bb7bd5187cdef24fb84\n",
      "🏃 View run LogisticRegression_half_features at: http://127.0.0.1:5000/#/experiments/865794027230414114/runs/e40123d5bdf54bb7bd5187cdef24fb84\n",
      "🧪 View experiment at: http://127.0.0.1:5000/#/experiments/865794027230414114\n"
     ]
    },
    {
     "name": "stderr",
     "output_type": "stream",
     "text": [
      "2025/07/26 09:53:24 WARNING mlflow.models.model: `artifact_path` is deprecated. Please use `name` instead.\n",
      "2025/07/26 09:53:28 WARNING mlflow.models.model: Model logged without a signature and input example. Please set `input_example` parameter when logging the model to auto infer the model signature.\n"
     ]
    },
    {
     "name": "stdout",
     "output_type": "stream",
     "text": [
      "✅ Run logged for RandomForest with half_features in Fraud_Detection_Comparison\n",
      "🚀 Run ID: f7f3cbe410284793a6e845075e8fbb82\n",
      "🏃 View run RandomForest_half_features at: http://127.0.0.1:5000/#/experiments/865794027230414114/runs/f7f3cbe410284793a6e845075e8fbb82\n",
      "🧪 View experiment at: http://127.0.0.1:5000/#/experiments/865794027230414114\n"
     ]
    },
    {
     "name": "stderr",
     "output_type": "stream",
     "text": [
      "2025/07/26 09:53:29 WARNING mlflow.models.model: `artifact_path` is deprecated. Please use `name` instead.\n",
      "2025/07/26 09:53:32 WARNING mlflow.models.model: Model logged without a signature and input example. Please set `input_example` parameter when logging the model to auto infer the model signature.\n"
     ]
    },
    {
     "name": "stdout",
     "output_type": "stream",
     "text": [
      "✅ Run logged for SVC with half_features in Fraud_Detection_Comparison\n",
      "🚀 Run ID: f3048535160649d8869d2ea57682d7cc\n",
      "🏃 View run SVC_half_features at: http://127.0.0.1:5000/#/experiments/865794027230414114/runs/f3048535160649d8869d2ea57682d7cc\n",
      "🧪 View experiment at: http://127.0.0.1:5000/#/experiments/865794027230414114\n"
     ]
    },
    {
     "name": "stderr",
     "output_type": "stream",
     "text": [
      "2025/07/26 09:53:33 WARNING mlflow.models.model: `artifact_path` is deprecated. Please use `name` instead.\n",
      "2025/07/26 09:53:36 WARNING mlflow.models.model: Model logged without a signature and input example. Please set `input_example` parameter when logging the model to auto infer the model signature.\n"
     ]
    },
    {
     "name": "stdout",
     "output_type": "stream",
     "text": [
      "✅ Run logged for LogisticRegression with top_10_features in Fraud_Detection_Comparison\n",
      "🚀 Run ID: d6f8ef5e2c0344bfa783851b89842152\n",
      "🏃 View run LogisticRegression_top_10_features at: http://127.0.0.1:5000/#/experiments/865794027230414114/runs/d6f8ef5e2c0344bfa783851b89842152\n",
      "🧪 View experiment at: http://127.0.0.1:5000/#/experiments/865794027230414114\n"
     ]
    },
    {
     "name": "stderr",
     "output_type": "stream",
     "text": [
      "2025/07/26 09:53:42 WARNING mlflow.models.model: `artifact_path` is deprecated. Please use `name` instead.\n",
      "2025/07/26 09:53:45 WARNING mlflow.models.model: Model logged without a signature and input example. Please set `input_example` parameter when logging the model to auto infer the model signature.\n"
     ]
    },
    {
     "name": "stdout",
     "output_type": "stream",
     "text": [
      "✅ Run logged for RandomForest with top_10_features in Fraud_Detection_Comparison\n",
      "🚀 Run ID: b75734a0036744b5ad7a830b1934dbd3\n",
      "🏃 View run RandomForest_top_10_features at: http://127.0.0.1:5000/#/experiments/865794027230414114/runs/b75734a0036744b5ad7a830b1934dbd3\n",
      "🧪 View experiment at: http://127.0.0.1:5000/#/experiments/865794027230414114\n"
     ]
    },
    {
     "name": "stderr",
     "output_type": "stream",
     "text": [
      "2025/07/26 09:53:47 WARNING mlflow.models.model: `artifact_path` is deprecated. Please use `name` instead.\n",
      "2025/07/26 09:53:50 WARNING mlflow.models.model: Model logged without a signature and input example. Please set `input_example` parameter when logging the model to auto infer the model signature.\n"
     ]
    },
    {
     "name": "stdout",
     "output_type": "stream",
     "text": [
      "✅ Run logged for SVC with top_10_features in Fraud_Detection_Comparison\n",
      "🚀 Run ID: f832cb9e25d249c7b4a2566c632f2ebd\n",
      "🏃 View run SVC_top_10_features at: http://127.0.0.1:5000/#/experiments/865794027230414114/runs/f832cb9e25d249c7b4a2566c632f2ebd\n",
      "🧪 View experiment at: http://127.0.0.1:5000/#/experiments/865794027230414114\n"
     ]
    },
    {
     "name": "stderr",
     "output_type": "stream",
     "text": [
      "2025/07/26 09:53:51 WARNING mlflow.models.model: `artifact_path` is deprecated. Please use `name` instead.\n",
      "2025/07/26 09:53:54 WARNING mlflow.models.model: Model logged without a signature and input example. Please set `input_example` parameter when logging the model to auto infer the model signature.\n"
     ]
    },
    {
     "name": "stdout",
     "output_type": "stream",
     "text": [
      "✅ Run logged for LogisticRegression with all_features in Fraud_Detection_Comparison\n",
      "🚀 Run ID: 6b595e256a5e4cfd9ea2132cab9c02a2\n",
      "🏃 View run LogisticRegression_all_features at: http://127.0.0.1:5000/#/experiments/865794027230414114/runs/6b595e256a5e4cfd9ea2132cab9c02a2\n",
      "🧪 View experiment at: http://127.0.0.1:5000/#/experiments/865794027230414114\n"
     ]
    },
    {
     "name": "stderr",
     "output_type": "stream",
     "text": [
      "2025/07/26 09:54:03 WARNING mlflow.models.model: `artifact_path` is deprecated. Please use `name` instead.\n",
      "2025/07/26 09:54:06 WARNING mlflow.models.model: Model logged without a signature and input example. Please set `input_example` parameter when logging the model to auto infer the model signature.\n"
     ]
    },
    {
     "name": "stdout",
     "output_type": "stream",
     "text": [
      "✅ Run logged for RandomForest with all_features in Fraud_Detection_Comparison\n",
      "🚀 Run ID: 84c5844d47004021b540fae948e8365a\n",
      "🏃 View run RandomForest_all_features at: http://127.0.0.1:5000/#/experiments/865794027230414114/runs/84c5844d47004021b540fae948e8365a\n",
      "🧪 View experiment at: http://127.0.0.1:5000/#/experiments/865794027230414114\n"
     ]
    },
    {
     "name": "stderr",
     "output_type": "stream",
     "text": [
      "2025/07/26 09:54:08 WARNING mlflow.models.model: `artifact_path` is deprecated. Please use `name` instead.\n",
      "2025/07/26 09:54:11 WARNING mlflow.models.model: Model logged without a signature and input example. Please set `input_example` parameter when logging the model to auto infer the model signature.\n"
     ]
    },
    {
     "name": "stdout",
     "output_type": "stream",
     "text": [
      "✅ Run logged for SVC with all_features in Fraud_Detection_Comparison\n",
      "🚀 Run ID: a4a2f1fe5c0645f899a80078afed8f59\n",
      "🏃 View run SVC_all_features at: http://127.0.0.1:5000/#/experiments/865794027230414114/runs/a4a2f1fe5c0645f899a80078afed8f59\n",
      "🧪 View experiment at: http://127.0.0.1:5000/#/experiments/865794027230414114\n"
     ]
    },
    {
     "name": "stderr",
     "output_type": "stream",
     "text": [
      "2025/07/26 09:54:12 WARNING mlflow.models.model: `artifact_path` is deprecated. Please use `name` instead.\n",
      "2025/07/26 09:54:15 WARNING mlflow.models.model: Model logged without a signature and input example. Please set `input_example` parameter when logging the model to auto infer the model signature.\n"
     ]
    },
    {
     "name": "stdout",
     "output_type": "stream",
     "text": [
      "✅ Run logged for LogisticRegression with half_features in Fraud_Detection_Comparison\n",
      "🚀 Run ID: daafa31773514a73ab840b14d480af09\n",
      "🏃 View run LogisticRegression_half_features at: http://127.0.0.1:5000/#/experiments/865794027230414114/runs/daafa31773514a73ab840b14d480af09\n",
      "🧪 View experiment at: http://127.0.0.1:5000/#/experiments/865794027230414114\n"
     ]
    },
    {
     "name": "stderr",
     "output_type": "stream",
     "text": [
      "2025/07/26 09:54:22 WARNING mlflow.models.model: `artifact_path` is deprecated. Please use `name` instead.\n",
      "2025/07/26 09:54:25 WARNING mlflow.models.model: Model logged without a signature and input example. Please set `input_example` parameter when logging the model to auto infer the model signature.\n"
     ]
    },
    {
     "name": "stdout",
     "output_type": "stream",
     "text": [
      "✅ Run logged for RandomForest with half_features in Fraud_Detection_Comparison\n",
      "🚀 Run ID: 4bf37f7b01b243ff97786a728d90623c\n",
      "🏃 View run RandomForest_half_features at: http://127.0.0.1:5000/#/experiments/865794027230414114/runs/4bf37f7b01b243ff97786a728d90623c\n",
      "🧪 View experiment at: http://127.0.0.1:5000/#/experiments/865794027230414114\n"
     ]
    },
    {
     "name": "stderr",
     "output_type": "stream",
     "text": [
      "2025/07/26 09:54:27 WARNING mlflow.models.model: `artifact_path` is deprecated. Please use `name` instead.\n",
      "2025/07/26 09:54:30 WARNING mlflow.models.model: Model logged without a signature and input example. Please set `input_example` parameter when logging the model to auto infer the model signature.\n"
     ]
    },
    {
     "name": "stdout",
     "output_type": "stream",
     "text": [
      "✅ Run logged for SVC with half_features in Fraud_Detection_Comparison\n",
      "🚀 Run ID: cab9a22d9d3c425e84362491e074557e\n",
      "🏃 View run SVC_half_features at: http://127.0.0.1:5000/#/experiments/865794027230414114/runs/cab9a22d9d3c425e84362491e074557e\n",
      "🧪 View experiment at: http://127.0.0.1:5000/#/experiments/865794027230414114\n"
     ]
    },
    {
     "name": "stderr",
     "output_type": "stream",
     "text": [
      "2025/07/26 09:54:30 WARNING mlflow.models.model: `artifact_path` is deprecated. Please use `name` instead.\n",
      "2025/07/26 09:54:34 WARNING mlflow.models.model: Model logged without a signature and input example. Please set `input_example` parameter when logging the model to auto infer the model signature.\n"
     ]
    },
    {
     "name": "stdout",
     "output_type": "stream",
     "text": [
      "✅ Run logged for LogisticRegression with top_10_features in Fraud_Detection_Comparison\n",
      "🚀 Run ID: ef9616f5b3c849cd84b37efd056af991\n",
      "🏃 View run LogisticRegression_top_10_features at: http://127.0.0.1:5000/#/experiments/865794027230414114/runs/ef9616f5b3c849cd84b37efd056af991\n",
      "🧪 View experiment at: http://127.0.0.1:5000/#/experiments/865794027230414114\n"
     ]
    },
    {
     "name": "stderr",
     "output_type": "stream",
     "text": [
      "2025/07/26 09:54:40 WARNING mlflow.models.model: `artifact_path` is deprecated. Please use `name` instead.\n",
      "2025/07/26 09:54:43 WARNING mlflow.models.model: Model logged without a signature and input example. Please set `input_example` parameter when logging the model to auto infer the model signature.\n"
     ]
    },
    {
     "name": "stdout",
     "output_type": "stream",
     "text": [
      "✅ Run logged for RandomForest with top_10_features in Fraud_Detection_Comparison\n",
      "🚀 Run ID: e890af8e3fac4afe923113c7184069a9\n",
      "🏃 View run RandomForest_top_10_features at: http://127.0.0.1:5000/#/experiments/865794027230414114/runs/e890af8e3fac4afe923113c7184069a9\n",
      "🧪 View experiment at: http://127.0.0.1:5000/#/experiments/865794027230414114\n"
     ]
    },
    {
     "name": "stderr",
     "output_type": "stream",
     "text": [
      "2025/07/26 09:54:44 WARNING mlflow.models.model: `artifact_path` is deprecated. Please use `name` instead.\n",
      "2025/07/26 09:54:48 WARNING mlflow.models.model: Model logged without a signature and input example. Please set `input_example` parameter when logging the model to auto infer the model signature.\n"
     ]
    },
    {
     "name": "stdout",
     "output_type": "stream",
     "text": [
      "✅ Run logged for SVC with top_10_features in Fraud_Detection_Comparison\n",
      "🚀 Run ID: 1d24d4f983ea4876ad9e4703683a320d\n",
      "🏃 View run SVC_top_10_features at: http://127.0.0.1:5000/#/experiments/865794027230414114/runs/1d24d4f983ea4876ad9e4703683a320d\n",
      "🧪 View experiment at: http://127.0.0.1:5000/#/experiments/865794027230414114\n"
     ]
    },
    {
     "name": "stderr",
     "output_type": "stream",
     "text": [
      "2025/07/26 09:54:48 WARNING mlflow.models.model: `artifact_path` is deprecated. Please use `name` instead.\n",
      "2025/07/26 09:54:52 WARNING mlflow.models.model: Model logged without a signature and input example. Please set `input_example` parameter when logging the model to auto infer the model signature.\n"
     ]
    },
    {
     "name": "stdout",
     "output_type": "stream",
     "text": [
      "✅ Run logged for LogisticRegression with all_features in Fraud_Detection_Comparison\n",
      "🚀 Run ID: 583969250166404aa360a0eb8556678f\n",
      "🏃 View run LogisticRegression_all_features at: http://127.0.0.1:5000/#/experiments/865794027230414114/runs/583969250166404aa360a0eb8556678f\n",
      "🧪 View experiment at: http://127.0.0.1:5000/#/experiments/865794027230414114\n"
     ]
    },
    {
     "name": "stderr",
     "output_type": "stream",
     "text": [
      "2025/07/26 09:55:00 WARNING mlflow.models.model: `artifact_path` is deprecated. Please use `name` instead.\n",
      "2025/07/26 09:55:04 WARNING mlflow.models.model: Model logged without a signature and input example. Please set `input_example` parameter when logging the model to auto infer the model signature.\n"
     ]
    },
    {
     "name": "stdout",
     "output_type": "stream",
     "text": [
      "✅ Run logged for RandomForest with all_features in Fraud_Detection_Comparison\n",
      "🚀 Run ID: 1370408e515e4dc4b50773e00726006f\n",
      "🏃 View run RandomForest_all_features at: http://127.0.0.1:5000/#/experiments/865794027230414114/runs/1370408e515e4dc4b50773e00726006f\n",
      "🧪 View experiment at: http://127.0.0.1:5000/#/experiments/865794027230414114\n"
     ]
    },
    {
     "name": "stderr",
     "output_type": "stream",
     "text": [
      "2025/07/26 09:55:05 WARNING mlflow.models.model: `artifact_path` is deprecated. Please use `name` instead.\n",
      "2025/07/26 09:55:08 WARNING mlflow.models.model: Model logged without a signature and input example. Please set `input_example` parameter when logging the model to auto infer the model signature.\n"
     ]
    },
    {
     "name": "stdout",
     "output_type": "stream",
     "text": [
      "✅ Run logged for SVC with all_features in Fraud_Detection_Comparison\n",
      "🚀 Run ID: 97a61082d08545c0a0b198327ceda95c\n",
      "🏃 View run SVC_all_features at: http://127.0.0.1:5000/#/experiments/865794027230414114/runs/97a61082d08545c0a0b198327ceda95c\n",
      "🧪 View experiment at: http://127.0.0.1:5000/#/experiments/865794027230414114\n"
     ]
    },
    {
     "name": "stderr",
     "output_type": "stream",
     "text": [
      "2025/07/26 09:55:09 WARNING mlflow.models.model: `artifact_path` is deprecated. Please use `name` instead.\n",
      "2025/07/26 09:55:12 WARNING mlflow.models.model: Model logged without a signature and input example. Please set `input_example` parameter when logging the model to auto infer the model signature.\n"
     ]
    },
    {
     "name": "stdout",
     "output_type": "stream",
     "text": [
      "✅ Run logged for LogisticRegression with half_features in Fraud_Detection_Comparison\n",
      "🚀 Run ID: f077b0346c1f45139912055cf4ac31ea\n",
      "🏃 View run LogisticRegression_half_features at: http://127.0.0.1:5000/#/experiments/865794027230414114/runs/f077b0346c1f45139912055cf4ac31ea\n",
      "🧪 View experiment at: http://127.0.0.1:5000/#/experiments/865794027230414114\n"
     ]
    },
    {
     "name": "stderr",
     "output_type": "stream",
     "text": [
      "2025/07/26 09:55:18 WARNING mlflow.models.model: `artifact_path` is deprecated. Please use `name` instead.\n",
      "2025/07/26 09:55:22 WARNING mlflow.models.model: Model logged without a signature and input example. Please set `input_example` parameter when logging the model to auto infer the model signature.\n"
     ]
    },
    {
     "name": "stdout",
     "output_type": "stream",
     "text": [
      "✅ Run logged for RandomForest with half_features in Fraud_Detection_Comparison\n",
      "🚀 Run ID: 8c2caeccca5844a8b43abf52e7ba9a33\n",
      "🏃 View run RandomForest_half_features at: http://127.0.0.1:5000/#/experiments/865794027230414114/runs/8c2caeccca5844a8b43abf52e7ba9a33\n",
      "🧪 View experiment at: http://127.0.0.1:5000/#/experiments/865794027230414114\n"
     ]
    },
    {
     "name": "stderr",
     "output_type": "stream",
     "text": [
      "2025/07/26 09:55:23 WARNING mlflow.models.model: `artifact_path` is deprecated. Please use `name` instead.\n",
      "2025/07/26 09:55:27 WARNING mlflow.models.model: Model logged without a signature and input example. Please set `input_example` parameter when logging the model to auto infer the model signature.\n"
     ]
    },
    {
     "name": "stdout",
     "output_type": "stream",
     "text": [
      "✅ Run logged for SVC with half_features in Fraud_Detection_Comparison\n",
      "🚀 Run ID: b3e2f5192700497cae7fc54f27332dbf\n",
      "🏃 View run SVC_half_features at: http://127.0.0.1:5000/#/experiments/865794027230414114/runs/b3e2f5192700497cae7fc54f27332dbf\n",
      "🧪 View experiment at: http://127.0.0.1:5000/#/experiments/865794027230414114\n"
     ]
    },
    {
     "name": "stderr",
     "output_type": "stream",
     "text": [
      "2025/07/26 09:55:27 WARNING mlflow.models.model: `artifact_path` is deprecated. Please use `name` instead.\n",
      "2025/07/26 09:55:30 WARNING mlflow.models.model: Model logged without a signature and input example. Please set `input_example` parameter when logging the model to auto infer the model signature.\n"
     ]
    },
    {
     "name": "stdout",
     "output_type": "stream",
     "text": [
      "✅ Run logged for LogisticRegression with top_10_features in Fraud_Detection_Comparison\n",
      "🚀 Run ID: 5993360bb554416da62b9b595775d67b\n",
      "🏃 View run LogisticRegression_top_10_features at: http://127.0.0.1:5000/#/experiments/865794027230414114/runs/5993360bb554416da62b9b595775d67b\n",
      "🧪 View experiment at: http://127.0.0.1:5000/#/experiments/865794027230414114\n"
     ]
    },
    {
     "name": "stderr",
     "output_type": "stream",
     "text": [
      "2025/07/26 09:55:36 WARNING mlflow.models.model: `artifact_path` is deprecated. Please use `name` instead.\n",
      "2025/07/26 09:55:39 WARNING mlflow.models.model: Model logged without a signature and input example. Please set `input_example` parameter when logging the model to auto infer the model signature.\n"
     ]
    },
    {
     "name": "stdout",
     "output_type": "stream",
     "text": [
      "✅ Run logged for RandomForest with top_10_features in Fraud_Detection_Comparison\n",
      "🚀 Run ID: 8367310345f2407aa2ee94cbb1c45d22\n",
      "🏃 View run RandomForest_top_10_features at: http://127.0.0.1:5000/#/experiments/865794027230414114/runs/8367310345f2407aa2ee94cbb1c45d22\n",
      "🧪 View experiment at: http://127.0.0.1:5000/#/experiments/865794027230414114\n"
     ]
    },
    {
     "name": "stderr",
     "output_type": "stream",
     "text": [
      "2025/07/26 09:55:40 WARNING mlflow.models.model: `artifact_path` is deprecated. Please use `name` instead.\n",
      "2025/07/26 09:55:43 WARNING mlflow.models.model: Model logged without a signature and input example. Please set `input_example` parameter when logging the model to auto infer the model signature.\n"
     ]
    },
    {
     "name": "stdout",
     "output_type": "stream",
     "text": [
      "✅ Run logged for SVC with top_10_features in Fraud_Detection_Comparison\n",
      "🚀 Run ID: 2f080b7d8ddb4b1f9e7434336e4cad97\n",
      "🏃 View run SVC_top_10_features at: http://127.0.0.1:5000/#/experiments/865794027230414114/runs/2f080b7d8ddb4b1f9e7434336e4cad97\n",
      "🧪 View experiment at: http://127.0.0.1:5000/#/experiments/865794027230414114\n"
     ]
    }
   ],
   "source": [
    "import os\n",
    "import joblib\n",
    "import pandas as pd\n",
    "import mlflow\n",
    "import mlflow.sklearn\n",
    "from sklearn.model_selection import train_test_split, GridSearchCV\n",
    "from sklearn.linear_model import LogisticRegression\n",
    "from sklearn.ensemble import RandomForestClassifier\n",
    "from sklearn.svm import SVC\n",
    "from sklearn.metrics import accuracy_score, precision_score, recall_score\n",
    "from sklearn.metrics import f1_score\n",
    "\n",
    "# ✅ Load dataset\n",
    "## Load your dataset\n",
    "df = pd.read_parquet(\"data/fraud_data.parquet\")\n",
    "# ✅ Features and label\n",
    "target = \"Class\"\n",
    "X_full = df.drop(columns=[target])\n",
    "y = df[target]\n",
    "\n",
    "# ✅ Define feature subsets\n",
    "# Drop columns with too many unique values (e.g., more than 100)\n",
    "for col in X_full.select_dtypes(include=\"object\").columns:\n",
    "    if X_full[col].nunique() > 100:\n",
    "        print(f\"Dropping column: {col} (unique: {X_full[col].nunique()})\")\n",
    "        X_full = X_full.drop(columns=col)\n",
    "\n",
    "X_full = pd.get_dummies(X_full)  # One-hot encode all object-type columns\n",
    "all_features = X_full.columns.tolist()\n",
    "os.makedirs(\"artifacts\", exist_ok=True)  # Create directory if it doesn't exist\n",
    "joblib.dump(X_full.columns.tolist(), \"artifacts/feature_names.pkl\")\n",
    "\n",
    "half_features = all_features[:len(all_features)//2]\n",
    "top_features = all_features[10:20]  # Example: features ranked important by domain or feature importance\n",
    "\n",
    "feature_sets = {\n",
    "    \"all_features\": all_features,\n",
    "    \"half_features\": half_features,\n",
    "    \"top_10_features\": top_features\n",
    "}\n",
    "\n",
    "# ✅ Define models and hyperparameters\n",
    "models = {\n",
    "    \"LogisticRegression\": {\n",
    "        \"model\": LogisticRegression(max_iter=500),\n",
    "        \"params\": {\"C\": [0.1, 1, 10]}\n",
    "    },\n",
    "    \"RandomForest\": {\n",
    "        \"model\": RandomForestClassifier(),\n",
    "        \"params\": {\"n_estimators\": [50, 100], \"max_depth\": [3, 5]}\n",
    "    },\n",
    "    \"SVC\": {\n",
    "        \"model\": SVC(),\n",
    "        \"params\": {\"C\": [0.1, 1], \"kernel\": [\"linear\", \"rbf\"]}\n",
    "    }\n",
    "}\n",
    "\n",
    "\n",
    "for exp_id in range(1, 11):\n",
    "    experiment_name = \"Fraud_Detection_Comparison\"  # Define the name as a string\n",
    "    mlflow.set_tracking_uri(\"http://127.0.0.1:5000\")\n",
    "    experiment = mlflow.set_experiment(experiment_name)  # Set and get experiment object\n",
    "    experiment_id = experiment.experiment_id  # Extract the ID\n",
    "\n",
    "    for feature_set_name, selected_features in feature_sets.items():\n",
    "        X = X_full[selected_features]\n",
    "        X_train, X_test, y_train, y_test = train_test_split(X, y, test_size=0.3, random_state=exp_id)\n",
    "\n",
    "        for model_name, config in models.items():\n",
    "            model = config[\"model\"]\n",
    "            param_grid = config[\"params\"]\n",
    "\n",
    "            grid = GridSearchCV(model, param_grid, cv=3, scoring=\"accuracy\")\n",
    "            grid.fit(X_train, y_train)\n",
    "\n",
    "            best_model = grid.best_estimator_\n",
    "            y_pred = best_model.predict(X_test)\n",
    "\n",
    "            acc = accuracy_score(y_test, y_pred)\n",
    "            prec = precision_score(y_test, y_pred, zero_division=0)\n",
    "            rec = recall_score(y_test, y_pred, zero_division=0)\n",
    "            f1 = f1_score(y_test, y_pred, zero_division=0)  # ✅ new\n",
    "            \n",
    "            with mlflow.start_run(run_name=f\"{model_name}_{feature_set_name}\"):\n",
    "                mlflow.log_param(\"model\", model_name)\n",
    "                mlflow.log_param(\"feature_set\", feature_set_name)\n",
    "                mlflow.log_params(grid.best_params_)\n",
    "                mlflow.log_metric(\"accuracy\", acc)\n",
    "                mlflow.log_metric(\"precision\", prec)\n",
    "                mlflow.log_metric(\"recall\", rec)\n",
    "                mlflow.sklearn.log_model(best_model, artifact_path=\"model\")\n",
    "\n",
    "                print(f\"✅ Run logged for {model_name} with {feature_set_name} in {experiment_name}\")\n",
    "                print(\"🚀 Run ID:\", mlflow.active_run().info.run_id)\n"
   ]
  },
  {
   "cell_type": "code",
   "execution_count": null,
   "id": "1c2df3ec-731e-40db-b213-e78fa561f99e",
   "metadata": {},
   "outputs": [],
   "source": []
  }
 ],
 "metadata": {
  "kernelspec": {
   "display_name": "Python 3 (ipykernel)",
   "language": "python",
   "name": "python3"
  },
  "language_info": {
   "codemirror_mode": {
    "name": "ipython",
    "version": 3
   },
   "file_extension": ".py",
   "mimetype": "text/x-python",
   "name": "python",
   "nbconvert_exporter": "python",
   "pygments_lexer": "ipython3",
   "version": "3.11.9"
  }
 },
 "nbformat": 4,
 "nbformat_minor": 5
}
