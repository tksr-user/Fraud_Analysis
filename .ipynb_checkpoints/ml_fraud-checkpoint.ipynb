{
 "cells": [
  {
   "cell_type": "code",
   "execution_count": 3,
   "id": "1c7e2cc6-9980-4823-9e78-cc3bdd805220",
   "metadata": {},
   "outputs": [],
   "source": [
    "\n",
    "import pandas as pd\n",
    "from sklearn.preprocessing import StandardScaler\n",
    "import mlflow\n",
    "import uuid\n",
    "from datetime import datetime\n",
    "import os\n",
    "import io\n",
    "from sklearn.model_selection import train_test_split, GridSearchCV\n",
    "from sklearn.linear_model import LogisticRegression\n",
    "from sklearn.ensemble import RandomForestClassifier\n",
    "from sklearn.svm import SVC\n",
    "from sklearn.metrics import accuracy_score, precision_score, recall_score\n",
    "\n"
   ]
  },
  {
   "cell_type": "code",
   "execution_count": 11,
   "id": "91b69a42-07ea-41d8-a73d-f38491b24c3e",
   "metadata": {},
   "outputs": [
    {
     "name": "stdout",
     "output_type": "stream",
     "text": [
      "Path to dataset files: C:\\Users\\aman1\\.cache\\kagglehub\\datasets\\mlg-ulb\\creditcardfraud\\versions\\3\n"
     ]
    }
   ],
   "source": [
    "import kagglehub\n",
    "\n",
    "# Download latest version\n",
    "path = kagglehub.dataset_download(\"mlg-ulb/creditcardfraud\")\n",
    "\n",
    "print(\"Path to dataset files:\", path)"
   ]
  },
  {
   "cell_type": "code",
   "execution_count": 4,
   "id": "fbcbdb79-ae78-4936-91a0-8e21575ee33a",
   "metadata": {
    "editable": true,
    "slideshow": {
     "slide_type": ""
    },
    "tags": []
   },
   "outputs": [
    {
     "name": "stdout",
     "output_type": "stream",
     "text": [
      "Time      0\n",
      "V1        0\n",
      "V2        0\n",
      "V3        0\n",
      "V4        0\n",
      "V5        0\n",
      "V6        0\n",
      "V7        0\n",
      "V8        0\n",
      "V9        0\n",
      "V10       0\n",
      "V11       0\n",
      "V12       0\n",
      "V13       0\n",
      "V14       0\n",
      "V15       0\n",
      "V16       0\n",
      "V17       0\n",
      "V18       0\n",
      "V19       0\n",
      "V20       0\n",
      "V21       0\n",
      "V22       0\n",
      "V23       0\n",
      "V24       0\n",
      "V25       0\n",
      "V26       0\n",
      "V27       0\n",
      "V28       0\n",
      "Amount    0\n",
      "Class     0\n",
      "dtype: int64\n",
      "✅ Parquet file saved: fraud_data.parquet\n",
      "✅ Parquet file loaded successfully.\n"
     ]
    }
   ],
   "source": [
    "# Load data\n",
    "df = pd.read_csv(\"creditcard.csv\")#paste path of download file \n",
    "df = df.sample(n=10000, random_state=42).reset_index(drop=True)\n",
    "\n",
    "# Check missing values\n",
    "print(df.isnull().sum())  # should be all 0\n",
    "\n",
    "# Remove duplicates\n",
    "df = df.drop_duplicates()\n",
    "\n",
    "# Scale Amount column\n",
    "scaler = StandardScaler()\n",
    "df['scaled_amount'] = scaler.fit_transform(df[['Amount']])\n",
    "\n",
    "# Optionally drop original Amount and Time\n",
    "df = df.drop(['Amount', 'Time'], axis=1)\n",
    "# === Step 2: Add Required Columns ===\n",
    "\n",
    "df[\"TransactionID\"] = [str(uuid.uuid4()) for _ in range(len(df))]\n",
    "df[\"EventTime\"] = datetime.utcnow().isoformat()\n",
    "\n",
    "# === Step 3: Save Locally as Parquet ===\n",
    "parquet_path = \"fraud_data.parquet\"\n",
    "df.to_parquet(parquet_path, index=False)\n",
    "print(\"✅ Parquet file saved:\", parquet_path)\n",
    "# Read Parquet file into DataFrame\n",
    "# Read Parquet file into DataFrame\n",
    "parquet_path = \"fraud_data.parquet\"\n",
    "df = pd.read_parquet(parquet_path)\n",
    "\n",
    "print(\"✅ Parquet file loaded successfully.\")"
   ]
  },
  {
   "cell_type": "code",
   "execution_count": 9,
   "id": "0c1a3123-5df5-420b-ac41-a432ca449d72",
   "metadata": {},
   "outputs": [
    {
     "name": "stdout",
     "output_type": "stream",
     "text": [
      "🏃 View run silent-bug-144 at: http://127.0.0.1:5000/#/experiments/865794027230414114/runs/92b65c24d1e842f682ee5bbe9a2078e6\n",
      "🧪 View experiment at: http://127.0.0.1:5000/#/experiments/865794027230414114\n",
      "✅ MLflow run completed. Run ID: 76d33a1df8bd45fea4ea436e975fe2de\n",
      "🏃 View run data_exploration_run at: http://127.0.0.1:5000/#/experiments/865794027230414114/runs/76d33a1df8bd45fea4ea436e975fe2de\n",
      "🧪 View experiment at: http://127.0.0.1:5000/#/experiments/865794027230414114\n"
     ]
    }
   ],
   "source": [
    "# Start a run\n",
    "mlflow.set_tracking_uri(\"http://127.0.0.1:5000\")  # Or local path\n",
    "mlflow.set_experiment(\"Fraud_Detection_Comparison\")\n",
    "with mlflow.start_run():\n",
    "    mlflow.log_param(\"param1\", 5)\n",
    "    mlflow.log_metric(\"accuracy\", 0.95)\n",
    "\n",
    "#  Start MLflow run and log\n",
    "with mlflow.start_run(run_name=\"data_exploration_run\") as run:\n",
    "    # Log a sample parameter\n",
    "    mlflow.log_param(\"data_source\", \"fraud_data.parquet\")\n",
    "\n",
    "    # Log a sample metric\n",
    "    mlflow.log_metric(\"num_rows\", len(df))\n",
    "\n",
    "    # Save and log artifact\n",
    "    sample_path = \"sample_data.csv\"\n",
    "    df.head(100).to_csv(sample_path, index=False)\n",
    "    mlflow.log_artifact(sample_path)\n",
    "\n",
    "    print(\"✅ MLflow run completed. Run ID:\", run.info.run_id)\n"
   ]
  },
  {
   "cell_type": "code",
   "execution_count": 10,
   "id": "40bce86d-9d5e-4dc8-877c-15bf2c29360b",
   "metadata": {
    "scrolled": true
   },
   "outputs": [
    {
     "name": "stdout",
     "output_type": "stream",
     "text": [
      "Dropping column: TransactionID (unique: 10000)\n"
     ]
    },
    {
     "name": "stderr",
     "output_type": "stream",
     "text": [
      "2025/07/25 11:20:20 WARNING mlflow.models.model: `artifact_path` is deprecated. Please use `name` instead.\n",
      "2025/07/25 11:20:24 WARNING mlflow.models.model: Model logged without a signature and input example. Please set `input_example` parameter when logging the model to auto infer the model signature.\n"
     ]
    },
    {
     "name": "stdout",
     "output_type": "stream",
     "text": [
      "✅ Run logged for LogisticRegression with all_features in Fraud_Detection_Exp_1\n",
      "🏃 View run LogisticRegression_all_features at: http://127.0.0.1:5000/#/experiments/716805485245489680/runs/c0d6bc8d585c4c31b5f2143d4e593258\n",
      "🧪 View experiment at: http://127.0.0.1:5000/#/experiments/716805485245489680\n"
     ]
    },
    {
     "name": "stderr",
     "output_type": "stream",
     "text": [
      "2025/07/25 11:20:32 WARNING mlflow.models.model: `artifact_path` is deprecated. Please use `name` instead.\n",
      "2025/07/25 11:20:35 WARNING mlflow.models.model: Model logged without a signature and input example. Please set `input_example` parameter when logging the model to auto infer the model signature.\n"
     ]
    },
    {
     "name": "stdout",
     "output_type": "stream",
     "text": [
      "✅ Run logged for RandomForest with all_features in Fraud_Detection_Exp_1\n",
      "🏃 View run RandomForest_all_features at: http://127.0.0.1:5000/#/experiments/716805485245489680/runs/b2e26c5d98194a2681d2e4bf42946f57\n",
      "🧪 View experiment at: http://127.0.0.1:5000/#/experiments/716805485245489680\n"
     ]
    },
    {
     "name": "stderr",
     "output_type": "stream",
     "text": [
      "2025/07/25 11:20:36 WARNING mlflow.models.model: `artifact_path` is deprecated. Please use `name` instead.\n",
      "2025/07/25 11:20:40 WARNING mlflow.models.model: Model logged without a signature and input example. Please set `input_example` parameter when logging the model to auto infer the model signature.\n"
     ]
    },
    {
     "name": "stdout",
     "output_type": "stream",
     "text": [
      "✅ Run logged for SVC with all_features in Fraud_Detection_Exp_1\n",
      "🏃 View run SVC_all_features at: http://127.0.0.1:5000/#/experiments/716805485245489680/runs/0ce000222f8a496f9fd924df023f0485\n",
      "🧪 View experiment at: http://127.0.0.1:5000/#/experiments/716805485245489680\n"
     ]
    },
    {
     "name": "stderr",
     "output_type": "stream",
     "text": [
      "2025/07/25 11:20:40 WARNING mlflow.models.model: `artifact_path` is deprecated. Please use `name` instead.\n",
      "2025/07/25 11:20:43 WARNING mlflow.models.model: Model logged without a signature and input example. Please set `input_example` parameter when logging the model to auto infer the model signature.\n"
     ]
    },
    {
     "name": "stdout",
     "output_type": "stream",
     "text": [
      "✅ Run logged for LogisticRegression with half_features in Fraud_Detection_Exp_1\n",
      "🏃 View run LogisticRegression_half_features at: http://127.0.0.1:5000/#/experiments/716805485245489680/runs/ebb0bd1fa1f94fcea846e018eb0926c4\n",
      "🧪 View experiment at: http://127.0.0.1:5000/#/experiments/716805485245489680\n"
     ]
    },
    {
     "name": "stderr",
     "output_type": "stream",
     "text": [
      "2025/07/25 11:20:50 WARNING mlflow.models.model: `artifact_path` is deprecated. Please use `name` instead.\n",
      "2025/07/25 11:20:53 WARNING mlflow.models.model: Model logged without a signature and input example. Please set `input_example` parameter when logging the model to auto infer the model signature.\n"
     ]
    },
    {
     "name": "stdout",
     "output_type": "stream",
     "text": [
      "✅ Run logged for RandomForest with half_features in Fraud_Detection_Exp_1\n",
      "🏃 View run RandomForest_half_features at: http://127.0.0.1:5000/#/experiments/716805485245489680/runs/e2e8b864671f4442b45bdb721d51245c\n",
      "🧪 View experiment at: http://127.0.0.1:5000/#/experiments/716805485245489680\n"
     ]
    },
    {
     "name": "stderr",
     "output_type": "stream",
     "text": [
      "2025/07/25 11:20:54 WARNING mlflow.models.model: `artifact_path` is deprecated. Please use `name` instead.\n",
      "2025/07/25 11:20:58 WARNING mlflow.models.model: Model logged without a signature and input example. Please set `input_example` parameter when logging the model to auto infer the model signature.\n"
     ]
    },
    {
     "name": "stdout",
     "output_type": "stream",
     "text": [
      "✅ Run logged for SVC with half_features in Fraud_Detection_Exp_1\n",
      "🏃 View run SVC_half_features at: http://127.0.0.1:5000/#/experiments/716805485245489680/runs/2404dd3ba27f48aa826c7e817652f9e2\n",
      "🧪 View experiment at: http://127.0.0.1:5000/#/experiments/716805485245489680\n"
     ]
    },
    {
     "name": "stderr",
     "output_type": "stream",
     "text": [
      "2025/07/25 11:20:58 WARNING mlflow.models.model: `artifact_path` is deprecated. Please use `name` instead.\n",
      "2025/07/25 11:21:01 WARNING mlflow.models.model: Model logged without a signature and input example. Please set `input_example` parameter when logging the model to auto infer the model signature.\n"
     ]
    },
    {
     "name": "stdout",
     "output_type": "stream",
     "text": [
      "✅ Run logged for LogisticRegression with top_10_features in Fraud_Detection_Exp_1\n",
      "🏃 View run LogisticRegression_top_10_features at: http://127.0.0.1:5000/#/experiments/716805485245489680/runs/a0de4d2a56914ef5a4e764b49508ba6f\n",
      "🧪 View experiment at: http://127.0.0.1:5000/#/experiments/716805485245489680\n"
     ]
    },
    {
     "name": "stderr",
     "output_type": "stream",
     "text": [
      "2025/07/25 11:21:07 WARNING mlflow.models.model: `artifact_path` is deprecated. Please use `name` instead.\n",
      "2025/07/25 11:21:10 WARNING mlflow.models.model: Model logged without a signature and input example. Please set `input_example` parameter when logging the model to auto infer the model signature.\n"
     ]
    },
    {
     "name": "stdout",
     "output_type": "stream",
     "text": [
      "✅ Run logged for RandomForest with top_10_features in Fraud_Detection_Exp_1\n",
      "🏃 View run RandomForest_top_10_features at: http://127.0.0.1:5000/#/experiments/716805485245489680/runs/9c37cb7d329542f69410274df2371b2f\n",
      "🧪 View experiment at: http://127.0.0.1:5000/#/experiments/716805485245489680\n"
     ]
    },
    {
     "name": "stderr",
     "output_type": "stream",
     "text": [
      "2025/07/25 11:21:11 WARNING mlflow.models.model: `artifact_path` is deprecated. Please use `name` instead.\n",
      "2025/07/25 11:21:15 WARNING mlflow.models.model: Model logged without a signature and input example. Please set `input_example` parameter when logging the model to auto infer the model signature.\n"
     ]
    },
    {
     "name": "stdout",
     "output_type": "stream",
     "text": [
      "✅ Run logged for SVC with top_10_features in Fraud_Detection_Exp_1\n",
      "🏃 View run SVC_top_10_features at: http://127.0.0.1:5000/#/experiments/716805485245489680/runs/c9d8754f565f44de977d7551bb2c4954\n",
      "🧪 View experiment at: http://127.0.0.1:5000/#/experiments/716805485245489680\n"
     ]
    },
    {
     "name": "stderr",
     "output_type": "stream",
     "text": [
      "2025/07/25 11:21:15 WARNING mlflow.models.model: `artifact_path` is deprecated. Please use `name` instead.\n",
      "2025/07/25 11:21:19 WARNING mlflow.models.model: Model logged without a signature and input example. Please set `input_example` parameter when logging the model to auto infer the model signature.\n"
     ]
    },
    {
     "name": "stdout",
     "output_type": "stream",
     "text": [
      "✅ Run logged for LogisticRegression with all_features in Fraud_Detection_Exp_2\n",
      "🏃 View run LogisticRegression_all_features at: http://127.0.0.1:5000/#/experiments/247689927393813146/runs/77f04b1e1d2d433693bc83553cad0266\n",
      "🧪 View experiment at: http://127.0.0.1:5000/#/experiments/247689927393813146\n"
     ]
    },
    {
     "name": "stderr",
     "output_type": "stream",
     "text": [
      "2025/07/25 11:21:29 WARNING mlflow.models.model: `artifact_path` is deprecated. Please use `name` instead.\n",
      "2025/07/25 11:21:32 WARNING mlflow.models.model: Model logged without a signature and input example. Please set `input_example` parameter when logging the model to auto infer the model signature.\n"
     ]
    },
    {
     "name": "stdout",
     "output_type": "stream",
     "text": [
      "✅ Run logged for RandomForest with all_features in Fraud_Detection_Exp_2\n",
      "🏃 View run RandomForest_all_features at: http://127.0.0.1:5000/#/experiments/247689927393813146/runs/76a88035d5244a7ea242b2eb4b1f9257\n",
      "🧪 View experiment at: http://127.0.0.1:5000/#/experiments/247689927393813146\n"
     ]
    },
    {
     "name": "stderr",
     "output_type": "stream",
     "text": [
      "2025/07/25 11:21:33 WARNING mlflow.models.model: `artifact_path` is deprecated. Please use `name` instead.\n",
      "2025/07/25 11:21:37 WARNING mlflow.models.model: Model logged without a signature and input example. Please set `input_example` parameter when logging the model to auto infer the model signature.\n"
     ]
    },
    {
     "name": "stdout",
     "output_type": "stream",
     "text": [
      "✅ Run logged for SVC with all_features in Fraud_Detection_Exp_2\n",
      "🏃 View run SVC_all_features at: http://127.0.0.1:5000/#/experiments/247689927393813146/runs/61f28ab64a9a4761bb7525c4301d1b6e\n",
      "🧪 View experiment at: http://127.0.0.1:5000/#/experiments/247689927393813146\n"
     ]
    },
    {
     "name": "stderr",
     "output_type": "stream",
     "text": [
      "2025/07/25 11:21:37 WARNING mlflow.models.model: `artifact_path` is deprecated. Please use `name` instead.\n",
      "2025/07/25 11:21:40 WARNING mlflow.models.model: Model logged without a signature and input example. Please set `input_example` parameter when logging the model to auto infer the model signature.\n"
     ]
    },
    {
     "name": "stdout",
     "output_type": "stream",
     "text": [
      "✅ Run logged for LogisticRegression with half_features in Fraud_Detection_Exp_2\n",
      "🏃 View run LogisticRegression_half_features at: http://127.0.0.1:5000/#/experiments/247689927393813146/runs/90ec1d38ca6846fc9fbf7858d63e7fdd\n",
      "🧪 View experiment at: http://127.0.0.1:5000/#/experiments/247689927393813146\n"
     ]
    },
    {
     "name": "stderr",
     "output_type": "stream",
     "text": [
      "2025/07/25 11:21:47 WARNING mlflow.models.model: `artifact_path` is deprecated. Please use `name` instead.\n",
      "2025/07/25 11:21:50 WARNING mlflow.models.model: Model logged without a signature and input example. Please set `input_example` parameter when logging the model to auto infer the model signature.\n"
     ]
    },
    {
     "name": "stdout",
     "output_type": "stream",
     "text": [
      "✅ Run logged for RandomForest with half_features in Fraud_Detection_Exp_2\n",
      "🏃 View run RandomForest_half_features at: http://127.0.0.1:5000/#/experiments/247689927393813146/runs/b214421c492a4035a261ccb193cee8e6\n",
      "🧪 View experiment at: http://127.0.0.1:5000/#/experiments/247689927393813146\n"
     ]
    },
    {
     "name": "stderr",
     "output_type": "stream",
     "text": [
      "2025/07/25 11:21:51 WARNING mlflow.models.model: `artifact_path` is deprecated. Please use `name` instead.\n",
      "2025/07/25 11:21:55 WARNING mlflow.models.model: Model logged without a signature and input example. Please set `input_example` parameter when logging the model to auto infer the model signature.\n"
     ]
    },
    {
     "name": "stdout",
     "output_type": "stream",
     "text": [
      "✅ Run logged for SVC with half_features in Fraud_Detection_Exp_2\n",
      "🏃 View run SVC_half_features at: http://127.0.0.1:5000/#/experiments/247689927393813146/runs/a677cb3e5f2e4696b6604a9a94880158\n",
      "🧪 View experiment at: http://127.0.0.1:5000/#/experiments/247689927393813146\n"
     ]
    },
    {
     "name": "stderr",
     "output_type": "stream",
     "text": [
      "2025/07/25 11:21:55 WARNING mlflow.models.model: `artifact_path` is deprecated. Please use `name` instead.\n",
      "2025/07/25 11:21:58 WARNING mlflow.models.model: Model logged without a signature and input example. Please set `input_example` parameter when logging the model to auto infer the model signature.\n"
     ]
    },
    {
     "name": "stdout",
     "output_type": "stream",
     "text": [
      "✅ Run logged for LogisticRegression with top_10_features in Fraud_Detection_Exp_2\n",
      "🏃 View run LogisticRegression_top_10_features at: http://127.0.0.1:5000/#/experiments/247689927393813146/runs/502f9c2d7a0a4e80bd740746fa3540ad\n",
      "🧪 View experiment at: http://127.0.0.1:5000/#/experiments/247689927393813146\n"
     ]
    },
    {
     "name": "stderr",
     "output_type": "stream",
     "text": [
      "2025/07/25 11:22:05 WARNING mlflow.models.model: `artifact_path` is deprecated. Please use `name` instead.\n",
      "2025/07/25 11:22:09 WARNING mlflow.models.model: Model logged without a signature and input example. Please set `input_example` parameter when logging the model to auto infer the model signature.\n"
     ]
    },
    {
     "name": "stdout",
     "output_type": "stream",
     "text": [
      "✅ Run logged for RandomForest with top_10_features in Fraud_Detection_Exp_2\n",
      "🏃 View run RandomForest_top_10_features at: http://127.0.0.1:5000/#/experiments/247689927393813146/runs/2a470bfdf58049099e8b0b3d4666a389\n",
      "🧪 View experiment at: http://127.0.0.1:5000/#/experiments/247689927393813146\n"
     ]
    },
    {
     "name": "stderr",
     "output_type": "stream",
     "text": [
      "2025/07/25 11:22:09 WARNING mlflow.models.model: `artifact_path` is deprecated. Please use `name` instead.\n",
      "2025/07/25 11:22:13 WARNING mlflow.models.model: Model logged without a signature and input example. Please set `input_example` parameter when logging the model to auto infer the model signature.\n"
     ]
    },
    {
     "name": "stdout",
     "output_type": "stream",
     "text": [
      "✅ Run logged for SVC with top_10_features in Fraud_Detection_Exp_2\n",
      "🏃 View run SVC_top_10_features at: http://127.0.0.1:5000/#/experiments/247689927393813146/runs/fd3b66ada0094b05a294505536b5ba15\n",
      "🧪 View experiment at: http://127.0.0.1:5000/#/experiments/247689927393813146\n"
     ]
    },
    {
     "name": "stderr",
     "output_type": "stream",
     "text": [
      "2025/07/25 11:22:13 WARNING mlflow.models.model: `artifact_path` is deprecated. Please use `name` instead.\n",
      "2025/07/25 11:22:16 WARNING mlflow.models.model: Model logged without a signature and input example. Please set `input_example` parameter when logging the model to auto infer the model signature.\n"
     ]
    },
    {
     "name": "stdout",
     "output_type": "stream",
     "text": [
      "✅ Run logged for LogisticRegression with all_features in Fraud_Detection_Exp_3\n",
      "🏃 View run LogisticRegression_all_features at: http://127.0.0.1:5000/#/experiments/911313465822548870/runs/eaecb3c6ff834207a1043d3087d5c2a8\n",
      "🧪 View experiment at: http://127.0.0.1:5000/#/experiments/911313465822548870\n"
     ]
    },
    {
     "name": "stderr",
     "output_type": "stream",
     "text": [
      "2025/07/25 11:22:26 WARNING mlflow.models.model: `artifact_path` is deprecated. Please use `name` instead.\n",
      "2025/07/25 11:22:29 WARNING mlflow.models.model: Model logged without a signature and input example. Please set `input_example` parameter when logging the model to auto infer the model signature.\n"
     ]
    },
    {
     "name": "stdout",
     "output_type": "stream",
     "text": [
      "✅ Run logged for RandomForest with all_features in Fraud_Detection_Exp_3\n",
      "🏃 View run RandomForest_all_features at: http://127.0.0.1:5000/#/experiments/911313465822548870/runs/128b70a95d60404695cedced9a37f2fa\n",
      "🧪 View experiment at: http://127.0.0.1:5000/#/experiments/911313465822548870\n"
     ]
    },
    {
     "name": "stderr",
     "output_type": "stream",
     "text": [
      "2025/07/25 11:22:31 WARNING mlflow.models.model: `artifact_path` is deprecated. Please use `name` instead.\n",
      "2025/07/25 11:22:34 WARNING mlflow.models.model: Model logged without a signature and input example. Please set `input_example` parameter when logging the model to auto infer the model signature.\n"
     ]
    },
    {
     "name": "stdout",
     "output_type": "stream",
     "text": [
      "✅ Run logged for SVC with all_features in Fraud_Detection_Exp_3\n",
      "🏃 View run SVC_all_features at: http://127.0.0.1:5000/#/experiments/911313465822548870/runs/6923ca82d3714d679d0b2b156bfb4266\n",
      "🧪 View experiment at: http://127.0.0.1:5000/#/experiments/911313465822548870\n"
     ]
    },
    {
     "name": "stderr",
     "output_type": "stream",
     "text": [
      "2025/07/25 11:22:34 WARNING mlflow.models.model: `artifact_path` is deprecated. Please use `name` instead.\n",
      "2025/07/25 11:22:37 WARNING mlflow.models.model: Model logged without a signature and input example. Please set `input_example` parameter when logging the model to auto infer the model signature.\n"
     ]
    },
    {
     "name": "stdout",
     "output_type": "stream",
     "text": [
      "✅ Run logged for LogisticRegression with half_features in Fraud_Detection_Exp_3\n",
      "🏃 View run LogisticRegression_half_features at: http://127.0.0.1:5000/#/experiments/911313465822548870/runs/5ead67dff331476087ad4d02ad3dcf4b\n",
      "🧪 View experiment at: http://127.0.0.1:5000/#/experiments/911313465822548870\n"
     ]
    },
    {
     "name": "stderr",
     "output_type": "stream",
     "text": [
      "2025/07/25 11:22:44 WARNING mlflow.models.model: `artifact_path` is deprecated. Please use `name` instead.\n",
      "2025/07/25 11:22:48 WARNING mlflow.models.model: Model logged without a signature and input example. Please set `input_example` parameter when logging the model to auto infer the model signature.\n"
     ]
    },
    {
     "name": "stdout",
     "output_type": "stream",
     "text": [
      "✅ Run logged for RandomForest with half_features in Fraud_Detection_Exp_3\n",
      "🏃 View run RandomForest_half_features at: http://127.0.0.1:5000/#/experiments/911313465822548870/runs/b1262ae065d945c091974ac1f911beeb\n",
      "🧪 View experiment at: http://127.0.0.1:5000/#/experiments/911313465822548870\n"
     ]
    },
    {
     "name": "stderr",
     "output_type": "stream",
     "text": [
      "2025/07/25 11:22:49 WARNING mlflow.models.model: `artifact_path` is deprecated. Please use `name` instead.\n",
      "2025/07/25 11:22:52 WARNING mlflow.models.model: Model logged without a signature and input example. Please set `input_example` parameter when logging the model to auto infer the model signature.\n"
     ]
    },
    {
     "name": "stdout",
     "output_type": "stream",
     "text": [
      "✅ Run logged for SVC with half_features in Fraud_Detection_Exp_3\n",
      "🏃 View run SVC_half_features at: http://127.0.0.1:5000/#/experiments/911313465822548870/runs/d900937f8ec54922933e6e0dccc9affa\n",
      "🧪 View experiment at: http://127.0.0.1:5000/#/experiments/911313465822548870\n"
     ]
    },
    {
     "name": "stderr",
     "output_type": "stream",
     "text": [
      "2025/07/25 11:22:52 WARNING mlflow.models.model: `artifact_path` is deprecated. Please use `name` instead.\n",
      "2025/07/25 11:22:56 WARNING mlflow.models.model: Model logged without a signature and input example. Please set `input_example` parameter when logging the model to auto infer the model signature.\n"
     ]
    },
    {
     "name": "stdout",
     "output_type": "stream",
     "text": [
      "✅ Run logged for LogisticRegression with top_10_features in Fraud_Detection_Exp_3\n",
      "🏃 View run LogisticRegression_top_10_features at: http://127.0.0.1:5000/#/experiments/911313465822548870/runs/5263f7a1bb334f36aa3a710229dc5428\n",
      "🧪 View experiment at: http://127.0.0.1:5000/#/experiments/911313465822548870\n"
     ]
    },
    {
     "name": "stderr",
     "output_type": "stream",
     "text": [
      "2025/07/25 11:23:02 WARNING mlflow.models.model: `artifact_path` is deprecated. Please use `name` instead.\n",
      "2025/07/25 11:23:05 WARNING mlflow.models.model: Model logged without a signature and input example. Please set `input_example` parameter when logging the model to auto infer the model signature.\n"
     ]
    },
    {
     "name": "stdout",
     "output_type": "stream",
     "text": [
      "✅ Run logged for RandomForest with top_10_features in Fraud_Detection_Exp_3\n",
      "🏃 View run RandomForest_top_10_features at: http://127.0.0.1:5000/#/experiments/911313465822548870/runs/fb98e795ec2c49f1ae0db735fc428442\n",
      "🧪 View experiment at: http://127.0.0.1:5000/#/experiments/911313465822548870\n"
     ]
    },
    {
     "name": "stderr",
     "output_type": "stream",
     "text": [
      "2025/07/25 11:23:06 WARNING mlflow.models.model: `artifact_path` is deprecated. Please use `name` instead.\n",
      "2025/07/25 11:23:10 WARNING mlflow.models.model: Model logged without a signature and input example. Please set `input_example` parameter when logging the model to auto infer the model signature.\n"
     ]
    },
    {
     "name": "stdout",
     "output_type": "stream",
     "text": [
      "✅ Run logged for SVC with top_10_features in Fraud_Detection_Exp_3\n",
      "🏃 View run SVC_top_10_features at: http://127.0.0.1:5000/#/experiments/911313465822548870/runs/88b08c3351d14eb5ab87b5dbfb62eb08\n",
      "🧪 View experiment at: http://127.0.0.1:5000/#/experiments/911313465822548870\n"
     ]
    },
    {
     "name": "stderr",
     "output_type": "stream",
     "text": [
      "2025/07/25 11:23:10 WARNING mlflow.models.model: `artifact_path` is deprecated. Please use `name` instead.\n",
      "2025/07/25 11:23:13 WARNING mlflow.models.model: Model logged without a signature and input example. Please set `input_example` parameter when logging the model to auto infer the model signature.\n"
     ]
    },
    {
     "name": "stdout",
     "output_type": "stream",
     "text": [
      "✅ Run logged for LogisticRegression with all_features in Fraud_Detection_Exp_4\n",
      "🏃 View run LogisticRegression_all_features at: http://127.0.0.1:5000/#/experiments/900422544236318584/runs/558260ff291c48c5966c71cc4c9d8a5b\n",
      "🧪 View experiment at: http://127.0.0.1:5000/#/experiments/900422544236318584\n"
     ]
    },
    {
     "name": "stderr",
     "output_type": "stream",
     "text": [
      "2025/07/25 11:23:23 WARNING mlflow.models.model: `artifact_path` is deprecated. Please use `name` instead.\n",
      "2025/07/25 11:23:26 WARNING mlflow.models.model: Model logged without a signature and input example. Please set `input_example` parameter when logging the model to auto infer the model signature.\n"
     ]
    },
    {
     "name": "stdout",
     "output_type": "stream",
     "text": [
      "✅ Run logged for RandomForest with all_features in Fraud_Detection_Exp_4\n",
      "🏃 View run RandomForest_all_features at: http://127.0.0.1:5000/#/experiments/900422544236318584/runs/ccf56756eff14e36b8a730dcd16b16b1\n",
      "🧪 View experiment at: http://127.0.0.1:5000/#/experiments/900422544236318584\n"
     ]
    },
    {
     "name": "stderr",
     "output_type": "stream",
     "text": [
      "2025/07/25 11:23:28 WARNING mlflow.models.model: `artifact_path` is deprecated. Please use `name` instead.\n",
      "2025/07/25 11:23:31 WARNING mlflow.models.model: Model logged without a signature and input example. Please set `input_example` parameter when logging the model to auto infer the model signature.\n"
     ]
    },
    {
     "name": "stdout",
     "output_type": "stream",
     "text": [
      "✅ Run logged for SVC with all_features in Fraud_Detection_Exp_4\n",
      "🏃 View run SVC_all_features at: http://127.0.0.1:5000/#/experiments/900422544236318584/runs/a22feda4a07c44549298da2602e682dd\n",
      "🧪 View experiment at: http://127.0.0.1:5000/#/experiments/900422544236318584\n"
     ]
    },
    {
     "name": "stderr",
     "output_type": "stream",
     "text": [
      "2025/07/25 11:23:31 WARNING mlflow.models.model: `artifact_path` is deprecated. Please use `name` instead.\n",
      "2025/07/25 11:23:35 WARNING mlflow.models.model: Model logged without a signature and input example. Please set `input_example` parameter when logging the model to auto infer the model signature.\n"
     ]
    },
    {
     "name": "stdout",
     "output_type": "stream",
     "text": [
      "✅ Run logged for LogisticRegression with half_features in Fraud_Detection_Exp_4\n",
      "🏃 View run LogisticRegression_half_features at: http://127.0.0.1:5000/#/experiments/900422544236318584/runs/630727277ea54bc78aabec318895da4e\n",
      "🧪 View experiment at: http://127.0.0.1:5000/#/experiments/900422544236318584\n"
     ]
    },
    {
     "name": "stderr",
     "output_type": "stream",
     "text": [
      "2025/07/25 11:23:42 WARNING mlflow.models.model: `artifact_path` is deprecated. Please use `name` instead.\n",
      "2025/07/25 11:23:46 WARNING mlflow.models.model: Model logged without a signature and input example. Please set `input_example` parameter when logging the model to auto infer the model signature.\n"
     ]
    },
    {
     "name": "stdout",
     "output_type": "stream",
     "text": [
      "✅ Run logged for RandomForest with half_features in Fraud_Detection_Exp_4\n",
      "🏃 View run RandomForest_half_features at: http://127.0.0.1:5000/#/experiments/900422544236318584/runs/040ee902fc9840f3ba57fb7f9585233f\n",
      "🧪 View experiment at: http://127.0.0.1:5000/#/experiments/900422544236318584\n"
     ]
    },
    {
     "name": "stderr",
     "output_type": "stream",
     "text": [
      "2025/07/25 11:23:47 WARNING mlflow.models.model: `artifact_path` is deprecated. Please use `name` instead.\n",
      "2025/07/25 11:23:50 WARNING mlflow.models.model: Model logged without a signature and input example. Please set `input_example` parameter when logging the model to auto infer the model signature.\n"
     ]
    },
    {
     "name": "stdout",
     "output_type": "stream",
     "text": [
      "✅ Run logged for SVC with half_features in Fraud_Detection_Exp_4\n",
      "🏃 View run SVC_half_features at: http://127.0.0.1:5000/#/experiments/900422544236318584/runs/755ca2e788da470c94a860cd37a0e233\n",
      "🧪 View experiment at: http://127.0.0.1:5000/#/experiments/900422544236318584\n"
     ]
    },
    {
     "name": "stderr",
     "output_type": "stream",
     "text": [
      "2025/07/25 11:23:50 WARNING mlflow.models.model: `artifact_path` is deprecated. Please use `name` instead.\n",
      "2025/07/25 11:23:54 WARNING mlflow.models.model: Model logged without a signature and input example. Please set `input_example` parameter when logging the model to auto infer the model signature.\n"
     ]
    },
    {
     "name": "stdout",
     "output_type": "stream",
     "text": [
      "✅ Run logged for LogisticRegression with top_10_features in Fraud_Detection_Exp_4\n",
      "🏃 View run LogisticRegression_top_10_features at: http://127.0.0.1:5000/#/experiments/900422544236318584/runs/acecef69e3c345168afe48111e65c8f5\n",
      "🧪 View experiment at: http://127.0.0.1:5000/#/experiments/900422544236318584\n"
     ]
    },
    {
     "name": "stderr",
     "output_type": "stream",
     "text": [
      "2025/07/25 11:24:01 WARNING mlflow.models.model: `artifact_path` is deprecated. Please use `name` instead.\n",
      "2025/07/25 11:24:04 WARNING mlflow.models.model: Model logged without a signature and input example. Please set `input_example` parameter when logging the model to auto infer the model signature.\n"
     ]
    },
    {
     "name": "stdout",
     "output_type": "stream",
     "text": [
      "✅ Run logged for RandomForest with top_10_features in Fraud_Detection_Exp_4\n",
      "🏃 View run RandomForest_top_10_features at: http://127.0.0.1:5000/#/experiments/900422544236318584/runs/90d33cdc8e374f968ccbfce859d88b69\n",
      "🧪 View experiment at: http://127.0.0.1:5000/#/experiments/900422544236318584\n"
     ]
    },
    {
     "name": "stderr",
     "output_type": "stream",
     "text": [
      "2025/07/25 11:24:05 WARNING mlflow.models.model: `artifact_path` is deprecated. Please use `name` instead.\n",
      "2025/07/25 11:24:08 WARNING mlflow.models.model: Model logged without a signature and input example. Please set `input_example` parameter when logging the model to auto infer the model signature.\n"
     ]
    },
    {
     "name": "stdout",
     "output_type": "stream",
     "text": [
      "✅ Run logged for SVC with top_10_features in Fraud_Detection_Exp_4\n",
      "🏃 View run SVC_top_10_features at: http://127.0.0.1:5000/#/experiments/900422544236318584/runs/ce7ad64051b1465a8ca3a54c9978ab28\n",
      "🧪 View experiment at: http://127.0.0.1:5000/#/experiments/900422544236318584\n"
     ]
    },
    {
     "name": "stderr",
     "output_type": "stream",
     "text": [
      "2025/07/25 11:24:09 WARNING mlflow.models.model: `artifact_path` is deprecated. Please use `name` instead.\n",
      "2025/07/25 11:24:12 WARNING mlflow.models.model: Model logged without a signature and input example. Please set `input_example` parameter when logging the model to auto infer the model signature.\n"
     ]
    },
    {
     "name": "stdout",
     "output_type": "stream",
     "text": [
      "✅ Run logged for LogisticRegression with all_features in Fraud_Detection_Exp_5\n",
      "🏃 View run LogisticRegression_all_features at: http://127.0.0.1:5000/#/experiments/475839512402755664/runs/6b0b4ab7aeee4750a641b089b2306a11\n",
      "🧪 View experiment at: http://127.0.0.1:5000/#/experiments/475839512402755664\n"
     ]
    },
    {
     "name": "stderr",
     "output_type": "stream",
     "text": [
      "2025/07/25 11:24:21 WARNING mlflow.models.model: `artifact_path` is deprecated. Please use `name` instead.\n",
      "2025/07/25 11:24:25 WARNING mlflow.models.model: Model logged without a signature and input example. Please set `input_example` parameter when logging the model to auto infer the model signature.\n"
     ]
    },
    {
     "name": "stdout",
     "output_type": "stream",
     "text": [
      "✅ Run logged for RandomForest with all_features in Fraud_Detection_Exp_5\n",
      "🏃 View run RandomForest_all_features at: http://127.0.0.1:5000/#/experiments/475839512402755664/runs/4ba3839cab12445d93b33fde32d1d953\n",
      "🧪 View experiment at: http://127.0.0.1:5000/#/experiments/475839512402755664\n"
     ]
    },
    {
     "name": "stderr",
     "output_type": "stream",
     "text": [
      "2025/07/25 11:24:26 WARNING mlflow.models.model: `artifact_path` is deprecated. Please use `name` instead.\n",
      "2025/07/25 11:24:29 WARNING mlflow.models.model: Model logged without a signature and input example. Please set `input_example` parameter when logging the model to auto infer the model signature.\n"
     ]
    },
    {
     "name": "stdout",
     "output_type": "stream",
     "text": [
      "✅ Run logged for SVC with all_features in Fraud_Detection_Exp_5\n",
      "🏃 View run SVC_all_features at: http://127.0.0.1:5000/#/experiments/475839512402755664/runs/26a856d0e7204ce5baedff1aae13a405\n",
      "🧪 View experiment at: http://127.0.0.1:5000/#/experiments/475839512402755664\n"
     ]
    },
    {
     "name": "stderr",
     "output_type": "stream",
     "text": [
      "2025/07/25 11:24:30 WARNING mlflow.models.model: `artifact_path` is deprecated. Please use `name` instead.\n",
      "2025/07/25 11:24:33 WARNING mlflow.models.model: Model logged without a signature and input example. Please set `input_example` parameter when logging the model to auto infer the model signature.\n"
     ]
    },
    {
     "name": "stdout",
     "output_type": "stream",
     "text": [
      "✅ Run logged for LogisticRegression with half_features in Fraud_Detection_Exp_5\n",
      "🏃 View run LogisticRegression_half_features at: http://127.0.0.1:5000/#/experiments/475839512402755664/runs/f4e617cb631f473581aff48750629276\n",
      "🧪 View experiment at: http://127.0.0.1:5000/#/experiments/475839512402755664\n"
     ]
    },
    {
     "name": "stderr",
     "output_type": "stream",
     "text": [
      "2025/07/25 11:24:40 WARNING mlflow.models.model: `artifact_path` is deprecated. Please use `name` instead.\n",
      "2025/07/25 11:24:44 WARNING mlflow.models.model: Model logged without a signature and input example. Please set `input_example` parameter when logging the model to auto infer the model signature.\n"
     ]
    },
    {
     "name": "stdout",
     "output_type": "stream",
     "text": [
      "✅ Run logged for RandomForest with half_features in Fraud_Detection_Exp_5\n",
      "🏃 View run RandomForest_half_features at: http://127.0.0.1:5000/#/experiments/475839512402755664/runs/58538bced2404a108f69c4ea9a83b0f3\n",
      "🧪 View experiment at: http://127.0.0.1:5000/#/experiments/475839512402755664\n"
     ]
    },
    {
     "name": "stderr",
     "output_type": "stream",
     "text": [
      "2025/07/25 11:24:45 WARNING mlflow.models.model: `artifact_path` is deprecated. Please use `name` instead.\n",
      "2025/07/25 11:24:48 WARNING mlflow.models.model: Model logged without a signature and input example. Please set `input_example` parameter when logging the model to auto infer the model signature.\n"
     ]
    },
    {
     "name": "stdout",
     "output_type": "stream",
     "text": [
      "✅ Run logged for SVC with half_features in Fraud_Detection_Exp_5\n",
      "🏃 View run SVC_half_features at: http://127.0.0.1:5000/#/experiments/475839512402755664/runs/e95f08c280944b699a21b71be5382e53\n",
      "🧪 View experiment at: http://127.0.0.1:5000/#/experiments/475839512402755664\n"
     ]
    },
    {
     "name": "stderr",
     "output_type": "stream",
     "text": [
      "2025/07/25 11:24:48 WARNING mlflow.models.model: `artifact_path` is deprecated. Please use `name` instead.\n",
      "2025/07/25 11:24:51 WARNING mlflow.models.model: Model logged without a signature and input example. Please set `input_example` parameter when logging the model to auto infer the model signature.\n"
     ]
    },
    {
     "name": "stdout",
     "output_type": "stream",
     "text": [
      "✅ Run logged for LogisticRegression with top_10_features in Fraud_Detection_Exp_5\n",
      "🏃 View run LogisticRegression_top_10_features at: http://127.0.0.1:5000/#/experiments/475839512402755664/runs/1df305737f794845a41555f480f3522b\n",
      "🧪 View experiment at: http://127.0.0.1:5000/#/experiments/475839512402755664\n"
     ]
    },
    {
     "name": "stderr",
     "output_type": "stream",
     "text": [
      "2025/07/25 11:24:58 WARNING mlflow.models.model: `artifact_path` is deprecated. Please use `name` instead.\n",
      "2025/07/25 11:25:01 WARNING mlflow.models.model: Model logged without a signature and input example. Please set `input_example` parameter when logging the model to auto infer the model signature.\n"
     ]
    },
    {
     "name": "stdout",
     "output_type": "stream",
     "text": [
      "✅ Run logged for RandomForest with top_10_features in Fraud_Detection_Exp_5\n",
      "🏃 View run RandomForest_top_10_features at: http://127.0.0.1:5000/#/experiments/475839512402755664/runs/e64bd5d3a487452eb1e0e9c262567071\n",
      "🧪 View experiment at: http://127.0.0.1:5000/#/experiments/475839512402755664\n"
     ]
    },
    {
     "name": "stderr",
     "output_type": "stream",
     "text": [
      "2025/07/25 11:25:02 WARNING mlflow.models.model: `artifact_path` is deprecated. Please use `name` instead.\n",
      "2025/07/25 11:25:05 WARNING mlflow.models.model: Model logged without a signature and input example. Please set `input_example` parameter when logging the model to auto infer the model signature.\n"
     ]
    },
    {
     "name": "stdout",
     "output_type": "stream",
     "text": [
      "✅ Run logged for SVC with top_10_features in Fraud_Detection_Exp_5\n",
      "🏃 View run SVC_top_10_features at: http://127.0.0.1:5000/#/experiments/475839512402755664/runs/da0bd016667f456981e25566da9c7325\n",
      "🧪 View experiment at: http://127.0.0.1:5000/#/experiments/475839512402755664\n"
     ]
    },
    {
     "name": "stderr",
     "output_type": "stream",
     "text": [
      "2025/07/25 11:25:06 WARNING mlflow.models.model: `artifact_path` is deprecated. Please use `name` instead.\n",
      "2025/07/25 11:25:09 WARNING mlflow.models.model: Model logged without a signature and input example. Please set `input_example` parameter when logging the model to auto infer the model signature.\n"
     ]
    },
    {
     "name": "stdout",
     "output_type": "stream",
     "text": [
      "✅ Run logged for LogisticRegression with all_features in Fraud_Detection_Exp_6\n",
      "🏃 View run LogisticRegression_all_features at: http://127.0.0.1:5000/#/experiments/100133137102634117/runs/66d97e3384b646c397cdff83b9720b64\n",
      "🧪 View experiment at: http://127.0.0.1:5000/#/experiments/100133137102634117\n"
     ]
    },
    {
     "name": "stderr",
     "output_type": "stream",
     "text": [
      "2025/07/25 11:25:18 WARNING mlflow.models.model: `artifact_path` is deprecated. Please use `name` instead.\n",
      "2025/07/25 11:25:22 WARNING mlflow.models.model: Model logged without a signature and input example. Please set `input_example` parameter when logging the model to auto infer the model signature.\n"
     ]
    },
    {
     "name": "stdout",
     "output_type": "stream",
     "text": [
      "✅ Run logged for RandomForest with all_features in Fraud_Detection_Exp_6\n",
      "🏃 View run RandomForest_all_features at: http://127.0.0.1:5000/#/experiments/100133137102634117/runs/ef01a1bd25374de5a8ed9c7924c44667\n",
      "🧪 View experiment at: http://127.0.0.1:5000/#/experiments/100133137102634117\n"
     ]
    },
    {
     "name": "stderr",
     "output_type": "stream",
     "text": [
      "2025/07/25 11:25:23 WARNING mlflow.models.model: `artifact_path` is deprecated. Please use `name` instead.\n",
      "2025/07/25 11:25:26 WARNING mlflow.models.model: Model logged without a signature and input example. Please set `input_example` parameter when logging the model to auto infer the model signature.\n"
     ]
    },
    {
     "name": "stdout",
     "output_type": "stream",
     "text": [
      "✅ Run logged for SVC with all_features in Fraud_Detection_Exp_6\n",
      "🏃 View run SVC_all_features at: http://127.0.0.1:5000/#/experiments/100133137102634117/runs/5c9ba1eebb074ef79d09911533ceabc9\n",
      "🧪 View experiment at: http://127.0.0.1:5000/#/experiments/100133137102634117\n"
     ]
    },
    {
     "name": "stderr",
     "output_type": "stream",
     "text": [
      "2025/07/25 11:25:27 WARNING mlflow.models.model: `artifact_path` is deprecated. Please use `name` instead.\n",
      "2025/07/25 11:25:30 WARNING mlflow.models.model: Model logged without a signature and input example. Please set `input_example` parameter when logging the model to auto infer the model signature.\n"
     ]
    },
    {
     "name": "stdout",
     "output_type": "stream",
     "text": [
      "✅ Run logged for LogisticRegression with half_features in Fraud_Detection_Exp_6\n",
      "🏃 View run LogisticRegression_half_features at: http://127.0.0.1:5000/#/experiments/100133137102634117/runs/ffbdb5d944e04e4992d7cfbab488a27b\n",
      "🧪 View experiment at: http://127.0.0.1:5000/#/experiments/100133137102634117\n"
     ]
    },
    {
     "name": "stderr",
     "output_type": "stream",
     "text": [
      "2025/07/25 11:25:37 WARNING mlflow.models.model: `artifact_path` is deprecated. Please use `name` instead.\n",
      "2025/07/25 11:25:40 WARNING mlflow.models.model: Model logged without a signature and input example. Please set `input_example` parameter when logging the model to auto infer the model signature.\n"
     ]
    },
    {
     "name": "stdout",
     "output_type": "stream",
     "text": [
      "✅ Run logged for RandomForest with half_features in Fraud_Detection_Exp_6\n",
      "🏃 View run RandomForest_half_features at: http://127.0.0.1:5000/#/experiments/100133137102634117/runs/8698eb1b20f94c59af780ecbd10080b1\n",
      "🧪 View experiment at: http://127.0.0.1:5000/#/experiments/100133137102634117\n"
     ]
    },
    {
     "name": "stderr",
     "output_type": "stream",
     "text": [
      "2025/07/25 11:25:42 WARNING mlflow.models.model: `artifact_path` is deprecated. Please use `name` instead.\n",
      "2025/07/25 11:25:45 WARNING mlflow.models.model: Model logged without a signature and input example. Please set `input_example` parameter when logging the model to auto infer the model signature.\n"
     ]
    },
    {
     "name": "stdout",
     "output_type": "stream",
     "text": [
      "✅ Run logged for SVC with half_features in Fraud_Detection_Exp_6\n",
      "🏃 View run SVC_half_features at: http://127.0.0.1:5000/#/experiments/100133137102634117/runs/b53961bb1cdc4c45af2241f7dae8e48a\n",
      "🧪 View experiment at: http://127.0.0.1:5000/#/experiments/100133137102634117\n"
     ]
    },
    {
     "name": "stderr",
     "output_type": "stream",
     "text": [
      "2025/07/25 11:25:45 WARNING mlflow.models.model: `artifact_path` is deprecated. Please use `name` instead.\n",
      "2025/07/25 11:25:48 WARNING mlflow.models.model: Model logged without a signature and input example. Please set `input_example` parameter when logging the model to auto infer the model signature.\n"
     ]
    },
    {
     "name": "stdout",
     "output_type": "stream",
     "text": [
      "✅ Run logged for LogisticRegression with top_10_features in Fraud_Detection_Exp_6\n",
      "🏃 View run LogisticRegression_top_10_features at: http://127.0.0.1:5000/#/experiments/100133137102634117/runs/62b5037bd8d04946b9188dbf9a20db33\n",
      "🧪 View experiment at: http://127.0.0.1:5000/#/experiments/100133137102634117\n"
     ]
    },
    {
     "name": "stderr",
     "output_type": "stream",
     "text": [
      "2025/07/25 11:25:55 WARNING mlflow.models.model: `artifact_path` is deprecated. Please use `name` instead.\n",
      "2025/07/25 11:25:58 WARNING mlflow.models.model: Model logged without a signature and input example. Please set `input_example` parameter when logging the model to auto infer the model signature.\n"
     ]
    },
    {
     "name": "stdout",
     "output_type": "stream",
     "text": [
      "✅ Run logged for RandomForest with top_10_features in Fraud_Detection_Exp_6\n",
      "🏃 View run RandomForest_top_10_features at: http://127.0.0.1:5000/#/experiments/100133137102634117/runs/702a9f6765a845f2a93e367f83d85a89\n",
      "🧪 View experiment at: http://127.0.0.1:5000/#/experiments/100133137102634117\n"
     ]
    },
    {
     "name": "stderr",
     "output_type": "stream",
     "text": [
      "2025/07/25 11:25:59 WARNING mlflow.models.model: `artifact_path` is deprecated. Please use `name` instead.\n",
      "2025/07/25 11:26:02 WARNING mlflow.models.model: Model logged without a signature and input example. Please set `input_example` parameter when logging the model to auto infer the model signature.\n"
     ]
    },
    {
     "name": "stdout",
     "output_type": "stream",
     "text": [
      "✅ Run logged for SVC with top_10_features in Fraud_Detection_Exp_6\n",
      "🏃 View run SVC_top_10_features at: http://127.0.0.1:5000/#/experiments/100133137102634117/runs/63c83f610e0447f7965745fcac966508\n",
      "🧪 View experiment at: http://127.0.0.1:5000/#/experiments/100133137102634117\n"
     ]
    },
    {
     "name": "stderr",
     "output_type": "stream",
     "text": [
      "2025/07/25 11:26:03 WARNING mlflow.models.model: `artifact_path` is deprecated. Please use `name` instead.\n",
      "2025/07/25 11:26:06 WARNING mlflow.models.model: Model logged without a signature and input example. Please set `input_example` parameter when logging the model to auto infer the model signature.\n"
     ]
    },
    {
     "name": "stdout",
     "output_type": "stream",
     "text": [
      "✅ Run logged for LogisticRegression with all_features in Fraud_Detection_Exp_7\n",
      "🏃 View run LogisticRegression_all_features at: http://127.0.0.1:5000/#/experiments/350371553737021814/runs/a4e8bf95e60c48aa8e6c874a6c7d9618\n",
      "🧪 View experiment at: http://127.0.0.1:5000/#/experiments/350371553737021814\n"
     ]
    },
    {
     "name": "stderr",
     "output_type": "stream",
     "text": [
      "2025/07/25 11:26:16 WARNING mlflow.models.model: `artifact_path` is deprecated. Please use `name` instead.\n",
      "2025/07/25 11:26:19 WARNING mlflow.models.model: Model logged without a signature and input example. Please set `input_example` parameter when logging the model to auto infer the model signature.\n"
     ]
    },
    {
     "name": "stdout",
     "output_type": "stream",
     "text": [
      "✅ Run logged for RandomForest with all_features in Fraud_Detection_Exp_7\n",
      "🏃 View run RandomForest_all_features at: http://127.0.0.1:5000/#/experiments/350371553737021814/runs/753d5555090242fdad7742da5b0412bf\n",
      "🧪 View experiment at: http://127.0.0.1:5000/#/experiments/350371553737021814\n"
     ]
    },
    {
     "name": "stderr",
     "output_type": "stream",
     "text": [
      "2025/07/25 11:26:21 WARNING mlflow.models.model: `artifact_path` is deprecated. Please use `name` instead.\n",
      "2025/07/25 11:26:24 WARNING mlflow.models.model: Model logged without a signature and input example. Please set `input_example` parameter when logging the model to auto infer the model signature.\n"
     ]
    },
    {
     "name": "stdout",
     "output_type": "stream",
     "text": [
      "✅ Run logged for SVC with all_features in Fraud_Detection_Exp_7\n",
      "🏃 View run SVC_all_features at: http://127.0.0.1:5000/#/experiments/350371553737021814/runs/fc329c46b36b49808f490e7e4ded1a91\n",
      "🧪 View experiment at: http://127.0.0.1:5000/#/experiments/350371553737021814\n"
     ]
    },
    {
     "name": "stderr",
     "output_type": "stream",
     "text": [
      "2025/07/25 11:26:25 WARNING mlflow.models.model: `artifact_path` is deprecated. Please use `name` instead.\n",
      "2025/07/25 11:26:28 WARNING mlflow.models.model: Model logged without a signature and input example. Please set `input_example` parameter when logging the model to auto infer the model signature.\n"
     ]
    },
    {
     "name": "stdout",
     "output_type": "stream",
     "text": [
      "✅ Run logged for LogisticRegression with half_features in Fraud_Detection_Exp_7\n",
      "🏃 View run LogisticRegression_half_features at: http://127.0.0.1:5000/#/experiments/350371553737021814/runs/ab8a6b087e264175af7d60e3cb571caa\n",
      "🧪 View experiment at: http://127.0.0.1:5000/#/experiments/350371553737021814\n"
     ]
    },
    {
     "name": "stderr",
     "output_type": "stream",
     "text": [
      "2025/07/25 11:26:35 WARNING mlflow.models.model: `artifact_path` is deprecated. Please use `name` instead.\n",
      "2025/07/25 11:26:39 WARNING mlflow.models.model: Model logged without a signature and input example. Please set `input_example` parameter when logging the model to auto infer the model signature.\n"
     ]
    },
    {
     "name": "stdout",
     "output_type": "stream",
     "text": [
      "✅ Run logged for RandomForest with half_features in Fraud_Detection_Exp_7\n",
      "🏃 View run RandomForest_half_features at: http://127.0.0.1:5000/#/experiments/350371553737021814/runs/7987aa4e1c02477195ced73e6ffdb530\n",
      "🧪 View experiment at: http://127.0.0.1:5000/#/experiments/350371553737021814\n"
     ]
    },
    {
     "name": "stderr",
     "output_type": "stream",
     "text": [
      "2025/07/25 11:26:40 WARNING mlflow.models.model: `artifact_path` is deprecated. Please use `name` instead.\n",
      "2025/07/25 11:26:43 WARNING mlflow.models.model: Model logged without a signature and input example. Please set `input_example` parameter when logging the model to auto infer the model signature.\n"
     ]
    },
    {
     "name": "stdout",
     "output_type": "stream",
     "text": [
      "✅ Run logged for SVC with half_features in Fraud_Detection_Exp_7\n",
      "🏃 View run SVC_half_features at: http://127.0.0.1:5000/#/experiments/350371553737021814/runs/fecb6c6831c54d9592435f5a6dec7746\n",
      "🧪 View experiment at: http://127.0.0.1:5000/#/experiments/350371553737021814\n"
     ]
    },
    {
     "name": "stderr",
     "output_type": "stream",
     "text": [
      "2025/07/25 11:26:44 WARNING mlflow.models.model: `artifact_path` is deprecated. Please use `name` instead.\n",
      "2025/07/25 11:26:47 WARNING mlflow.models.model: Model logged without a signature and input example. Please set `input_example` parameter when logging the model to auto infer the model signature.\n"
     ]
    },
    {
     "name": "stdout",
     "output_type": "stream",
     "text": [
      "✅ Run logged for LogisticRegression with top_10_features in Fraud_Detection_Exp_7\n",
      "🏃 View run LogisticRegression_top_10_features at: http://127.0.0.1:5000/#/experiments/350371553737021814/runs/4a89bb5fa9014e1ca82298f2b2a969d2\n",
      "🧪 View experiment at: http://127.0.0.1:5000/#/experiments/350371553737021814\n"
     ]
    },
    {
     "name": "stderr",
     "output_type": "stream",
     "text": [
      "2025/07/25 11:26:54 WARNING mlflow.models.model: `artifact_path` is deprecated. Please use `name` instead.\n",
      "2025/07/25 11:26:57 WARNING mlflow.models.model: Model logged without a signature and input example. Please set `input_example` parameter when logging the model to auto infer the model signature.\n"
     ]
    },
    {
     "name": "stdout",
     "output_type": "stream",
     "text": [
      "✅ Run logged for RandomForest with top_10_features in Fraud_Detection_Exp_7\n",
      "🏃 View run RandomForest_top_10_features at: http://127.0.0.1:5000/#/experiments/350371553737021814/runs/8317c7d4c29c49f985ecb544c8f35728\n",
      "🧪 View experiment at: http://127.0.0.1:5000/#/experiments/350371553737021814\n"
     ]
    },
    {
     "name": "stderr",
     "output_type": "stream",
     "text": [
      "2025/07/25 11:26:58 WARNING mlflow.models.model: `artifact_path` is deprecated. Please use `name` instead.\n",
      "2025/07/25 11:27:01 WARNING mlflow.models.model: Model logged without a signature and input example. Please set `input_example` parameter when logging the model to auto infer the model signature.\n"
     ]
    },
    {
     "name": "stdout",
     "output_type": "stream",
     "text": [
      "✅ Run logged for SVC with top_10_features in Fraud_Detection_Exp_7\n",
      "🏃 View run SVC_top_10_features at: http://127.0.0.1:5000/#/experiments/350371553737021814/runs/b6257cc6818249ab9121135847cde3cf\n",
      "🧪 View experiment at: http://127.0.0.1:5000/#/experiments/350371553737021814\n"
     ]
    },
    {
     "name": "stderr",
     "output_type": "stream",
     "text": [
      "2025/07/25 11:27:02 WARNING mlflow.models.model: `artifact_path` is deprecated. Please use `name` instead.\n",
      "2025/07/25 11:27:05 WARNING mlflow.models.model: Model logged without a signature and input example. Please set `input_example` parameter when logging the model to auto infer the model signature.\n"
     ]
    },
    {
     "name": "stdout",
     "output_type": "stream",
     "text": [
      "✅ Run logged for LogisticRegression with all_features in Fraud_Detection_Exp_8\n",
      "🏃 View run LogisticRegression_all_features at: http://127.0.0.1:5000/#/experiments/816327630247331240/runs/9813d2ee718142888cc6ff305c21cd76\n",
      "🧪 View experiment at: http://127.0.0.1:5000/#/experiments/816327630247331240\n"
     ]
    },
    {
     "name": "stderr",
     "output_type": "stream",
     "text": [
      "2025/07/25 11:27:16 WARNING mlflow.models.model: `artifact_path` is deprecated. Please use `name` instead.\n",
      "2025/07/25 11:27:19 WARNING mlflow.models.model: Model logged without a signature and input example. Please set `input_example` parameter when logging the model to auto infer the model signature.\n"
     ]
    },
    {
     "name": "stdout",
     "output_type": "stream",
     "text": [
      "✅ Run logged for RandomForest with all_features in Fraud_Detection_Exp_8\n",
      "🏃 View run RandomForest_all_features at: http://127.0.0.1:5000/#/experiments/816327630247331240/runs/4a7333b93e3b41b9b295b862d8217eb3\n",
      "🧪 View experiment at: http://127.0.0.1:5000/#/experiments/816327630247331240\n"
     ]
    },
    {
     "name": "stderr",
     "output_type": "stream",
     "text": [
      "2025/07/25 11:27:21 WARNING mlflow.models.model: `artifact_path` is deprecated. Please use `name` instead.\n",
      "2025/07/25 11:27:24 WARNING mlflow.models.model: Model logged without a signature and input example. Please set `input_example` parameter when logging the model to auto infer the model signature.\n"
     ]
    },
    {
     "name": "stdout",
     "output_type": "stream",
     "text": [
      "✅ Run logged for SVC with all_features in Fraud_Detection_Exp_8\n",
      "🏃 View run SVC_all_features at: http://127.0.0.1:5000/#/experiments/816327630247331240/runs/d009b8b8ef064b798463cdc5b5d5dd85\n",
      "🧪 View experiment at: http://127.0.0.1:5000/#/experiments/816327630247331240\n"
     ]
    },
    {
     "name": "stderr",
     "output_type": "stream",
     "text": [
      "2025/07/25 11:27:24 WARNING mlflow.models.model: `artifact_path` is deprecated. Please use `name` instead.\n",
      "2025/07/25 11:27:27 WARNING mlflow.models.model: Model logged without a signature and input example. Please set `input_example` parameter when logging the model to auto infer the model signature.\n"
     ]
    },
    {
     "name": "stdout",
     "output_type": "stream",
     "text": [
      "✅ Run logged for LogisticRegression with half_features in Fraud_Detection_Exp_8\n",
      "🏃 View run LogisticRegression_half_features at: http://127.0.0.1:5000/#/experiments/816327630247331240/runs/1c843812aa6c43598d38e8a101064d4d\n",
      "🧪 View experiment at: http://127.0.0.1:5000/#/experiments/816327630247331240\n"
     ]
    },
    {
     "name": "stderr",
     "output_type": "stream",
     "text": [
      "2025/07/25 11:27:35 WARNING mlflow.models.model: `artifact_path` is deprecated. Please use `name` instead.\n",
      "2025/07/25 11:27:38 WARNING mlflow.models.model: Model logged without a signature and input example. Please set `input_example` parameter when logging the model to auto infer the model signature.\n"
     ]
    },
    {
     "name": "stdout",
     "output_type": "stream",
     "text": [
      "✅ Run logged for RandomForest with half_features in Fraud_Detection_Exp_8\n",
      "🏃 View run RandomForest_half_features at: http://127.0.0.1:5000/#/experiments/816327630247331240/runs/8e2497554f4040b6a8d3e20019055ae9\n",
      "🧪 View experiment at: http://127.0.0.1:5000/#/experiments/816327630247331240\n"
     ]
    },
    {
     "name": "stderr",
     "output_type": "stream",
     "text": [
      "2025/07/25 11:27:40 WARNING mlflow.models.model: `artifact_path` is deprecated. Please use `name` instead.\n",
      "2025/07/25 11:27:43 WARNING mlflow.models.model: Model logged without a signature and input example. Please set `input_example` parameter when logging the model to auto infer the model signature.\n"
     ]
    },
    {
     "name": "stdout",
     "output_type": "stream",
     "text": [
      "✅ Run logged for SVC with half_features in Fraud_Detection_Exp_8\n",
      "🏃 View run SVC_half_features at: http://127.0.0.1:5000/#/experiments/816327630247331240/runs/7a103b20ab5b454aa8a737380fd06ede\n",
      "🧪 View experiment at: http://127.0.0.1:5000/#/experiments/816327630247331240\n"
     ]
    },
    {
     "name": "stderr",
     "output_type": "stream",
     "text": [
      "2025/07/25 11:27:43 WARNING mlflow.models.model: `artifact_path` is deprecated. Please use `name` instead.\n",
      "2025/07/25 11:27:47 WARNING mlflow.models.model: Model logged without a signature and input example. Please set `input_example` parameter when logging the model to auto infer the model signature.\n"
     ]
    },
    {
     "name": "stdout",
     "output_type": "stream",
     "text": [
      "✅ Run logged for LogisticRegression with top_10_features in Fraud_Detection_Exp_8\n",
      "🏃 View run LogisticRegression_top_10_features at: http://127.0.0.1:5000/#/experiments/816327630247331240/runs/9bba7df02f00488984217f6be377de9d\n",
      "🧪 View experiment at: http://127.0.0.1:5000/#/experiments/816327630247331240\n"
     ]
    },
    {
     "name": "stderr",
     "output_type": "stream",
     "text": [
      "2025/07/25 11:27:53 WARNING mlflow.models.model: `artifact_path` is deprecated. Please use `name` instead.\n",
      "2025/07/25 11:27:57 WARNING mlflow.models.model: Model logged without a signature and input example. Please set `input_example` parameter when logging the model to auto infer the model signature.\n"
     ]
    },
    {
     "name": "stdout",
     "output_type": "stream",
     "text": [
      "✅ Run logged for RandomForest with top_10_features in Fraud_Detection_Exp_8\n",
      "🏃 View run RandomForest_top_10_features at: http://127.0.0.1:5000/#/experiments/816327630247331240/runs/b45eba7cbca248bcaa7ca170a7480d4d\n",
      "🧪 View experiment at: http://127.0.0.1:5000/#/experiments/816327630247331240\n"
     ]
    },
    {
     "name": "stderr",
     "output_type": "stream",
     "text": [
      "2025/07/25 11:27:58 WARNING mlflow.models.model: `artifact_path` is deprecated. Please use `name` instead.\n",
      "2025/07/25 11:28:02 WARNING mlflow.models.model: Model logged without a signature and input example. Please set `input_example` parameter when logging the model to auto infer the model signature.\n"
     ]
    },
    {
     "name": "stdout",
     "output_type": "stream",
     "text": [
      "✅ Run logged for SVC with top_10_features in Fraud_Detection_Exp_8\n",
      "🏃 View run SVC_top_10_features at: http://127.0.0.1:5000/#/experiments/816327630247331240/runs/0e5b6b75426342a082305388ea049aeb\n",
      "🧪 View experiment at: http://127.0.0.1:5000/#/experiments/816327630247331240\n"
     ]
    },
    {
     "name": "stderr",
     "output_type": "stream",
     "text": [
      "2025/07/25 11:28:02 WARNING mlflow.models.model: `artifact_path` is deprecated. Please use `name` instead.\n",
      "2025/07/25 11:28:06 WARNING mlflow.models.model: Model logged without a signature and input example. Please set `input_example` parameter when logging the model to auto infer the model signature.\n"
     ]
    },
    {
     "name": "stdout",
     "output_type": "stream",
     "text": [
      "✅ Run logged for LogisticRegression with all_features in Fraud_Detection_Exp_9\n",
      "🏃 View run LogisticRegression_all_features at: http://127.0.0.1:5000/#/experiments/395380171902018373/runs/062ca590bd024d45aaa1dbf6201274ff\n",
      "🧪 View experiment at: http://127.0.0.1:5000/#/experiments/395380171902018373\n"
     ]
    },
    {
     "name": "stderr",
     "output_type": "stream",
     "text": [
      "2025/07/25 11:28:15 WARNING mlflow.models.model: `artifact_path` is deprecated. Please use `name` instead.\n",
      "2025/07/25 11:28:18 WARNING mlflow.models.model: Model logged without a signature and input example. Please set `input_example` parameter when logging the model to auto infer the model signature.\n"
     ]
    },
    {
     "name": "stdout",
     "output_type": "stream",
     "text": [
      "✅ Run logged for RandomForest with all_features in Fraud_Detection_Exp_9\n",
      "🏃 View run RandomForest_all_features at: http://127.0.0.1:5000/#/experiments/395380171902018373/runs/e89d874f7f944893b4c14749cea73f25\n",
      "🧪 View experiment at: http://127.0.0.1:5000/#/experiments/395380171902018373\n"
     ]
    },
    {
     "name": "stderr",
     "output_type": "stream",
     "text": [
      "2025/07/25 11:28:20 WARNING mlflow.models.model: `artifact_path` is deprecated. Please use `name` instead.\n",
      "2025/07/25 11:28:23 WARNING mlflow.models.model: Model logged without a signature and input example. Please set `input_example` parameter when logging the model to auto infer the model signature.\n"
     ]
    },
    {
     "name": "stdout",
     "output_type": "stream",
     "text": [
      "✅ Run logged for SVC with all_features in Fraud_Detection_Exp_9\n",
      "🏃 View run SVC_all_features at: http://127.0.0.1:5000/#/experiments/395380171902018373/runs/e82321dd14d444b78acdc090ad87b62d\n",
      "🧪 View experiment at: http://127.0.0.1:5000/#/experiments/395380171902018373\n"
     ]
    },
    {
     "name": "stderr",
     "output_type": "stream",
     "text": [
      "2025/07/25 11:28:24 WARNING mlflow.models.model: `artifact_path` is deprecated. Please use `name` instead.\n",
      "2025/07/25 11:28:27 WARNING mlflow.models.model: Model logged without a signature and input example. Please set `input_example` parameter when logging the model to auto infer the model signature.\n"
     ]
    },
    {
     "name": "stdout",
     "output_type": "stream",
     "text": [
      "✅ Run logged for LogisticRegression with half_features in Fraud_Detection_Exp_9\n",
      "🏃 View run LogisticRegression_half_features at: http://127.0.0.1:5000/#/experiments/395380171902018373/runs/931883d841084342a3c25d556dd1ee22\n",
      "🧪 View experiment at: http://127.0.0.1:5000/#/experiments/395380171902018373\n"
     ]
    },
    {
     "name": "stderr",
     "output_type": "stream",
     "text": [
      "2025/07/25 11:28:33 WARNING mlflow.models.model: `artifact_path` is deprecated. Please use `name` instead.\n",
      "2025/07/25 11:28:37 WARNING mlflow.models.model: Model logged without a signature and input example. Please set `input_example` parameter when logging the model to auto infer the model signature.\n"
     ]
    },
    {
     "name": "stdout",
     "output_type": "stream",
     "text": [
      "✅ Run logged for RandomForest with half_features in Fraud_Detection_Exp_9\n",
      "🏃 View run RandomForest_half_features at: http://127.0.0.1:5000/#/experiments/395380171902018373/runs/950df597c3da4e8c9f0b5d37def0e26e\n",
      "🧪 View experiment at: http://127.0.0.1:5000/#/experiments/395380171902018373\n"
     ]
    },
    {
     "name": "stderr",
     "output_type": "stream",
     "text": [
      "2025/07/25 11:28:38 WARNING mlflow.models.model: `artifact_path` is deprecated. Please use `name` instead.\n",
      "2025/07/25 11:28:41 WARNING mlflow.models.model: Model logged without a signature and input example. Please set `input_example` parameter when logging the model to auto infer the model signature.\n"
     ]
    },
    {
     "name": "stdout",
     "output_type": "stream",
     "text": [
      "✅ Run logged for SVC with half_features in Fraud_Detection_Exp_9\n",
      "🏃 View run SVC_half_features at: http://127.0.0.1:5000/#/experiments/395380171902018373/runs/cdec12795483421f9a0da3dc280cf0bb\n",
      "🧪 View experiment at: http://127.0.0.1:5000/#/experiments/395380171902018373\n"
     ]
    },
    {
     "name": "stderr",
     "output_type": "stream",
     "text": [
      "2025/07/25 11:28:41 WARNING mlflow.models.model: `artifact_path` is deprecated. Please use `name` instead.\n",
      "2025/07/25 11:28:45 WARNING mlflow.models.model: Model logged without a signature and input example. Please set `input_example` parameter when logging the model to auto infer the model signature.\n"
     ]
    },
    {
     "name": "stdout",
     "output_type": "stream",
     "text": [
      "✅ Run logged for LogisticRegression with top_10_features in Fraud_Detection_Exp_9\n",
      "🏃 View run LogisticRegression_top_10_features at: http://127.0.0.1:5000/#/experiments/395380171902018373/runs/94dc6da628f549f2b3e6bc08dd5ae222\n",
      "🧪 View experiment at: http://127.0.0.1:5000/#/experiments/395380171902018373\n"
     ]
    },
    {
     "name": "stderr",
     "output_type": "stream",
     "text": [
      "2025/07/25 11:28:52 WARNING mlflow.models.model: `artifact_path` is deprecated. Please use `name` instead.\n",
      "2025/07/25 11:28:55 WARNING mlflow.models.model: Model logged without a signature and input example. Please set `input_example` parameter when logging the model to auto infer the model signature.\n"
     ]
    },
    {
     "name": "stdout",
     "output_type": "stream",
     "text": [
      "✅ Run logged for RandomForest with top_10_features in Fraud_Detection_Exp_9\n",
      "🏃 View run RandomForest_top_10_features at: http://127.0.0.1:5000/#/experiments/395380171902018373/runs/da065be0ef34406f874c85ba93fe9d7e\n",
      "🧪 View experiment at: http://127.0.0.1:5000/#/experiments/395380171902018373\n"
     ]
    },
    {
     "name": "stderr",
     "output_type": "stream",
     "text": [
      "2025/07/25 11:28:56 WARNING mlflow.models.model: `artifact_path` is deprecated. Please use `name` instead.\n",
      "2025/07/25 11:28:59 WARNING mlflow.models.model: Model logged without a signature and input example. Please set `input_example` parameter when logging the model to auto infer the model signature.\n"
     ]
    },
    {
     "name": "stdout",
     "output_type": "stream",
     "text": [
      "✅ Run logged for SVC with top_10_features in Fraud_Detection_Exp_9\n",
      "🏃 View run SVC_top_10_features at: http://127.0.0.1:5000/#/experiments/395380171902018373/runs/090964ec540145fd9d43c603a02b3ab2\n",
      "🧪 View experiment at: http://127.0.0.1:5000/#/experiments/395380171902018373\n"
     ]
    },
    {
     "name": "stderr",
     "output_type": "stream",
     "text": [
      "2025/07/25 11:29:00 WARNING mlflow.models.model: `artifact_path` is deprecated. Please use `name` instead.\n",
      "2025/07/25 11:29:03 WARNING mlflow.models.model: Model logged without a signature and input example. Please set `input_example` parameter when logging the model to auto infer the model signature.\n"
     ]
    },
    {
     "name": "stdout",
     "output_type": "stream",
     "text": [
      "✅ Run logged for LogisticRegression with all_features in Fraud_Detection_Exp_10\n",
      "🏃 View run LogisticRegression_all_features at: http://127.0.0.1:5000/#/experiments/878842071363910808/runs/a4ebb4f2a709486e95fa5f322d9825cb\n",
      "🧪 View experiment at: http://127.0.0.1:5000/#/experiments/878842071363910808\n"
     ]
    },
    {
     "name": "stderr",
     "output_type": "stream",
     "text": [
      "2025/07/25 11:29:12 WARNING mlflow.models.model: `artifact_path` is deprecated. Please use `name` instead.\n",
      "2025/07/25 11:29:15 WARNING mlflow.models.model: Model logged without a signature and input example. Please set `input_example` parameter when logging the model to auto infer the model signature.\n"
     ]
    },
    {
     "name": "stdout",
     "output_type": "stream",
     "text": [
      "✅ Run logged for RandomForest with all_features in Fraud_Detection_Exp_10\n",
      "🏃 View run RandomForest_all_features at: http://127.0.0.1:5000/#/experiments/878842071363910808/runs/64885d209e90419f813b9bf6a4887577\n",
      "🧪 View experiment at: http://127.0.0.1:5000/#/experiments/878842071363910808\n"
     ]
    },
    {
     "name": "stderr",
     "output_type": "stream",
     "text": [
      "2025/07/25 11:29:16 WARNING mlflow.models.model: `artifact_path` is deprecated. Please use `name` instead.\n",
      "2025/07/25 11:29:19 WARNING mlflow.models.model: Model logged without a signature and input example. Please set `input_example` parameter when logging the model to auto infer the model signature.\n"
     ]
    },
    {
     "name": "stdout",
     "output_type": "stream",
     "text": [
      "✅ Run logged for SVC with all_features in Fraud_Detection_Exp_10\n",
      "🏃 View run SVC_all_features at: http://127.0.0.1:5000/#/experiments/878842071363910808/runs/6450c37d8fc54b339c7c8d89e28fdb39\n",
      "🧪 View experiment at: http://127.0.0.1:5000/#/experiments/878842071363910808\n"
     ]
    },
    {
     "name": "stderr",
     "output_type": "stream",
     "text": [
      "2025/07/25 11:29:20 WARNING mlflow.models.model: `artifact_path` is deprecated. Please use `name` instead.\n",
      "2025/07/25 11:29:23 WARNING mlflow.models.model: Model logged without a signature and input example. Please set `input_example` parameter when logging the model to auto infer the model signature.\n"
     ]
    },
    {
     "name": "stdout",
     "output_type": "stream",
     "text": [
      "✅ Run logged for LogisticRegression with half_features in Fraud_Detection_Exp_10\n",
      "🏃 View run LogisticRegression_half_features at: http://127.0.0.1:5000/#/experiments/878842071363910808/runs/c3c6e1574abd432da4cc97f6a0c9e5b2\n",
      "🧪 View experiment at: http://127.0.0.1:5000/#/experiments/878842071363910808\n"
     ]
    },
    {
     "name": "stderr",
     "output_type": "stream",
     "text": [
      "2025/07/25 11:29:29 WARNING mlflow.models.model: `artifact_path` is deprecated. Please use `name` instead.\n",
      "2025/07/25 11:29:32 WARNING mlflow.models.model: Model logged without a signature and input example. Please set `input_example` parameter when logging the model to auto infer the model signature.\n"
     ]
    },
    {
     "name": "stdout",
     "output_type": "stream",
     "text": [
      "✅ Run logged for RandomForest with half_features in Fraud_Detection_Exp_10\n",
      "🏃 View run RandomForest_half_features at: http://127.0.0.1:5000/#/experiments/878842071363910808/runs/efc52e1fc48c48e098601fbce7ef27cd\n",
      "🧪 View experiment at: http://127.0.0.1:5000/#/experiments/878842071363910808\n"
     ]
    },
    {
     "name": "stderr",
     "output_type": "stream",
     "text": [
      "2025/07/25 11:29:33 WARNING mlflow.models.model: `artifact_path` is deprecated. Please use `name` instead.\n",
      "2025/07/25 11:29:37 WARNING mlflow.models.model: Model logged without a signature and input example. Please set `input_example` parameter when logging the model to auto infer the model signature.\n"
     ]
    },
    {
     "name": "stdout",
     "output_type": "stream",
     "text": [
      "✅ Run logged for SVC with half_features in Fraud_Detection_Exp_10\n",
      "🏃 View run SVC_half_features at: http://127.0.0.1:5000/#/experiments/878842071363910808/runs/2fd3bd3a0d514fe1bf006aec53305822\n",
      "🧪 View experiment at: http://127.0.0.1:5000/#/experiments/878842071363910808\n"
     ]
    },
    {
     "name": "stderr",
     "output_type": "stream",
     "text": [
      "2025/07/25 11:29:37 WARNING mlflow.models.model: `artifact_path` is deprecated. Please use `name` instead.\n",
      "2025/07/25 11:29:40 WARNING mlflow.models.model: Model logged without a signature and input example. Please set `input_example` parameter when logging the model to auto infer the model signature.\n"
     ]
    },
    {
     "name": "stdout",
     "output_type": "stream",
     "text": [
      "✅ Run logged for LogisticRegression with top_10_features in Fraud_Detection_Exp_10\n",
      "🏃 View run LogisticRegression_top_10_features at: http://127.0.0.1:5000/#/experiments/878842071363910808/runs/91f6eb76a7354adc80f636d3003dba55\n",
      "🧪 View experiment at: http://127.0.0.1:5000/#/experiments/878842071363910808\n"
     ]
    },
    {
     "name": "stderr",
     "output_type": "stream",
     "text": [
      "2025/07/25 11:29:46 WARNING mlflow.models.model: `artifact_path` is deprecated. Please use `name` instead.\n",
      "2025/07/25 11:29:49 WARNING mlflow.models.model: Model logged without a signature and input example. Please set `input_example` parameter when logging the model to auto infer the model signature.\n"
     ]
    },
    {
     "name": "stdout",
     "output_type": "stream",
     "text": [
      "✅ Run logged for RandomForest with top_10_features in Fraud_Detection_Exp_10\n",
      "🏃 View run RandomForest_top_10_features at: http://127.0.0.1:5000/#/experiments/878842071363910808/runs/18316c8dcf3a4de4b5a8cba55387a9e3\n",
      "🧪 View experiment at: http://127.0.0.1:5000/#/experiments/878842071363910808\n"
     ]
    },
    {
     "name": "stderr",
     "output_type": "stream",
     "text": [
      "2025/07/25 11:29:50 WARNING mlflow.models.model: `artifact_path` is deprecated. Please use `name` instead.\n",
      "2025/07/25 11:29:54 WARNING mlflow.models.model: Model logged without a signature and input example. Please set `input_example` parameter when logging the model to auto infer the model signature.\n"
     ]
    },
    {
     "name": "stdout",
     "output_type": "stream",
     "text": [
      "✅ Run logged for SVC with top_10_features in Fraud_Detection_Exp_10\n",
      "🏃 View run SVC_top_10_features at: http://127.0.0.1:5000/#/experiments/878842071363910808/runs/02709d536b304989aaed09e168bb72d7\n",
      "🧪 View experiment at: http://127.0.0.1:5000/#/experiments/878842071363910808\n"
     ]
    }
   ],
   "source": [
    "## Load your dataset\n",
    "df = pd.read_parquet(\"data/fraud_data.parquet\")\n",
    "# ✅ Features and label\n",
    "target = \"Class\"\n",
    "X_full = df.drop(columns=[target])\n",
    "y = df[target]\n",
    "\n",
    "# ✅ Define feature subsets\n",
    "# Drop columns with too many unique values (e.g., more than 100)\n",
    "for col in X_full.select_dtypes(include=\"object\").columns:\n",
    "    if X_full[col].nunique() > 100:\n",
    "        print(f\"Dropping column: {col} (unique: {X_full[col].nunique()})\")\n",
    "        X_full = X_full.drop(columns=col)\n",
    "\n",
    "X_full = pd.get_dummies(X_full)  # One-hot encode all object-type columns\n",
    "all_features = X_full.columns.tolist()\n",
    "half_features = all_features[:len(all_features)//2]\n",
    "top_features = all_features[10:20]  # Example: features ranked important by domain or feature importance\n",
    "\n",
    "feature_sets = {\n",
    "    \"all_features\": all_features,\n",
    "    \"half_features\": half_features,\n",
    "    \"top_10_features\": top_features\n",
    "}\n",
    "\n",
    "# ✅ Define models and hyperparameters\n",
    "models = {\n",
    "    \"LogisticRegression\": {\n",
    "        \"model\": LogisticRegression(max_iter=500),\n",
    "        \"params\": {\"C\": [0.1, 1, 10]}\n",
    "    },\n",
    "    \"RandomForest\": {\n",
    "        \"model\": RandomForestClassifier(),\n",
    "        \"params\": {\"n_estimators\": [50, 100], \"max_depth\": [3, 5]}\n",
    "    },\n",
    "    \"SVC\": {\n",
    "        \"model\": SVC(),\n",
    "        \"params\": {\"C\": [0.1, 1], \"kernel\": [\"linear\", \"rbf\"]}\n",
    "    }\n",
    "}\n",
    "\n",
    "\n",
    "for exp_id in range(1, 11):\n",
    "    experiment_name = f\"Fraud_Detection_Exp_{exp_id}\"\n",
    "    mlflow.set_experiment(experiment_name)\n",
    "\n",
    "    for feature_set_name, selected_features in feature_sets.items():\n",
    "        X = X_full[selected_features]\n",
    "        X_train, X_test, y_train, y_test = train_test_split(X, y, test_size=0.3, random_state=exp_id)\n",
    "\n",
    "        for model_name, config in models.items():\n",
    "            model = config[\"model\"]\n",
    "            param_grid = config[\"params\"]\n",
    "\n",
    "            grid = GridSearchCV(model, param_grid, cv=3, scoring=\"accuracy\")\n",
    "            grid.fit(X_train, y_train)\n",
    "\n",
    "            best_model = grid.best_estimator_\n",
    "            y_pred = best_model.predict(X_test)\n",
    "\n",
    "            acc = accuracy_score(y_test, y_pred)\n",
    "            prec = precision_score(y_test, y_pred, zero_division=0)\n",
    "            rec = recall_score(y_test, y_pred, zero_division=0)\n",
    "\n",
    "            with mlflow.start_run(run_name=f\"{model_name}_{feature_set_name}\"):\n",
    "                mlflow.log_param(\"model\", model_name)\n",
    "                mlflow.log_param(\"feature_set\", feature_set_name)\n",
    "                mlflow.log_params(grid.best_params_)\n",
    "                mlflow.log_metric(\"accuracy\", acc)\n",
    "                mlflow.log_metric(\"precision\", prec)\n",
    "                mlflow.log_metric(\"recall\", rec)\n",
    "                mlflow.sklearn.log_model(best_model, artifact_path=\"model\")\n",
    "\n",
    "                print(f\"✅ Run logged for {model_name} with {feature_set_name} in {experiment_name}\")\n",
    "                "
   ]
  },
  {
   "cell_type": "code",
   "execution_count": 6,
   "id": "e5cd0951-a6da-44de-8ea6-e54f30886843",
   "metadata": {},
   "outputs": [
    {
     "name": "stdout",
     "output_type": "stream",
     "text": [
      "\u001b[33m  arize.utils.logging | WARNING | The space_key parameter is deprecated and will be removed in a future release. Please use the space_id parameter instead.\u001b[0m\n",
      "\u001b[38;21m  arize.utils.logging | INFO | Success! Check out your data at https://app.arize.com/organizations/QWNjb3VudE9yZ2FuaXphdGlvbjowOjZSQ2g=/spaces/U3BhY2U6MDo1bGZD/models/modelName/fraud_model_v1?selectedTab=performance\u001b[0m\n",
      "✅ Successfully logged to Arize\n"
     ]
    }
   ],
   "source": [
    "from arize.pandas.logger import Client\n",
    "from arize.utils.types import ModelTypes, Environments, Schema\n",
    "\n",
    "\n",
    "# Your Arize credentials\n",
    "space_key = \"U3BhY2U6MjM3MTI6RThBTQ==\"\n",
    "api_key = \"ak-8c93aa68-e105-4c23-b977-4ffb437fe7a5-rZPuli0UaGIrRAJ3x-OkK1sg_l5e5mFT\"\n",
    "\n",
    "# Get the best model from the last grid search run (assuming it's the last one executed)\n",
    "# You might need to adjust this if you have multiple grid search runs in the same cell\n",
    "best_model = grid.best_estimator_\n",
    "predictions = best_model.predict(X_test)\n",
    "# ✅ Prepare the logging dataframe\n",
    "log_df = X_test.copy()\n",
    "log_df[\"prediction_id\"] = range(len(X_test))\n",
    "log_df[\"prediction\"] = predictions\n",
    "log_df[\"actual\"] = y_test.values\n",
    "# ✅ Reset index to avoid validation error\n",
    "log_df.reset_index(drop=True, inplace=True)\n",
    "\n",
    "# Define schema\n",
    "schema = Schema(\n",
    "    prediction_id_column_name=\"prediction_id\",\n",
    "    prediction_label_column_name=\"prediction\",\n",
    "    actual_label_column_name=\"actual\",\n",
    "    feature_column_names=X_test.columns.tolist()\n",
    ")\n",
    "\n",
    "# Create Arize client\n",
    "client = Client(space_key=space_key, api_key=api_key)\n",
    "\n",
    "# ✅ Correct model_type and environment\n",
    "response = client.log(\n",
    "    model_id=\"fraud_model_v1\",\n",
    "    model_version=\"1.0.0\",\n",
    "    model_type=ModelTypes.BINARY_CLASSIFICATION,\n",
    "    environment=Environments.PRODUCTION,   # ✅ FIXED HERE\n",
    "    dataframe=log_df.head(100),\n",
    "    schema=schema\n",
    ")\n",
    "\n",
    "# ✅ Result\n",
    "if response.status_code == 200:\n",
    "    print(\"✅ Successfully logged to Arize\")\n",
    "else:\n",
    "    print(f\"❌ Error: {response.status_code} - {response.text}\")"
   ]
  },
  {
   "cell_type": "code",
   "execution_count": 12,
   "id": "02e52673-0747-48bd-86b1-6b04a46356dd",
   "metadata": {},
   "outputs": [
    {
     "name": "stdout",
     "output_type": "stream",
     "text": [
      "\n",
      "🔍 Comparing Metrics:\n",
      "num_rows: MLflow = 10000.0000, Arize = 10000.0000\n"
     ]
    }
   ],
   "source": [
    "from arize.pandas.logger import Client\n",
    "from arize.utils.types import ModelTypes, Environments, Schema\n",
    "\n",
    "# Step 1: Fetch Metrics from MLflow\n",
    "def get_mlflow_metrics(run_id: str):\n",
    "    client = mlflow.tracking.MlflowClient()\n",
    "    data = client.get_run(run_id)\n",
    "    return data.data.metrics\n",
    "\n",
    "def get_arize_metrics_from_csv(path: str):\n",
    "    df = pd.read_csv(path)\n",
    "    metrics = {}\n",
    "    \n",
    "    # Example: expected columns ['metric_name', 'value']\n",
    "    for _, row in df.iterrows():\n",
    "        key = row['metric_name'].strip().lower()\n",
    "        val = row['value']\n",
    "        metrics[key] = float(val)\n",
    "\n",
    "    return metrics\n",
    "\n",
    "    \n",
    "\n",
    "# Step 3: Compare both\n",
    "def compare_metrics(mlflow_metrics, arize_metrics):\n",
    "    print(\"\\n🔍 Comparing Metrics:\")\n",
    "    for key in mlflow_metrics:\n",
    "        mlflow_val = mlflow_metrics[key]\n",
    "        arize_val = arize_metrics.get(key)\n",
    "        if arize_val is not None:\n",
    "            print(f\"{key}: MLflow = {mlflow_val:.4f}, Arize = {arize_val:.4f}\")\n",
    "        else:\n",
    "            print(f\"{key}: MLflow = {mlflow_val:.4f}, Arize = ❌ Not Found\")\n",
    "\n",
    "# Run the comparison\n",
    "run_id = \"76d33a1df8bd45fea4ea436e975fe2de\"  # your real run_id\n",
    "mlflow_metrics = get_mlflow_metrics(run_id)\n",
    "arize_metrics = get_arize_metrics()\n",
    "compare_metrics(mlflow_metrics, arize_metrics)"
   ]
  },
  {
   "cell_type": "code",
   "execution_count": 13,
   "id": "c0ca9587-360a-44af-bf5e-fe93d7fdeecf",
   "metadata": {
    "scrolled": true
   },
   "outputs": [
    {
     "name": "stderr",
     "output_type": "stream",
     "text": [
      "[I 2025-07-25 11:30:33,244] A new study created in memory with name: no-name-0e4fe88d-4f02-44e0-ad2b-9e135b9f3aa8\n",
      "2025/07/25 11:30:36 WARNING mlflow.models.model: `artifact_path` is deprecated. Please use `name` instead.\n",
      "2025/07/25 11:30:39 WARNING mlflow.models.model: Model logged without a signature and input example. Please set `input_example` parameter when logging the model to auto infer the model signature.\n",
      "[I 2025-07-25 11:30:39,938] Trial 0 finished with value: 0.9985 and parameters: {'model': 'RandomForest', 'n_estimators': 155, 'max_depth': 6}. Best is trial 0 with value: 0.9985.\n",
      "C:\\Users\\aman1\\AppData\\Local\\Temp\\ipykernel_14540\\1126355616.py:30: FutureWarning: suggest_loguniform has been deprecated in v3.0.0. This feature will be removed in v6.0.0. See https://github.com/optuna/optuna/releases/tag/v3.0.0. Use suggest_float(..., log=True) instead.\n",
      "  C = trial.suggest_loguniform(\"C\", 0.01, 10)\n",
      "2025/07/25 11:30:40 WARNING mlflow.models.model: `artifact_path` is deprecated. Please use `name` instead.\n"
     ]
    },
    {
     "name": "stdout",
     "output_type": "stream",
     "text": [
      "🏃 View run languid-swan-724 at: http://127.0.0.1:5000/#/experiments/242715092201218917/runs/e8f8f726f3c543d2b0984f8d761de6a8\n",
      "🧪 View experiment at: http://127.0.0.1:5000/#/experiments/242715092201218917\n"
     ]
    },
    {
     "name": "stderr",
     "output_type": "stream",
     "text": [
      "2025/07/25 11:30:43 WARNING mlflow.models.model: Model logged without a signature and input example. Please set `input_example` parameter when logging the model to auto infer the model signature.\n",
      "[I 2025-07-25 11:30:43,455] Trial 1 finished with value: 0.9975 and parameters: {'model': 'LogisticRegression', 'C': 0.035937104885451855}. Best is trial 0 with value: 0.9985.\n",
      "C:\\Users\\aman1\\AppData\\Local\\Temp\\ipykernel_14540\\1126355616.py:30: FutureWarning: suggest_loguniform has been deprecated in v3.0.0. This feature will be removed in v6.0.0. See https://github.com/optuna/optuna/releases/tag/v3.0.0. Use suggest_float(..., log=True) instead.\n",
      "  C = trial.suggest_loguniform(\"C\", 0.01, 10)\n",
      "2025/07/25 11:30:43 WARNING mlflow.models.model: `artifact_path` is deprecated. Please use `name` instead.\n"
     ]
    },
    {
     "name": "stdout",
     "output_type": "stream",
     "text": [
      "🏃 View run classy-slug-815 at: http://127.0.0.1:5000/#/experiments/242715092201218917/runs/8dad88a6d3eb4fb88a05a41df901c1d8\n",
      "🧪 View experiment at: http://127.0.0.1:5000/#/experiments/242715092201218917\n"
     ]
    },
    {
     "name": "stderr",
     "output_type": "stream",
     "text": [
      "2025/07/25 11:30:46 WARNING mlflow.models.model: Model logged without a signature and input example. Please set `input_example` parameter when logging the model to auto infer the model signature.\n",
      "[I 2025-07-25 11:30:46,737] Trial 2 finished with value: 0.997 and parameters: {'model': 'LogisticRegression', 'C': 0.1937274144914623}. Best is trial 0 with value: 0.9985.\n"
     ]
    },
    {
     "name": "stdout",
     "output_type": "stream",
     "text": [
      "🏃 View run grandiose-moth-118 at: http://127.0.0.1:5000/#/experiments/242715092201218917/runs/d34c5d0d42ac4782a84f8a33950a5650\n",
      "🧪 View experiment at: http://127.0.0.1:5000/#/experiments/242715092201218917\n"
     ]
    },
    {
     "name": "stderr",
     "output_type": "stream",
     "text": [
      "2025/07/25 11:30:49 WARNING mlflow.models.model: `artifact_path` is deprecated. Please use `name` instead.\n",
      "2025/07/25 11:30:52 WARNING mlflow.models.model: Model logged without a signature and input example. Please set `input_example` parameter when logging the model to auto infer the model signature.\n",
      "[I 2025-07-25 11:30:53,062] Trial 3 finished with value: 0.999 and parameters: {'model': 'RandomForest', 'n_estimators': 152, 'max_depth': 6}. Best is trial 3 with value: 0.999.\n",
      "C:\\Users\\aman1\\AppData\\Local\\Programs\\Python\\Python311\\Lib\\site-packages\\xgboost\\training.py:183: UserWarning: [11:30:53] WARNING: C:\\actions-runner\\_work\\xgboost\\xgboost\\src\\learner.cc:738: \n",
      "Parameters: { \"use_label_encoder\" } are not used.\n",
      "\n",
      "  bst.update(dtrain, iteration=i, fobj=obj)\n"
     ]
    },
    {
     "name": "stdout",
     "output_type": "stream",
     "text": [
      "🏃 View run lyrical-mouse-623 at: http://127.0.0.1:5000/#/experiments/242715092201218917/runs/16c658956dd44791a7c6b0d576c60280\n",
      "🧪 View experiment at: http://127.0.0.1:5000/#/experiments/242715092201218917\n"
     ]
    },
    {
     "name": "stderr",
     "output_type": "stream",
     "text": [
      "2025/07/25 11:30:53 WARNING mlflow.models.model: `artifact_path` is deprecated. Please use `name` instead.\n",
      "2025/07/25 11:30:56 WARNING mlflow.models.model: Model logged without a signature and input example. Please set `input_example` parameter when logging the model to auto infer the model signature.\n",
      "[I 2025-07-25 11:30:56,726] Trial 4 finished with value: 0.9985 and parameters: {'model': 'XGBoost', 'eta': 0.16401545597149098, 'max_depth': 5}. Best is trial 3 with value: 0.999.\n",
      "C:\\Users\\aman1\\AppData\\Local\\Temp\\ipykernel_14540\\1126355616.py:30: FutureWarning: suggest_loguniform has been deprecated in v3.0.0. This feature will be removed in v6.0.0. See https://github.com/optuna/optuna/releases/tag/v3.0.0. Use suggest_float(..., log=True) instead.\n",
      "  C = trial.suggest_loguniform(\"C\", 0.01, 10)\n",
      "2025/07/25 11:30:56 WARNING mlflow.models.model: `artifact_path` is deprecated. Please use `name` instead.\n"
     ]
    },
    {
     "name": "stdout",
     "output_type": "stream",
     "text": [
      "🏃 View run bittersweet-moth-617 at: http://127.0.0.1:5000/#/experiments/242715092201218917/runs/2c7c0cd1341f4efdb9a94e23da5ac802\n",
      "🧪 View experiment at: http://127.0.0.1:5000/#/experiments/242715092201218917\n"
     ]
    },
    {
     "name": "stderr",
     "output_type": "stream",
     "text": [
      "2025/07/25 11:31:00 WARNING mlflow.models.model: Model logged without a signature and input example. Please set `input_example` parameter when logging the model to auto infer the model signature.\n",
      "[I 2025-07-25 11:31:00,280] Trial 5 finished with value: 0.9975 and parameters: {'model': 'LogisticRegression', 'C': 0.022790769451276394}. Best is trial 3 with value: 0.999.\n",
      "C:\\Users\\aman1\\AppData\\Local\\Programs\\Python\\Python311\\Lib\\site-packages\\xgboost\\training.py:183: UserWarning: [11:31:00] WARNING: C:\\actions-runner\\_work\\xgboost\\xgboost\\src\\learner.cc:738: \n",
      "Parameters: { \"use_label_encoder\" } are not used.\n",
      "\n",
      "  bst.update(dtrain, iteration=i, fobj=obj)\n"
     ]
    },
    {
     "name": "stdout",
     "output_type": "stream",
     "text": [
      "🏃 View run bustling-loon-179 at: http://127.0.0.1:5000/#/experiments/242715092201218917/runs/81e210ed222042b8bd50431b5d5ebf74\n",
      "🧪 View experiment at: http://127.0.0.1:5000/#/experiments/242715092201218917\n"
     ]
    },
    {
     "name": "stderr",
     "output_type": "stream",
     "text": [
      "2025/07/25 11:31:00 WARNING mlflow.models.model: `artifact_path` is deprecated. Please use `name` instead.\n",
      "2025/07/25 11:31:03 WARNING mlflow.models.model: Model logged without a signature and input example. Please set `input_example` parameter when logging the model to auto infer the model signature.\n",
      "[I 2025-07-25 11:31:03,915] Trial 6 finished with value: 0.997 and parameters: {'model': 'XGBoost', 'eta': 0.027369457116418576, 'max_depth': 7}. Best is trial 3 with value: 0.999.\n",
      "C:\\Users\\aman1\\AppData\\Local\\Programs\\Python\\Python311\\Lib\\site-packages\\xgboost\\training.py:183: UserWarning: [11:31:03] WARNING: C:\\actions-runner\\_work\\xgboost\\xgboost\\src\\learner.cc:738: \n",
      "Parameters: { \"use_label_encoder\" } are not used.\n",
      "\n",
      "  bst.update(dtrain, iteration=i, fobj=obj)\n"
     ]
    },
    {
     "name": "stdout",
     "output_type": "stream",
     "text": [
      "🏃 View run thundering-snail-603 at: http://127.0.0.1:5000/#/experiments/242715092201218917/runs/11b3bc9a48c24427b8a731790e6e6048\n",
      "🧪 View experiment at: http://127.0.0.1:5000/#/experiments/242715092201218917\n"
     ]
    },
    {
     "name": "stderr",
     "output_type": "stream",
     "text": [
      "2025/07/25 11:31:04 WARNING mlflow.models.model: `artifact_path` is deprecated. Please use `name` instead.\n",
      "2025/07/25 11:31:07 WARNING mlflow.models.model: Model logged without a signature and input example. Please set `input_example` parameter when logging the model to auto infer the model signature.\n",
      "[I 2025-07-25 11:31:07,357] Trial 7 finished with value: 0.998 and parameters: {'model': 'XGBoost', 'eta': 0.23102736807842683, 'max_depth': 4}. Best is trial 3 with value: 0.999.\n"
     ]
    },
    {
     "name": "stdout",
     "output_type": "stream",
     "text": [
      "🏃 View run bedecked-mole-345 at: http://127.0.0.1:5000/#/experiments/242715092201218917/runs/ac590665deff446aab90061a7683d730\n",
      "🧪 View experiment at: http://127.0.0.1:5000/#/experiments/242715092201218917\n"
     ]
    },
    {
     "name": "stderr",
     "output_type": "stream",
     "text": [
      "2025/07/25 11:31:08 WARNING mlflow.models.model: `artifact_path` is deprecated. Please use `name` instead.\n",
      "2025/07/25 11:31:11 WARNING mlflow.models.model: Model logged without a signature and input example. Please set `input_example` parameter when logging the model to auto infer the model signature.\n",
      "[I 2025-07-25 11:31:11,890] Trial 8 finished with value: 0.999 and parameters: {'model': 'RandomForest', 'n_estimators': 58, 'max_depth': 10}. Best is trial 3 with value: 0.999.\n",
      "C:\\Users\\aman1\\AppData\\Local\\Temp\\ipykernel_14540\\1126355616.py:30: FutureWarning: suggest_loguniform has been deprecated in v3.0.0. This feature will be removed in v6.0.0. See https://github.com/optuna/optuna/releases/tag/v3.0.0. Use suggest_float(..., log=True) instead.\n",
      "  C = trial.suggest_loguniform(\"C\", 0.01, 10)\n",
      "2025/07/25 11:31:12 WARNING mlflow.models.model: `artifact_path` is deprecated. Please use `name` instead.\n"
     ]
    },
    {
     "name": "stdout",
     "output_type": "stream",
     "text": [
      "🏃 View run spiffy-shrimp-101 at: http://127.0.0.1:5000/#/experiments/242715092201218917/runs/9d1acacf135c47f288a615b5fdc56cb6\n",
      "🧪 View experiment at: http://127.0.0.1:5000/#/experiments/242715092201218917\n"
     ]
    },
    {
     "name": "stderr",
     "output_type": "stream",
     "text": [
      "2025/07/25 11:31:15 WARNING mlflow.models.model: Model logged without a signature and input example. Please set `input_example` parameter when logging the model to auto infer the model signature.\n",
      "[I 2025-07-25 11:31:15,226] Trial 9 finished with value: 0.9985 and parameters: {'model': 'LogisticRegression', 'C': 1.0265540844680492}. Best is trial 3 with value: 0.999.\n"
     ]
    },
    {
     "name": "stdout",
     "output_type": "stream",
     "text": [
      "🏃 View run skittish-donkey-415 at: http://127.0.0.1:5000/#/experiments/242715092201218917/runs/0503c14897f3442881892c4a4665df36\n",
      "🧪 View experiment at: http://127.0.0.1:5000/#/experiments/242715092201218917\n"
     ]
    },
    {
     "name": "stderr",
     "output_type": "stream",
     "text": [
      "2025/07/25 11:31:19 WARNING mlflow.models.model: `artifact_path` is deprecated. Please use `name` instead.\n",
      "2025/07/25 11:31:22 WARNING mlflow.models.model: Model logged without a signature and input example. Please set `input_example` parameter when logging the model to auto infer the model signature.\n",
      "[I 2025-07-25 11:31:22,565] Trial 10 finished with value: 0.9985 and parameters: {'model': 'RandomForest', 'n_estimators': 200, 'max_depth': 8}. Best is trial 3 with value: 0.999.\n"
     ]
    },
    {
     "name": "stdout",
     "output_type": "stream",
     "text": [
      "🏃 View run rogue-hen-113 at: http://127.0.0.1:5000/#/experiments/242715092201218917/runs/d74c030fa5044d28b940069b8d12d109\n",
      "🧪 View experiment at: http://127.0.0.1:5000/#/experiments/242715092201218917\n"
     ]
    },
    {
     "name": "stderr",
     "output_type": "stream",
     "text": [
      "2025/07/25 11:31:23 WARNING mlflow.models.model: `artifact_path` is deprecated. Please use `name` instead.\n",
      "2025/07/25 11:31:26 WARNING mlflow.models.model: Model logged without a signature and input example. Please set `input_example` parameter when logging the model to auto infer the model signature.\n",
      "[I 2025-07-25 11:31:27,087] Trial 11 finished with value: 0.999 and parameters: {'model': 'RandomForest', 'n_estimators': 50, 'max_depth': 10}. Best is trial 3 with value: 0.999.\n"
     ]
    },
    {
     "name": "stdout",
     "output_type": "stream",
     "text": [
      "🏃 View run blushing-snail-481 at: http://127.0.0.1:5000/#/experiments/242715092201218917/runs/4fb5986ce78e40cbbe889ce73c00d7bb\n",
      "🧪 View experiment at: http://127.0.0.1:5000/#/experiments/242715092201218917\n"
     ]
    },
    {
     "name": "stderr",
     "output_type": "stream",
     "text": [
      "2025/07/25 11:31:28 WARNING mlflow.models.model: `artifact_path` is deprecated. Please use `name` instead.\n",
      "2025/07/25 11:31:31 WARNING mlflow.models.model: Model logged without a signature and input example. Please set `input_example` parameter when logging the model to auto infer the model signature.\n",
      "[I 2025-07-25 11:31:31,636] Trial 12 finished with value: 0.9985 and parameters: {'model': 'RandomForest', 'n_estimators': 59, 'max_depth': 10}. Best is trial 3 with value: 0.999.\n"
     ]
    },
    {
     "name": "stdout",
     "output_type": "stream",
     "text": [
      "🏃 View run melodic-stork-88 at: http://127.0.0.1:5000/#/experiments/242715092201218917/runs/d25db212b39d49ac94c30490eaa51a6b\n",
      "🧪 View experiment at: http://127.0.0.1:5000/#/experiments/242715092201218917\n"
     ]
    },
    {
     "name": "stderr",
     "output_type": "stream",
     "text": [
      "2025/07/25 11:31:33 WARNING mlflow.models.model: `artifact_path` is deprecated. Please use `name` instead.\n",
      "2025/07/25 11:31:36 WARNING mlflow.models.model: Model logged without a signature and input example. Please set `input_example` parameter when logging the model to auto infer the model signature.\n",
      "[I 2025-07-25 11:31:36,717] Trial 13 finished with value: 0.997 and parameters: {'model': 'RandomForest', 'n_estimators': 119, 'max_depth': 3}. Best is trial 3 with value: 0.999.\n"
     ]
    },
    {
     "name": "stdout",
     "output_type": "stream",
     "text": [
      "🏃 View run monumental-wolf-212 at: http://127.0.0.1:5000/#/experiments/242715092201218917/runs/9fabe4470c4a4524a55abcc7fc333d5a\n",
      "🧪 View experiment at: http://127.0.0.1:5000/#/experiments/242715092201218917\n"
     ]
    },
    {
     "name": "stderr",
     "output_type": "stream",
     "text": [
      "2025/07/25 11:31:39 WARNING mlflow.models.model: `artifact_path` is deprecated. Please use `name` instead.\n",
      "2025/07/25 11:31:42 WARNING mlflow.models.model: Model logged without a signature and input example. Please set `input_example` parameter when logging the model to auto infer the model signature.\n",
      "[I 2025-07-25 11:31:42,518] Trial 14 finished with value: 0.999 and parameters: {'model': 'RandomForest', 'n_estimators': 118, 'max_depth': 8}. Best is trial 3 with value: 0.999.\n"
     ]
    },
    {
     "name": "stdout",
     "output_type": "stream",
     "text": [
      "🏃 View run nervous-ox-863 at: http://127.0.0.1:5000/#/experiments/242715092201218917/runs/30dacc556c2b4583b3591a3082c758b8\n",
      "🧪 View experiment at: http://127.0.0.1:5000/#/experiments/242715092201218917\n"
     ]
    },
    {
     "name": "stderr",
     "output_type": "stream",
     "text": [
      "2025/07/25 11:31:45 WARNING mlflow.models.model: `artifact_path` is deprecated. Please use `name` instead.\n",
      "2025/07/25 11:31:48 WARNING mlflow.models.model: Model logged without a signature and input example. Please set `input_example` parameter when logging the model to auto infer the model signature.\n",
      "[I 2025-07-25 11:31:49,067] Trial 15 finished with value: 0.9985 and parameters: {'model': 'RandomForest', 'n_estimators': 156, 'max_depth': 8}. Best is trial 3 with value: 0.999.\n"
     ]
    },
    {
     "name": "stdout",
     "output_type": "stream",
     "text": [
      "🏃 View run traveling-ray-986 at: http://127.0.0.1:5000/#/experiments/242715092201218917/runs/39706ececbd74c2f8901bb1e866954b6\n",
      "🧪 View experiment at: http://127.0.0.1:5000/#/experiments/242715092201218917\n"
     ]
    },
    {
     "name": "stderr",
     "output_type": "stream",
     "text": [
      "2025/07/25 11:31:50 WARNING mlflow.models.model: `artifact_path` is deprecated. Please use `name` instead.\n",
      "2025/07/25 11:31:54 WARNING mlflow.models.model: Model logged without a signature and input example. Please set `input_example` parameter when logging the model to auto infer the model signature.\n",
      "[I 2025-07-25 11:31:54,771] Trial 16 finished with value: 0.999 and parameters: {'model': 'RandomForest', 'n_estimators': 88, 'max_depth': 6}. Best is trial 3 with value: 0.999.\n"
     ]
    },
    {
     "name": "stdout",
     "output_type": "stream",
     "text": [
      "🏃 View run casual-bear-12 at: http://127.0.0.1:5000/#/experiments/242715092201218917/runs/3c4278ae0096455eae2f64cd81c341ae\n",
      "🧪 View experiment at: http://127.0.0.1:5000/#/experiments/242715092201218917\n"
     ]
    },
    {
     "name": "stderr",
     "output_type": "stream",
     "text": [
      "2025/07/25 11:31:58 WARNING mlflow.models.model: `artifact_path` is deprecated. Please use `name` instead.\n",
      "2025/07/25 11:32:02 WARNING mlflow.models.model: Model logged without a signature and input example. Please set `input_example` parameter when logging the model to auto infer the model signature.\n",
      "[I 2025-07-25 11:32:02,810] Trial 17 finished with value: 0.999 and parameters: {'model': 'RandomForest', 'n_estimators': 154, 'max_depth': 9}. Best is trial 3 with value: 0.999.\n"
     ]
    },
    {
     "name": "stdout",
     "output_type": "stream",
     "text": [
      "🏃 View run rare-carp-140 at: http://127.0.0.1:5000/#/experiments/242715092201218917/runs/d95c4e3131ad4dba9fc3942f2d814ed6\n",
      "🧪 View experiment at: http://127.0.0.1:5000/#/experiments/242715092201218917\n"
     ]
    },
    {
     "name": "stderr",
     "output_type": "stream",
     "text": [
      "2025/07/25 11:32:04 WARNING mlflow.models.model: `artifact_path` is deprecated. Please use `name` instead.\n",
      "2025/07/25 11:32:09 WARNING mlflow.models.model: Model logged without a signature and input example. Please set `input_example` parameter when logging the model to auto infer the model signature.\n",
      "[I 2025-07-25 11:32:09,244] Trial 18 finished with value: 0.999 and parameters: {'model': 'RandomForest', 'n_estimators': 85, 'max_depth': 5}. Best is trial 3 with value: 0.999.\n",
      "C:\\Users\\aman1\\AppData\\Local\\Programs\\Python\\Python311\\Lib\\site-packages\\xgboost\\training.py:183: UserWarning: [11:32:09] WARNING: C:\\actions-runner\\_work\\xgboost\\xgboost\\src\\learner.cc:738: \n",
      "Parameters: { \"use_label_encoder\" } are not used.\n",
      "\n",
      "  bst.update(dtrain, iteration=i, fobj=obj)\n"
     ]
    },
    {
     "name": "stdout",
     "output_type": "stream",
     "text": [
      "🏃 View run funny-ox-536 at: http://127.0.0.1:5000/#/experiments/242715092201218917/runs/589d6c7f362941a5ba6eceb5d0e6b698\n",
      "🧪 View experiment at: http://127.0.0.1:5000/#/experiments/242715092201218917\n"
     ]
    },
    {
     "name": "stderr",
     "output_type": "stream",
     "text": [
      "2025/07/25 11:32:09 WARNING mlflow.models.model: `artifact_path` is deprecated. Please use `name` instead.\n",
      "2025/07/25 11:32:13 WARNING mlflow.models.model: Model logged without a signature and input example. Please set `input_example` parameter when logging the model to auto infer the model signature.\n",
      "[I 2025-07-25 11:32:14,045] Trial 19 finished with value: 0.997 and parameters: {'model': 'XGBoost', 'eta': 0.012161397835376703, 'max_depth': 7}. Best is trial 3 with value: 0.999.\n"
     ]
    },
    {
     "name": "stdout",
     "output_type": "stream",
     "text": [
      "🏃 View run gregarious-calf-462 at: http://127.0.0.1:5000/#/experiments/242715092201218917/runs/169baba254d34453aeeedae87f65e61e\n",
      "🧪 View experiment at: http://127.0.0.1:5000/#/experiments/242715092201218917\n",
      "Best model: RandomForest\n",
      "Best accuracy: 0.999\n"
     ]
    }
   ],
   "source": [
    "from sklearn.model_selection import train_test_split\n",
    "from sklearn.linear_model import LogisticRegression\n",
    "from sklearn.ensemble import RandomForestClassifier\n",
    "from xgboost import XGBClassifier\n",
    "import optuna\n",
    "import mlflow\n",
    "import mlflow.sklearn\n",
    "from sklearn.metrics import accuracy_score\n",
    "\n",
    "# Your dataset\n",
    "df = df.select_dtypes(include=['number'])\n",
    "target = \"Class\"\n",
    "X_full = df.drop(columns=[target])\n",
    "y_full = df[target]\n",
    "\n",
    "X_train, X_test, y_train, y_test = train_test_split(X_full, y_full, test_size=0.2, random_state=42)\n",
    "\n",
    "\n",
    "models = {\n",
    "    \"LogisticRegression\": LogisticRegression,\n",
    "    \"RandomForest\": RandomForestClassifier,\n",
    "    \"XGBoost\": XGBClassifier\n",
    "}\n",
    "\n",
    "#optuna\n",
    "def objective(trial):\n",
    "    model_name = trial.suggest_categorical(\"model\", list(models.keys()))\n",
    "    \n",
    "    if model_name == \"LogisticRegression\":\n",
    "        C = trial.suggest_loguniform(\"C\", 0.01, 10)\n",
    "        model = LogisticRegression(C=C, max_iter=1000)\n",
    "        \n",
    "    elif model_name == \"RandomForest\":\n",
    "        n_estimators = trial.suggest_int(\"n_estimators\", 50, 200)\n",
    "        max_depth = trial.suggest_int(\"max_depth\", 3, 10)\n",
    "        model = RandomForestClassifier(n_estimators=n_estimators, max_depth=max_depth)\n",
    "        \n",
    "    else:  # XGBoost\n",
    "        eta = trial.suggest_float(\"eta\", 0.01, 0.3)\n",
    "        max_depth = trial.suggest_int(\"max_depth\", 3, 10)\n",
    "        model = XGBClassifier(eta=eta, max_depth=max_depth, use_label_encoder=False, eval_metric='logloss')\n",
    "    \n",
    "    model.fit(X_train, y_train)\n",
    "    preds = model.predict(X_test)\n",
    "    score = accuracy_score(y_test, preds)\n",
    "\n",
    "    # MLflow logging\n",
    "    with mlflow.start_run():\n",
    "        mlflow.log_param(\"model\", model_name)\n",
    "        mlflow.log_params(trial.params)\n",
    "        mlflow.log_metric(\"accuracy\", score)\n",
    "        mlflow.sklearn.log_model(model, \"model\")\n",
    "    \n",
    "    return score\n",
    "mlflow.set_experiment(\"optuna_model_selection\")\n",
    "study = optuna.create_study(direction=\"maximize\")\n",
    "study.optimize(objective, n_trials=20)\n",
    "print(\"Best model:\", study.best_params[\"model\"])\n",
    "print(\"Best accuracy:\", study.best_value)\n"
   ]
  },
  {
   "cell_type": "code",
   "execution_count": 17,
   "id": "9a6e517f-d2dc-4f00-950f-effc787573fa",
   "metadata": {},
   "outputs": [
    {
     "name": "stderr",
     "output_type": "stream",
     "text": [
      "2025/07/24 15:09:12 WARNING mlflow.models.model: `artifact_path` is deprecated. Please use `name` instead.\n"
     ]
    },
    {
     "name": "stdout",
     "output_type": "stream",
     "text": [
      "✅ Accuracy: 0.999\n",
      "📋 Classification Report:\n",
      "               precision    recall  f1-score   support\n",
      "\n",
      "           0       1.00      1.00      1.00      1994\n",
      "           1       1.00      0.67      0.80         6\n",
      "\n",
      "    accuracy                           1.00      2000\n",
      "   macro avg       1.00      0.83      0.90      2000\n",
      "weighted avg       1.00      1.00      1.00      2000\n",
      "\n"
     ]
    },
    {
     "name": "stderr",
     "output_type": "stream",
     "text": [
      "2025/07/24 15:09:15 WARNING mlflow.models.model: Model logged without a signature and input example. Please set `input_example` parameter when logging the model to auto infer the model signature.\n"
     ]
    },
    {
     "name": "stdout",
     "output_type": "stream",
     "text": [
      "🏃 View run best_randomforest_final at: http://127.0.0.1:5000/#/experiments/242715092201218917/runs/cdd0294a5aac4a66bd5e886b2811f7df\n",
      "🧪 View experiment at: http://127.0.0.1:5000/#/experiments/242715092201218917\n"
     ]
    }
   ],
   "source": [
    "from sklearn.ensemble import RandomForestClassifier\n",
    "from sklearn.metrics import accuracy_score, classification_report\n",
    "best_params = study.best_params\n",
    "\n",
    "model = RandomForestClassifier(\n",
    "    n_estimators=best_params[\"n_estimators\"],\n",
    "    max_depth=best_params[\"max_depth\"],\n",
    "    random_state=42\n",
    ")\n",
    "\n",
    "model.fit(X_train, y_train)\n",
    "\n",
    "\n",
    "preds = model.predict(X_test)\n",
    "print(\"✅ Accuracy:\", accuracy_score(y_test, preds))\n",
    "print(\"📋 Classification Report:\\n\", classification_report(y_test, preds))\n",
    "\n",
    "\n",
    "with mlflow.start_run(run_name=\"best_randomforest_final\"):\n",
    "    mlflow.log_params({\n",
    "        \"model\": \"RandomForest\",\n",
    "        \"n_estimators\": best_params[\"n_estimators\"],\n",
    "        \"max_depth\": best_params[\"max_depth\"]\n",
    "    })\n",
    "    mlflow.log_metric(\"accuracy\", accuracy_score(y_test, preds))\n",
    "    mlflow.sklearn.log_model(model, \"model\")\n"
   ]
  },
  {
   "cell_type": "code",
   "execution_count": 1,
   "id": "a3250bbf-e54c-4760-a95d-2c7202c47249",
   "metadata": {},
   "outputs": [
    {
     "name": "stdout",
     "output_type": "stream",
     "text": [
      "❌ No MLflow runs found.\n"
     ]
    },
    {
     "ename": "IndexError",
     "evalue": "single positional indexer is out-of-bounds",
     "output_type": "error",
     "traceback": [
      "\u001b[31m---------------------------------------------------------------------------\u001b[39m",
      "\u001b[31mIndexError\u001b[39m                                Traceback (most recent call last)",
      "\u001b[36mCell\u001b[39m\u001b[36m \u001b[39m\u001b[32mIn[1]\u001b[39m\u001b[32m, line 23\u001b[39m\n\u001b[32m     21\u001b[39m \u001b[38;5;66;03m# ✅ Step 3: Try to load each model from valid path\u001b[39;00m\n\u001b[32m     22\u001b[39m \u001b[38;5;28;01mfor\u001b[39;00m idx \u001b[38;5;129;01min\u001b[39;00m \u001b[38;5;28mrange\u001b[39m(top_n):\n\u001b[32m---> \u001b[39m\u001b[32m23\u001b[39m     run = \u001b[43mdf_runs\u001b[49m\u001b[43m.\u001b[49m\u001b[43miloc\u001b[49m\u001b[43m[\u001b[49m\u001b[43midx\u001b[49m\u001b[43m]\u001b[49m\n\u001b[32m     24\u001b[39m     run_id = run[\u001b[33m\"\u001b[39m\u001b[33mrun_id\u001b[39m\u001b[33m\"\u001b[39m]\n\u001b[32m     25\u001b[39m     model_name = run.get(\u001b[33m\"\u001b[39m\u001b[33mtags.model_name\u001b[39m\u001b[33m\"\u001b[39m, \u001b[33mf\u001b[39m\u001b[33m\"\u001b[39m\u001b[33mModel_\u001b[39m\u001b[38;5;132;01m{\u001b[39;00midx+\u001b[32m1\u001b[39m\u001b[38;5;132;01m}\u001b[39;00m\u001b[33m\"\u001b[39m)\n",
      "\u001b[36mFile \u001b[39m\u001b[32m~\\AppData\\Local\\Programs\\Python\\Python311\\Lib\\site-packages\\pandas\\core\\indexing.py:1191\u001b[39m, in \u001b[36m_LocationIndexer.__getitem__\u001b[39m\u001b[34m(self, key)\u001b[39m\n\u001b[32m   1189\u001b[39m maybe_callable = com.apply_if_callable(key, \u001b[38;5;28mself\u001b[39m.obj)\n\u001b[32m   1190\u001b[39m maybe_callable = \u001b[38;5;28mself\u001b[39m._check_deprecated_callable_usage(key, maybe_callable)\n\u001b[32m-> \u001b[39m\u001b[32m1191\u001b[39m \u001b[38;5;28;01mreturn\u001b[39;00m \u001b[38;5;28;43mself\u001b[39;49m\u001b[43m.\u001b[49m\u001b[43m_getitem_axis\u001b[49m\u001b[43m(\u001b[49m\u001b[43mmaybe_callable\u001b[49m\u001b[43m,\u001b[49m\u001b[43m \u001b[49m\u001b[43maxis\u001b[49m\u001b[43m=\u001b[49m\u001b[43maxis\u001b[49m\u001b[43m)\u001b[49m\n",
      "\u001b[36mFile \u001b[39m\u001b[32m~\\AppData\\Local\\Programs\\Python\\Python311\\Lib\\site-packages\\pandas\\core\\indexing.py:1752\u001b[39m, in \u001b[36m_iLocIndexer._getitem_axis\u001b[39m\u001b[34m(self, key, axis)\u001b[39m\n\u001b[32m   1749\u001b[39m     \u001b[38;5;28;01mraise\u001b[39;00m \u001b[38;5;167;01mTypeError\u001b[39;00m(\u001b[33m\"\u001b[39m\u001b[33mCannot index by location index with a non-integer key\u001b[39m\u001b[33m\"\u001b[39m)\n\u001b[32m   1751\u001b[39m \u001b[38;5;66;03m# validate the location\u001b[39;00m\n\u001b[32m-> \u001b[39m\u001b[32m1752\u001b[39m \u001b[38;5;28;43mself\u001b[39;49m\u001b[43m.\u001b[49m\u001b[43m_validate_integer\u001b[49m\u001b[43m(\u001b[49m\u001b[43mkey\u001b[49m\u001b[43m,\u001b[49m\u001b[43m \u001b[49m\u001b[43maxis\u001b[49m\u001b[43m)\u001b[49m\n\u001b[32m   1754\u001b[39m \u001b[38;5;28;01mreturn\u001b[39;00m \u001b[38;5;28mself\u001b[39m.obj._ixs(key, axis=axis)\n",
      "\u001b[36mFile \u001b[39m\u001b[32m~\\AppData\\Local\\Programs\\Python\\Python311\\Lib\\site-packages\\pandas\\core\\indexing.py:1685\u001b[39m, in \u001b[36m_iLocIndexer._validate_integer\u001b[39m\u001b[34m(self, key, axis)\u001b[39m\n\u001b[32m   1683\u001b[39m len_axis = \u001b[38;5;28mlen\u001b[39m(\u001b[38;5;28mself\u001b[39m.obj._get_axis(axis))\n\u001b[32m   1684\u001b[39m \u001b[38;5;28;01mif\u001b[39;00m key >= len_axis \u001b[38;5;129;01mor\u001b[39;00m key < -len_axis:\n\u001b[32m-> \u001b[39m\u001b[32m1685\u001b[39m     \u001b[38;5;28;01mraise\u001b[39;00m \u001b[38;5;167;01mIndexError\u001b[39;00m(\u001b[33m\"\u001b[39m\u001b[33msingle positional indexer is out-of-bounds\u001b[39m\u001b[33m\"\u001b[39m)\n",
      "\u001b[31mIndexError\u001b[39m: single positional indexer is out-of-bounds"
     ]
    }
   ],
   "source": [
    "import mlflow\n",
    "from mlflow.tracking import MlflowClient\n",
    "from mlflow.sklearn import load_model\n",
    "from sklearn.metrics import classification_report\n",
    "from gpt4all import GPT4All\n",
    "\n",
    "# ✅ Step 1: Connect to MLflow server\n",
    "mlflow.set_tracking_uri(\"http://127.0.0.1:5000\")\n",
    "client = MlflowClient()\n",
    "\n",
    "# ✅ Step 2: Get top N runs\n",
    "top_n = 3\n",
    "df_runs = mlflow.search_runs(order_by=[\"metrics.accuracy DESC\"])\n",
    "\n",
    "if df_runs.empty:\n",
    "    print(\"❌ No MLflow runs found.\")\n",
    "    exit()\n",
    "\n",
    "models_report = \"\"\n",
    "\n",
    "# ✅ Step 3: Try to load each model from valid path\n",
    "for idx in range(top_n):\n",
    "    run = df_runs.iloc[idx]\n",
    "    run_id = run[\"run_id\"]\n",
    "    model_name = run.get(\"tags.model_name\", f\"Model_{idx+1}\")\n",
    "    accuracy = run.get(\"metrics.accuracy\", \"N/A\")\n",
    "\n",
    "    # 🔍 List artifact paths\n",
    "    artifacts = client.list_artifacts(run_id)\n",
    "    model_paths = [a.path for a in artifacts if a.is_dir]\n",
    "    \n",
    "    # 🔁 Try to load model from possible paths\n",
    "    loaded = False\n",
    "    for path in model_paths:\n",
    "        try:\n",
    "            model_uri = f\"runs:/{run_id}/{path}\"\n",
    "            model = load_model(model_uri)\n",
    "            print(f\"✅ Loaded model from path: {path}\")\n",
    "            loaded = True\n",
    "            break\n",
    "        except Exception as e:\n",
    "            continue\n",
    "\n",
    "    if not loaded:\n",
    "        print(f\"❌ Could not load model for run {run_id}. Skipping.\")\n",
    "        continue\n",
    "\n",
    "    # ✅ Step 4: Predict and build report\n",
    "    y_pred = model.predict(X_test)\n",
    "    report = classification_report(y_test, y_pred)\n",
    "\n",
    "    models_report += f\"\\n### {model_name} (Run ID: {run_id}, Accuracy: {accuracy}) ###\\n{report}\\n\"\n",
    "\n",
    "# ✅ Step 5: Use GPT4All to compare models\n",
    "if models_report.strip():\n",
    "    llm = GPT4All(\"Llama-3.2-3B-Instruct-Q4_0.gguf\")\n",
    "    prompt = f\"Compare the following models and list the best one:\\n\\n{models_report}\"\n",
    "    response = llm.generate(prompt)\n",
    "    print(\"\\n🧠 AI Agent Recommendation:\\n\", response)\n",
    "else:\n",
    "    print(\"⚠️ No valid models to compare.\")\n"
   ]
  },
  {
   "cell_type": "code",
   "execution_count": 2,
   "id": "3ce83a35-1ef6-4c30-91f8-d472fbd2775e",
   "metadata": {},
   "outputs": [
    {
     "ename": "AttributeError",
     "evalue": "'MlflowClient' object has no attribute 'list_experiments'",
     "output_type": "error",
     "traceback": [
      "\u001b[31m---------------------------------------------------------------------------\u001b[39m",
      "\u001b[31mAttributeError\u001b[39m                            Traceback (most recent call last)",
      "\u001b[36mCell\u001b[39m\u001b[36m \u001b[39m\u001b[32mIn[2]\u001b[39m\u001b[32m, line 7\u001b[39m\n\u001b[32m      4\u001b[39m client = MlflowClient()\n\u001b[32m      6\u001b[39m \u001b[38;5;66;03m# List experiments\u001b[39;00m\n\u001b[32m----> \u001b[39m\u001b[32m7\u001b[39m experiments = \u001b[43mclient\u001b[49m\u001b[43m.\u001b[49m\u001b[43mlist_experiments\u001b[49m()\n\u001b[32m      8\u001b[39m \u001b[38;5;28mprint\u001b[39m(\u001b[33m\"\u001b[39m\u001b[33mAvailable Experiments:\u001b[39m\u001b[33m\"\u001b[39m)\n\u001b[32m      9\u001b[39m \u001b[38;5;28;01mfor\u001b[39;00m exp \u001b[38;5;129;01min\u001b[39;00m experiments:\n",
      "\u001b[31mAttributeError\u001b[39m: 'MlflowClient' object has no attribute 'list_experiments'"
     ]
    }
   ],
   "source": [
    "import mlflow\n",
    "from mlflow.tracking import MlflowClient\n",
    "mlflow.set_tracking_uri(\"http://127.0.0.1:5000\")\n",
    "client = MlflowClient()\n",
    "\n",
    "# List experiments\n",
    "experiments = client.list_experiments()\n",
    "print(\"Available Experiments:\")\n",
    "for exp in experiments:\n",
    "    print(f\" - {exp.name} (ID: {exp.experiment_id})\")\n",
    "\n",
    "# Use the right experiment\n",
    "experiment_id = \"1\"  # Replace this with your actual experiment ID\n",
    "df_runs = mlflow.search_runs(experiment_ids=[experiment_id], order_by=[\"metrics.accuracy DESC\"])\n",
    "\n",
    "if df_runs.empty:\n",
    "    print(\"❌ No MLflow runs found in the selected experiment.\")\n",
    "    exit()\n"
   ]
  },
  {
   "cell_type": "code",
   "execution_count": null,
   "id": "367eb58c-6fa0-42b2-bf3a-6f2496e31dd5",
   "metadata": {},
   "outputs": [],
   "source": []
  }
 ],
 "metadata": {
  "kernelspec": {
   "display_name": "Python 3 (ipykernel)",
   "language": "python",
   "name": "python3"
  },
  "language_info": {
   "codemirror_mode": {
    "name": "ipython",
    "version": 3
   },
   "file_extension": ".py",
   "mimetype": "text/x-python",
   "name": "python",
   "nbconvert_exporter": "python",
   "pygments_lexer": "ipython3",
   "version": "3.11.9"
  }
 },
 "nbformat": 4,
 "nbformat_minor": 5
}
